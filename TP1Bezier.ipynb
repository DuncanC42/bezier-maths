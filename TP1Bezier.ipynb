{
 "cells": [
  {
   "cell_type": "markdown",
   "metadata": {},
   "source": [
    "En cas de problème particulier (lors de l'execution d'une cellule), on pourra relancer le noyau jupyter.\n",
    "\n",
    "Vos réponses (codes ou réponses) doivent être placées entre les balises :`VOTRE CODE ICI` ou \"VOTRE REPONSE ICI\", N'oubliez pas d'indiquer vos noms et prénoms"
   ]
  },
  {
   "cell_type": "code",
   "execution_count": null,
   "metadata": {},
   "outputs": [],
   "source": [
    "NOMS et PRENOMS = \"Mwa\"\n"
   ]
  },
  {
   "cell_type": "markdown",
   "metadata": {},
   "source": [
    "---"
   ]
  },
  {
   "cell_type": "markdown",
   "metadata": {},
   "source": [
    "# <p style=\"text-align: center;\"> Projet 1 modélisation  <br> Courbes et sous courbes de Bézier, courbes de Bézier rationnelles\n",
    "</p>"
   ]
  },
  {
   "cell_type": "markdown",
   "metadata": {},
   "source": [
    "## <span style=\"color:red\">  **Consignes générales :** </span>\n",
    "1. Lire attentivement le sujet\n",
    "2. les structures de données ainsi que  les entrées et sorties des méthodes demandées (et leur type) sont **imposées**. Il ne faut pas les modifier\n",
    "3. Pour qu'une cellule de code soit prise en compte elle doit être executée.\n",
    "4. Ne **pas ajouter ou effacer de cellule**. Si, néanmoins, vous ajoutez  une cellule pour des tests, il faudra la supprimer avant de déposer votre notebook. Il est cependant préférable de faire vos test sur un autre notebook (ou ide, etc).\n",
    "5. Si vous faites une modification dans une cellule, il faut \"l'executer\" pour qu'elle soit prise en compte.\n",
    "6. Des tests de validation de certaines méthodes sont proposés, il est nécessaire de les passer mais pas suffisant !\n",
    "7. Vous pouvez utiliser, en les adaptant,  les  méthodes obtenues durant les séances de tp.\n",
    "8. Dans la cellule ci-dessous, vous pouvez ajouter les fonctions des tp précédents et dont vous avez besoin (**Bernstein**, etc).\n",
    "9. Enfin lors du dépot sur moodle, **ne pas modifier le nom du fichier.**"
   ]
  },
  {
   "cell_type": "markdown",
   "metadata": {},
   "source": [
    "### <ins> Avec les polynômes de Bernstein </ins>\n",
    "\n",
    "Pour $n+1$ points de contrôle $(\\mathbf{P}_0, \\dots, \\mathbf{P}_n)$, on définit la courbe de Bézier   \n",
    "$$\\sum_{i=0}^n B_i^n(t)\\mathbf{P}_i, \\quad t \\in[0,1] $$ \n",
    "où les $B_i^n$ sont les polynômes de Bernstein.  \n",
    "La suite des points $\\mathbf{P}_0, \\dots, \\mathbf{P}_n$ forme le polygone de contrôle.  \n",
    "Les $n+1$ polynômes de Bernstein sont donnés par\n",
    "$$\n",
    "B_i^n(u) = \\begin{pmatrix} n \\\\ i \\end{pmatrix} u^i \\left( 1-u \\right)^{n-i} $$"
   ]
  },
  {
   "cell_type": "markdown",
   "metadata": {},
   "source": [
    "Ecrire une fonction qui calcule le polynôme de Bernstein $B_i^n(t)$ pour $p$ valeurs de $t$  \n",
    "On pourra obtenir les coefficients binomiaux on utilisant le module **math**, par exemple pour $\\begin{pmatrix} n \\\\ i \\end{pmatrix}$, on écrira \n",
    "```python\n",
    "from math import comb\n",
    "comb(n,i)\n",
    "```"
   ]
  },
  {
   "cell_type": "code",
   "execution_count": 101,
   "metadata": {
    "jupyter": {
     "is_executing": true
    }
   },
   "outputs": [],
   "source": [
    "%matplotlib ipympl\n",
    "\n",
    "import numpy as np\n",
    "import matplotlib.pyplot as plt\n",
    "from math import comb,pi\n",
    "\n",
    "def onclick(event):\n",
    "    PtContX.append(event.xdata)\n",
    "    PtContY.append(event.ydata)\n",
    "    if event.button ==3:\n",
    "        ax1.plot(PtContX,PtContY,'ro--')    \n",
    "        plt.disconnect(cid)\n",
    "        \n",
    "\n",
    "    ax1.plot(PtContX,PtContY,'ro--') \n",
    "\n",
    "\n",
    "def Bernstein(n,k,t):\n",
    "    # Votre code ici\n",
    "    return comb(n,k)*(t**k)*((1-t)**(n-k))"
   ]
  },
  {
   "cell_type": "markdown",
   "metadata": {},
   "source": [
    "### Partition de l'unité\n",
    "Tracer sur une même figure les  polynômes  de Bernstein $ B_i^n, \\; 0 \\leq i \\leq n $, puis tracer, sur la même figure leur somme $S= \\sum_{i=0}^n  B_i^n$.  "
   ]
  },
  {
   "cell_type": "code",
   "execution_count": 102,
   "metadata": {
    "jupyter": {
     "is_executing": true
    }
   },
   "outputs": [],
   "source": [
    "def partition_unit(n):\n",
    "    \"\"\" On vérifie graphiquement que les polynômes de Bernstein\n",
    "        de degré n forment une partition de l'unité \"\"\"\n",
    "    # Votre code ici\n",
    "    t = np.linspace(0,1,100)\n",
    "    B = np.zeros((n+1,100))\n",
    "    for k in range(n+1):\n",
    "        B[k] = Bernstein(n,k,t)\n",
    "    plt.figure()\n",
    "    plt.plot(t,np.sum(B,axis=0))\n",
    "    plt.title(\"Partition de l'unité\")\n",
    "    plt.show()"
   ]
  },
  {
   "cell_type": "markdown",
   "metadata": {},
   "source": [
    "YOUR ANSWER HERE"
   ]
  },
  {
   "cell_type": "markdown",
   "metadata": {},
   "source": [
    "Ecrire une fonction qui calcule en $p$ valeurs de $t$ (par défaut 200 valeurs uniformément répartis entre 0 et 1) la courbe de Bézier,  $ {\\cal B}^{n}$.\n",
    "Les points de contrôle sont passés en paramètres sous  la forme d'un array numpy."
   ]
  },
  {
   "cell_type": "code",
   "execution_count": 103,
   "metadata": {},
   "outputs": [],
   "source": [
    "def Bezier(points, num=200):\n",
    "    \"\"\"Courbe de Bézier associée aux points de contrôle\n",
    "        passés en paramètre d'entrée.\n",
    "    \"\"\"\n",
    "    # Votre code ici\n",
    "    n = len(points)-1\n",
    "    t = np.linspace(0,1,num)\n",
    "    B = np.zeros((n+1,num))\n",
    "    for k in range(n+1):\n",
    "        B[k] = Bernstein(n,k,t)\n",
    "    C = np.zeros((2,num))\n",
    "    for k in range(n+1):\n",
    "        C += np.outer(points[k], B[k])\n",
    "    return C\n",
    "    "
   ]
  },
  {
   "cell_type": "markdown",
   "metadata": {},
   "source": [
    "Enfin, tracer sur la **même fenêtre graphique** d'un coté la courbe de Bézier correspondant à des points de contrôle obtenus à la souris, et d'un autre coté les polynômes de Bernstein associés (leur nombre dépendra donc du nombre de points de contrôle).  \n",
    "On utilisera pour cela `subplot` :\n",
    "```python\n",
    "fig = plt.figure()        # On crée la fenêtre graphique\n",
    "ax = fig.add_subplot(121) # On crée la sous-figure  \n",
    "ax.set_xlim([0, 5])       # On fixe la taille de la sous-figure\n",
    "ax.set_ylim([0, 5])       # pour éviter son reimensionnement après \n",
    "                          # les clics de souris\n",
    "```"
   ]
  },
  {
   "cell_type": "code",
   "execution_count": 110,
   "metadata": {},
   "outputs": [
    {
     "data": {
      "text/plain": [
       "\" Attention on ne fait que l'acquisition des points dans cette cellule\\n    les courbes s'obtiennent en exécutant la cellule suivante.\\n    Ce n'est pas très intuitif, d'où la remarque ci-dessous (modification de\\n    la fonction onclick).\\n    Laissé à l'appréciation de l'étudiant.\\n\""
      ]
     },
     "execution_count": 110,
     "metadata": {},
     "output_type": "execute_result"
    },
    {
     "data": {
      "application/vnd.jupyter.widget-view+json": {
       "model_id": "b604a5bd195a49c7aa01d241527d3c8e",
       "version_major": 2,
       "version_minor": 0
      },
      "image/png": "[encoded data removed]",
      "text/html": [
       "\n",
       "            <div style=\"display: inline-block;\">\n",
       "                <div class=\"jupyter-widgets widget-label\" style=\"text-align: center;\">\n",
       "                    Figure\n",
       "                </div>\n",
       "                <img src='data:image/png;base64,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' width=640.0/>\n",
       "            </div>\n",
       "        "
      ],
      "text/plain": [
       "Canvas(toolbar=Toolbar(toolitems=[('Home', 'Reset original view', 'home', 'home'), ('Back', 'Back to previous …"
      ]
     },
     "metadata": {},
     "output_type": "display_data"
    }
   ],
   "source": [
    "fig = plt.figure()\n",
    "\n",
    "ax1 = fig.add_subplot(121)\n",
    "ax2 = fig.add_subplot(122)\n",
    "fig.subplots_adjust(wspace=0.4)\n",
    "ax1.set_xlim([0, 5])\n",
    "ax1.set_ylim([0, 5])\n",
    "PtContX=[]\n",
    "PtContY=[]\n",
    "\n",
    "cid = fig.canvas.mpl_connect('button_press_event', onclick)\n",
    "\"\"\" Attention on ne fait que l'acquisition des points dans cette cellule\n",
    "    les courbes s'obtiennent en exécutant la cellule suivante.\n",
    "    Ce n'est pas très intuitif, d'où la remarque ci-dessous (modification de\n",
    "    la fonction onclick).\n",
    "    Laissé à l'appréciation de l'étudiant.\n",
    "\"\"\""
   ]
  },
  {
   "cell_type": "code",
   "execution_count": 111,
   "metadata": {},
   "outputs": [],
   "source": [
    "\"\"\" Remarque : on peut également modifier la fonction onclick et ajouter les commandes\n",
    "ci-dessous lors du clic droit (après la déconnexion à la figure : plt.disconnect).\n",
    "On obtiendra alors le tracé des courbes juste après le dernier clic. \n",
    "\"\"\"\n",
    "# Juste après :\n",
    "N = len(PtContX)\n",
    "points = np.array([PtContX,PtContY]).T\n",
    "c = Bezier(points)\n",
    "if N > 1:  # il faut au moins 2 points\n",
    "# Calcul de la courbe de Bézier\n",
    "    \n",
    "    \n",
    "    # Tracé sur ax1\n",
    "    ax1.plot(PtContX, PtContY, 'ro--', label=\"Polygone de contrôle\")\n",
    "    ax1.plot(c[0,:], c[1,:], 'b-', label=\"Courbe de Bézier\")\n",
    "    ax1.legend()\n",
    "    \n",
    "    # Tracé sur ax2 des B_i^n\n",
    "    ax2.set_title(\"Polynômes de Bernstein\")\n",
    "    t = np.linspace(0,1,200)\n",
    "    n = N-1\n",
    "    somme = np.zeros_like(t)\n",
    "    for i in range(n+1):\n",
    "        Bi = Bernstein(n, i, t)\n",
    "        ax2.plot(t, Bi, label=f\"B_{i}^{n}\")\n",
    "        somme += Bi\n",
    "    ax2.plot(t, somme, 'k--', linewidth=2, label=\"Somme\")\n",
    "    ax2.legend()\n",
    "\n"
   ]
  },
  {
   "cell_type": "markdown",
   "metadata": {},
   "source": [
    "### Sous-courbes de Bézier\n",
    "\n",
    "On souhaite découper une courbe de Bézier, ${\\cal B}^{n}$, de degré $n$ en deux morceaux ${\\cal C}^{n}$ et ${\\cal D}^{n}$. Chaque morceau sera une courbe de Bézier de même degré $n$.  \n",
    "La courbe de Bézier ${\\cal B}^{n}$ est déterminée par les $n+1$ points de contrôle $P_0, P_1,\\ldots,P_n$.  \n",
    "Soit $B(t_0)$ le point de la courbe de Bézier  ${\\cal B}^{n}$ où l'on souhaite ``découper''. On va démontrer **numériquement** que les $n+1$ points de contrôle de chaque morceau sont donnés par l'algorithme de De Casteljau. "
   ]
  },
  {
   "cell_type": "markdown",
   "metadata": {},
   "source": [
    "<div>\n",
    "<img src=\"Principe_algorithme_de_casteljau.png-1.png\" width=\"420\"/>\n",
    "</div>"
   ]
  },
  {
   "cell_type": "markdown",
   "metadata": {},
   "source": [
    "Ecrire une fonction  **DeCasteljau(P,t0)**, prenant en paramètres d'entrées $n+1$ points et un scalaire $t_0 \\in [0,1]$ et qui renvoie le point $P_{t_0}$  de la courbe de Bézier de paramètre $t_0$"
   ]
  },
  {
   "cell_type": "code",
   "execution_count": 65,
   "metadata": {},
   "outputs": [],
   "source": [
    "def DeCasteljau(P,t0):\n",
    "    \"\"\"P est un array (2,n+1) formé des coordonnées des\n",
    "        points de contrôle. t0 est le paramètre.\n",
    "        La fonction renvoie le point P0 de la courbe de Bézier correspondant\n",
    "        au paramètre t0 sous la forme d'un array à deux lignes et une colonne.\n",
    "    \"\"\"\n",
    "    # Votre code ici\n",
    "    n = len(P[0]) -1\n",
    "    Q = np.copy(P)\n",
    "    for i in range(n, 0, -1):\n",
    "        for j in range(i):\n",
    "            Q[0,j] = (1-t0)*Q[0,j] + t0*Q[0,j+1]\n",
    "            Q[1,j] = (1-t0)*Q[1,j] + t0*Q[1,j+1]\n",
    "    P0 = np.array([[Q[0][0]], [Q[1][0]]])\n",
    "    return P0"
   ]
  },
  {
   "cell_type": "code",
   "execution_count": 66,
   "metadata": {},
   "outputs": [],
   "source": [
    "\"\"\"Vérifiez vos résultats sur les tests suivants\"\"\"\n",
    "Px=[1.1129942247944489, 0.8468651925363844, 3.2662200312460614, 4.209768418342835]\n",
    "Py=[0.3947177903476734, 1.382271902901786, 1.8828130284429112, 0.6517524223823054]\n",
    "\n",
    "assert all(np.round(DeCasteljau(np.array([Px,Py]),0.3),4) == np.array([[1.4862],[1.1184]]))\n"
   ]
  },
  {
   "cell_type": "markdown",
   "metadata": {},
   "source": []
  },
  {
   "cell_type": "markdown",
   "metadata": {},
   "source": [
    "Modifier la fonction précédente pour qu'elle renvoie le point $P_{t_0}$  de la courbe de Bézier de paramètre $t_0$ ainsi que deux tableaux numpy, $P_1, P_2$ de $n+1$ points constitués des points intermédiaires qui ont servi au calcul du  point de paramètre $t_0$ par l'algorithme de De Casteljau.  \n",
    "Le premier tableau, $P_1$, est formé du premier point de contrôle et des **premiers** points de chaque étape de l'algorithme de De Casteljau. Le deuxième, $P_2$ est formé du dernier point de contrôle et des **derniers** points de chaque étape de l'algorithme de De Casteljau mais ordonné dans le sens inverse (voir exemple ci-dessous).  \n",
    "Reprenons l'exemple de la figure ci-dessus, on obtiendra ainsi\n",
    "$$ P_1=\\{P_0^0, P_0^1, P_0^2,P_0^3  \\} \\; \\text{et} \\; P_2=\\{P_0^3,P_1^2,P_2^1,P_3^0 \\}  $$"
   ]
  },
  {
   "cell_type": "code",
   "execution_count": 67,
   "metadata": {},
   "outputs": [],
   "source": [
    "def DeCasteljau2(P, t0):\n",
    "    \"\"\"\n",
    "    P est un array (2, n+1) formé des coordonnées des points de contrôle. \n",
    "    t0 est le paramètre. La fonction renvoie le point P0 de la courbe de Bézier correspondant \n",
    "    au paramètre t0 ainsi que les deux array P1 et P2 (coordonnées de points) décrits \n",
    "    précédemment, chacun de ces tableaux est de dimension (2, n+1).\n",
    "    On gérera les exceptions avec \"raise ValueError()\" (si le paramètre t0 n'appartient pas à ]0;1[).\n",
    "    \"\"\"\n",
    "    if not (0 < t0 < 1):\n",
    "        raise ValueError(\"t0 must be in the interval ]0, 1[\")\n",
    "    \n",
    "    n = len(P[0]) - 1\n",
    "    Q = np.copy(P)\n",
    "    P1 = np.zeros((2, n + 1))\n",
    "    P2 = np.zeros((2, n + 1))\n",
    "    \n",
    "    P1[:, 0] = P[:, 0]\n",
    "    P2[:, 0] = P[:, n]\n",
    "\n",
    "    for i in range(1, n + 1):\n",
    "        for j in range(n - i + 1):\n",
    "            Q[0, j] = (1 - t0) * Q[0, j] + t0 * Q[0, j + 1]\n",
    "            Q[1, j] = (1 - t0) * Q[1, j] + t0 * Q[1, j + 1]\n",
    "        P1[:, i] = Q[:, 0]\n",
    "        P2[:, i] = Q[:, n - i]\n",
    "\n",
    "    P0 = np.array([[Q[0, 0]], [Q[1, 0]]])\n",
    "    P2 = P2[:, ::-1]  # Inverser l'ordre des colonnes de P2\n",
    "    \n",
    "    return P0, P1, P2"
   ]
  },
  {
   "cell_type": "code",
   "execution_count": 68,
   "metadata": {},
   "outputs": [
    {
     "data": {
      "text/plain": [
       "np.True_"
      ]
     },
     "execution_count": 68,
     "metadata": {},
     "output_type": "execute_result"
    }
   ],
   "source": [
    "\"\"\"Vérifiez vos résultats sur les tests suivants\"\"\"\n",
    "np.all(np.round(DeCasteljau2(np.array([Px,Py]),0.3)[0],4) == np.array([[1.4862],[1.1184]]))\n",
    "np.all(np.round(DeCasteljau2(np.array([Px,Py]),0.3)[1],4) == np.array([[1.1130, 1.0332, 1.1950, 1.4862],[0.3947,0.691 , 0.9434, 1.1184]]))"
   ]
  },
  {
   "cell_type": "markdown",
   "metadata": {},
   "source": [
    "Dans cette dernière partie, on souhaite faire l'acquisition des points de contrôle à la souris, les représenter sur la figure (ainsi que le polygône de contrôle correspondant) puis tracer sur la même figure la courbes de Bézier associée à ces points ainsi  que les deux sous courbes de Bézier associées (l'utisateur choisira le paramètre de coupure t0).  \n",
    "Vous devriez, au final, avoir une figure semblable à celle ci-dessous."
   ]
  },
  {
   "cell_type": "markdown",
   "metadata": {},
   "source": [
    "<div>\n",
    "<img src=\"SousCourbes.png\" width=\"520\"/>\n",
    "</div>"
   ]
  },
  {
   "cell_type": "code",
   "execution_count": 106,
   "metadata": {},
   "outputs": [
    {
     "data": {
      "application/vnd.jupyter.widget-view+json": {
       "model_id": "c10c76b30fa644d08b8507540e2602d0",
       "version_major": 2,
       "version_minor": 0
      },
      "image/png": "[encoded data removed]",
      "text/html": [
       "\n",
       "            <div style=\"display: inline-block;\">\n",
       "                <div class=\"jupyter-widgets widget-label\" style=\"text-align: center;\">\n",
       "                    Figure\n",
       "                </div>\n",
       "                <img src='data:image/png;base64,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' width=640.0/>\n",
       "            </div>\n",
       "        "
      ],
      "text/plain": [
       "Canvas(toolbar=Toolbar(toolitems=[('Home', 'Reset original view', 'home', 'home'), ('Back', 'Back to previous …"
      ]
     },
     "metadata": {},
     "output_type": "display_data"
    }
   ],
   "source": [
    "# Acquisition des points de contrôle\n",
    "# Votre code ici\n",
    "PtContX=[]\n",
    "PtContY=[]\n",
    "fig = plt.figure()\n",
    "ax1 = fig.add_subplot(121)\n",
    "ax2 = fig.add_subplot(122)\n",
    "fig.subplots_adjust(wspace=0.4)\n",
    "ax1.set_xlim([0, 5])\n",
    "ax1.set_ylim([0, 5])\n",
    "cid = fig.canvas.mpl_connect('button_press_event', onclick)"
   ]
  },
  {
   "cell_type": "code",
   "execution_count": 107,
   "metadata": {},
   "outputs": [],
   "source": [
    "def SousCourbes(PtContX,PtContY,t0):\n",
    "    \"\"\" Les coordonnées des points de contrôle sont donnés par les listes PtContX et PtContY (ici se sont des\n",
    "    listes (comme dans les tp précédents). Le paramètre du point de découpe est t0.\n",
    "    Toutes les directives de tracé se font dans cette fonction, elle ne retourne donc rien. On l'appelle pour effectuer \n",
    "    les tracés.\n",
    "    \"\"\"\n",
    "    # Votre code ici\n",
    "    n = len(PtContX) - 1\n",
    "    points = np.array([PtContX, PtContY]).T\n",
    "    c = Bezier(points)\n",
    "    ax2.plot(c[0], c[1], 'b')\n",
    "    ax2.plot(PtContX, PtContY, 'ro--')\n",
    "    \n",
    "SousCourbes(PtContX,PtContY,0.35)   "
   ]
  },
  {
   "cell_type": "markdown",
   "metadata": {},
   "source": [
    "### Bézier rationnelles\n",
    "  \n",
    "\n",
    "Dans cette partie on s'interesse aux courbes de Bézier rationnelles, $ {\\cal B}^{n}$.  \n",
    "L'idée est d'ajouter des poids, $\\omega_i$, aux points de contrôle $P_i$.  \n",
    "\n",
    "Pour $n+1$ points de contrôle $(\\mathbf{P}_0, \\dots, \\mathbf{P}_n)$, et $n+1$ poids $\\omega_i, i\\in\\{0,\\ldots,n\\}$ **non tous nuls**, on définit la courbe de Bézier rationnelle  \n",
    "$$B_r(t)=\\displaystyle \\frac{\\displaystyle\\sum_{i=0}^n B_i^n(t) \\omega_i \\mathbf{P}_i }{\\displaystyle\\sum_{i=0}^n B_i^n(t) \\omega_i } , \\quad t \\in[0,1] $$  \n",
    "où les $B_i^n$ sont les polynômes de Bernstein et la suite des points $\\mathbf{P}_0, \\dots, \\mathbf{P}_n$ forme le polygone de contrôle."
   ]
  },
  {
   "cell_type": "markdown",
   "metadata": {},
   "source": [
    "Que se passe t'il si tous les poids sont égaux, quelle courbe obtient-on ?  \n",
    "Justifiez brièvement (mais clairement) votre réponse dans la cellule ci-dessus."
   ]
  },
  {
   "cell_type": "markdown",
   "metadata": {},
   "source": [
    "YOUR ANSWER HERE :\n",
    "\n",
    "Si tous les poids 𝜔𝑖 sont égaux, disons 𝜔𝑖=𝜔 pour tout 𝑖, la formule de la courbe de Bézier rationnelle devient \n",
    "\n",
    "$$B_r(t)=\\displaystyle \\frac{\\displaystyle\\sum_{i=0}^n B_i^n(t) \\omega \\mathbf{P}_i }{\\displaystyle\\sum_{i=0}^n B_i^n(t) \\omega }$$  \n",
    "\n",
    "En simplifiant, puisque 𝜔 est une constante commune au numérateur et au dénominateur, on peut la factoriser et l'annuler :\n",
    "\n",
    "$$B_r(t)=\\displaystyle \\frac{\\omega \\displaystyle\\sum_{i=0}^n B_i^n(t)  \\mathbf{P}_i }{\\omega\\displaystyle\\sum_{i=0}^n B_i^n(t)}  = \\displaystyle \\frac{ \\displaystyle\\sum_{i=0}^n B_i^n(t)  \\mathbf{P}_i }{\\displaystyle\\sum_{i=0}^n B_i^n(t)}$$\n",
    "\n",
    "Nous savons que la somme des polynômes de Bernstein est égale à 1 :\n",
    "\n",
    "$${\\displaystyle\\sum_{i=0}^n B_i^n(t)} = 1 $$\n",
    "\n",
    "Par conséquent, l'équation se simplifie en :\n",
    "\n",
    "$$B_r(t)= {\\displaystyle\\sum_{i=0}^n B_i^n(t)}\\mathbf{P}_i$$\n",
    "\n",
    "\n",
    "Cette équation correspond exactement à la définition d'une courbe de Bézier classique de degré 𝑛. Donc, si tous les poids sont égaux, la courbe de Bézier rationnelle devient une courbe de Bézier classique.\n",
    "\n",
    "\n"
   ]
  },
  {
   "cell_type": "markdown",
   "metadata": {},
   "source": [
    "Ecrire une fonction qui prend en paramètre d'entrée les points de contrôle (sous forme d'un **tableau numpy** à 2 lignes et n+1 colonnes, une **liste** de n+1 poids ainsi qu'un paramètre $t \\in [0,1]$ et qui renvoie le point de la courbe de Bézier rationnelle correspondant à $t$.   "
   ]
  },
  {
   "cell_type": "code",
   "execution_count": 86,
   "metadata": {},
   "outputs": [],
   "source": [
    "def BezierRat(Pc, L, t):\n",
    "    \"\"\"\n",
    "    Courbe de Bézier rationnelle associée aux points de contrôle Pc\n",
    "    passés en paramètre d'entrée, une liste L de poids et un\n",
    "    paramètre t.\n",
    "    \n",
    "    Args:\n",
    "        Pc : Tableau numpy de points de contrôle (2 lignes x n colonnes)\n",
    "        L : Liste des poids associés aux points\n",
    "        t : Paramètre entre 0 et 1\n",
    "    \n",
    "    Returns:\n",
    "        Point Pt de la courbe au paramètre t sous forme de tableau numpy 2x1\n",
    "    \"\"\"\n",
    "    # Vérifie si tous les poids sont nuls\n",
    "    if all(w == 0 for w in L):\n",
    "        raise ValueError(\"Tous les poids sont nuls\")\n",
    "    \n",
    "    n = len(L) - 1  # Degré de la courbe\n",
    "    \n",
    "    # Initialisation des numérateurs et dénominateur\n",
    "    num = np.zeros((2,1))\n",
    "    denom = 0\n",
    "    \n",
    "    # Pour chaque point de contrôle\n",
    "    for i in range(n + 1):\n",
    "        # Calcul du coefficient binomial\n",
    "        coef = 1\n",
    "        for k in range(i):\n",
    "            coef *= (n - k)\n",
    "            coef //= (k + 1)\n",
    "        \n",
    "        # Calcul du terme de Bernstein\n",
    "        bernstein = coef * (1-t)**(n-i) * t**i\n",
    "        \n",
    "        # Mise à jour des numérateurs et dénominateur\n",
    "        num += L[i] * bernstein * Pc[:,i:i+1]\n",
    "        denom += L[i] * bernstein\n",
    "    \n",
    "    # Calcul du point final\n",
    "    return num/denom"
   ]
  },
  {
   "cell_type": "code",
   "execution_count": 72,
   "metadata": {},
   "outputs": [
    {
     "data": {
      "text/plain": [
       "np.True_"
      ]
     },
     "execution_count": 72,
     "metadata": {},
     "output_type": "execute_result"
    }
   ],
   "source": [
    "\"\"\"Vérifiez vos résultats sur les tests suivants\"\"\"\n",
    "np.all(np.round(BezierRat(np.array([Px,Py]),[4,4,4,4],0.5),4)==np.array([[2.2078],[1.3552]]))\n"
   ]
  },
  {
   "cell_type": "markdown",
   "metadata": {},
   "source": [
    "Modifier la fonction précédente pour pouvoir passer un vecteur de paramètres (t = np.linspace(0,1,100) par exemple). "
   ]
  },
  {
   "cell_type": "code",
   "execution_count": 73,
   "metadata": {},
   "outputs": [],
   "source": [
    "def BezierRatVect(Pc,L,t):\n",
    "   \"\"\"Courbe de Bézier rationnelle associée aux points de contrôle Pc\n",
    "      passés en paramètre d'entrée, une liste L de poids et un vecteur\n",
    "      de paramètre t.\n",
    "      La fonction renvoie les points Pts de la courbe correpondant aux paramètres t\n",
    "      On gérera une exception si tous les poids sont nuls (raise ValueError())\n",
    "   \"\"\"\n",
    "   # Votre code ici\n",
    "   if all(w == 0 for w in L):\n",
    "      raise ValueError(\"Tous les poids sont nuls\")\n",
    "   n = len(L) - 1\n",
    "   num = np.zeros((2, len(t)))\n",
    "   denom = np.zeros(len(t))\n",
    "   for i in range(n + 1):\n",
    "      coef = 1\n",
    "      for k in range(i):\n",
    "         coef *= (n - k)\n",
    "         coef //= (k + 1)\n",
    "      bernstein = coef * (1-t)**(n-i) * t**i\n",
    "      num += L[i] * bernstein * Pc[:,i:i+1]\n",
    "      denom += L[i] * bernstein\n",
    "   return num/denom"
   ]
  },
  {
   "cell_type": "code",
   "execution_count": 74,
   "metadata": {},
   "outputs": [
    {
     "data": {
      "text/plain": [
       "np.True_"
      ]
     },
     "execution_count": 74,
     "metadata": {},
     "output_type": "execute_result"
    }
   ],
   "source": [
    "\"\"\"Vérifiez vos résultats sur les tests suivants\"\"\"\n",
    "np.all(np.round(BezierRatVect(np.array([Px,Py]),[4,4,4,4],np.linspace(0,1,6)),4)==np.array([[1.113 , 1.2423, 1.8163, 2.6354, 3.4998, 4.2098],\n",
    "[0.3947, 0.9189, 1.2664, 1.3775, 1.1926, 0.6518]]))\n"
   ]
  },
  {
   "cell_type": "markdown",
   "metadata": {},
   "source": [
    "Ecrire une fonction qui prend comme paramètre d'entrée les points de contrôle (sous forme d'un tableau numpy) ainsi qu'une liste, L,  de poids et qui trace sur une même figure les points de contrôle, le polygone de contrôle et la courbe de Bézier rationnelle (cubique) associée à ces points et ces poids. "
   ]
  },
  {
   "cell_type": "code",
   "execution_count": 83,
   "metadata": {},
   "outputs": [
    {
     "data": {
      "application/vnd.jupyter.widget-view+json": {
       "model_id": "9a4469aaa04e45f680b0c235500527ab",
       "version_major": 2,
       "version_minor": 0
      },
      "image/png": "[encoded data removed]",
      "text/html": [
       "\n",
       "            <div style=\"display: inline-block;\">\n",
       "                <div class=\"jupyter-widgets widget-label\" style=\"text-align: center;\">\n",
       "                    Figure 15\n",
       "                </div>\n",
       "                <img src='data:image/png;base64,iVBORw0KGgoAAAANSUhEUgAAAoAAAAHgCAYAAAA10dzkAAAAOnRFWHRTb2Z0d2FyZQBNYXRwbG90bGliIHZlcnNpb24zLjEwLjAsIGh0dHBzOi8vbWF0cGxvdGxpYi5vcmcvlHJYcgAAAAlwSFlzAAAPYQAAD2EBqD+naQAAMvVJREFUeJzt3Xl4lOX59vFzkpAEIRnZtyTsiwgomxoECghYVAQpVNFS9Ke2KiKUutRWK1r6BrXtodZKxVrcxY3NBRQXAogoIFRERFAwoAEEJIEAE0jm/eNymEwSFMjyTHJ/P8fxHDPzzEy4IEOeM/fqCwaDQQEAAMAZMV4XAAAAgMpFAAQAAHAMARAAAMAxBEAAAADHEAABAAAcQwAEAABwDAEQAADAMQRAAAAAxxAAAQAAHEMABAAAcAwBEAAAwDEEQAAAAMcQAAEAABxDAAQAAHAMARAAAMAxBEAAAADHEAABAAAcQwAEAABwDAEQAADAMQRAAAAAxxAAAQAAHEMABAAAcAwBEAAAwDEEQAAAAMcQAAEAABxDAAQAAHAMARAAAMAxBEAAAADHEAABAAAcQwAEAABwDAEQAADAMQRAAAAAxxAAAQAAHEMABAAAcAwBEAAAwDEEQAAAAMcQAAEAABxDAAQAAHAMARAAAMAxBEAAAADHEAABAAAcQwAEAABwDAEQAADAMQRAAAAAxxAAAQAAHEMABAAAcAwBEAAAwDEEQAAAAMcQAAEAABxDAAQAAHAMARAAAMAxBEAAAADHOBsAJ0+eLJ/PF3E0btzY67IAAAAqXJzXBXjp9NNP19tvv330cWxsrIfVAAAAVA6nA2BcXBytfgAAwDnOdgFL0saNG9W0aVO1bNlSl112mb766iuvSwIAAKhwvmAwGPS6CC/Mnz9fBw4cULt27bRjxw5NmTJFn3/+udatW6d69eqV+p5AIKBAIHD0cWFhofbs2aN69erJ5/NVVukAAKAMgsGg9u3bp6ZNmyomxs22MGcDYHF5eXlq3bq1br31Vk2aNKnU10yePFl33313JVcGAAAqwtatW5WSkuJ1GZ4gABYxaNAgtWnTRtOmTSv1+eItgDk5OUpLS9PWrVuVnJxcWWUCAIAyyM3NVWpqqvbu3Su/3+91OZ5wehJIUYFAQOvXr1efPn2O+ZqEhAQlJCSUOJ+cnEwABACginF5+JabHd+Sbr75ZmVmZmrz5s368MMPNXLkSOXm5mrs2LFelwYAAFChnG0B3LZtm0aPHq1du3apQYMGOuecc7R8+XI1b97c69IAAAAqlLMBcObMmV6XAAAA4Alnu4ABAABcRQAEAABwDAEQAADAMQRAAAAAxxAAAQAAHEMABAAAcAwBEAAAwDEEQAAAAMcQAAEAABxDAAQAAHAMARAAAMAxBEAAAADHEAABAAAcQwAEAABwDAEQAADAMQRAAAAAxxAAAQAAHEMABAAAcAwBEAAAwDEEQAAAAMcQAAEAABxDAAQAAHAMARAAAMAxBEAAAADHEAABAAAcQwAEAABwDAEQAADAMQRAAAAAxxAAAQAAHEMABAAAcAwBEAAAwDEEQAAAAMcQAAEAABxDAAQAAHAMARAAAMAxBEAAAADHEAABAAAcQwAEAABwDAEQAADAMQRAAAAAxxAAAQAAHEMABAAAcAwBEAAAwDEEQAAAAMcQAAEAABxDAAQAAHAMARAAAMAxBEAAAADHEAABAAAcQwAEAABwDAEQAADAMQRAAAAAxxAAAQAAHEMABAAAcAwBEAAAwDEEQAAAAMcQAAEAABxDAAQAAHAMARAAAMAxBEAAAADHEAABAAAcQwAEAABwDAEQAADAMQTAH2RkZMjn82nixIlelwIAAFChCICSVqxYoenTp6tLly5elwIAAFDhnA+A+/fv1xVXXKHHHntMderU8bocAACACud8ABw3bpwuvPBCDRw40OtSAAAAKkWc1wV4aebMmfr444+1YsWK43p9IBBQIBA4+jg3N7eiSgMAAKgwzrYAbt26VRMmTNAzzzyjxMTE43pPRkaG/H7/0SM1NbWCqwQAACh/vmAwGPS6CC/MmTNHl1xyiWJjY4+eKygokM/nU0xMjAKBQMRzUuktgKmpqcrJyVFycnKl1Q4AAE5ebm6u/H6/09dvZ7uAzzvvPK1duzbi3FVXXaUOHTrotttuKxH+JCkhIUEJCQmVVSIAAECFcDYAJiUlqVOnThHnatWqpXr16pU4DwAAUJ04OwYQAADAVc62AJZm0aJFXpcAAABQ4WgBBAAAcAwBEAAAwDEEQAAAAMcQAAEAABxDAAQAAHAMARAAAMAxBEAAAADHEAABAAAcQwAEAABwDAEQAADAMQRAAAAAxxAAAQAAHEMABAAAcAwBEAAAwDEEQAAAAMcQAAEAABxDAAQAAHAMARAAAMAxBEAAAADHEAABAAAcQwAEAABwDAEQAADAMQRAAAAAxxAAAQAAHEMABAAAcAwBEAAAwDEEQAAAAMcQAAEAABxDAAQAAHAMARAAAMAxBEAAAADHEAABAAAcQwAEAABwDAEQAADAMQRAAAAAxxAAAQAAHEMABAAAcAwBEAAAwDEEQAAAAMcQAAEAABxDAAQAAHAMARAAAMAxBEAAAADHEAABAAAcQwAEAABwDAEQAADAMQRAAAAAxxAAAQAAHEMABAAAcAwBEAAAwDEEQAAAAMcQAAEAABxDAAQAAHAMARAAAMAxBEAAAADHEAABAAAcQwAEAABwDAEQAADAMQRAAAAAxxAAAQAAHEMABAAAcAwBEAAAwDEEQAAAAMc4GwCnTZumLl26KDk5WcnJyUpPT9f8+fO9LgsAAKDCORsAU1JSNHXqVK1cuVIrV67UgAEDNGzYMK1bt87r0gAAACqULxgMBr0uIlrUrVtX999/v66++urjen1ubq78fr9ycnKUnJxcwdUBAIDywPVbivO6gGhQUFCgl156SXl5eUpPTz/m6wKBgAKBwNHHubm5lVEeAABAuXK2C1iS1q5dq9q1ayshIUHXXXedZs+erY4dOx7z9RkZGfL7/UeP1NTUSqwWAACgfDjdBZyfn6+srCzt3btXr7zyiv7zn/8oMzPzmCGwtBbA1NRUp5uQAQCoaugCdjwAFjdw4EC1bt1ajz766HG9ng8QAABVD9dvx7uAiwsGgxEtfAAAANWRs5NA/vjHP2rIkCFKTU3Vvn37NHPmTC1atEgLFizwujQAAIAK5WwA3LFjh8aMGaPs7Gz5/X516dJFCxYs0KBBg7wuDQAAoEI5GwAff/xxr0sAAADwBGMAAQAAHEMABAAAcAwBEAAAwDEEQAAAAMcQAAEAABxDAAQAAHAMARAAAMAxBEAAAADHEAABAAAcQwAEAABwDAEQAADAMQRAAAAAxxAAAQAAHEMABAAAcAwBEAAAwDEEQAAAAMcQAAEAABxDAAQAAHAMARAAAMAxBEAAAADHEAABAAAcQwAEAABwDAEQAADAMQRAAAAAxxAAAQAAHEMABAAAcAwBEAAAwDEEQAAAAMcQAAEAABxDAAQAAHAMARAAAMAxBEAAAADHEAABAAAcQwAEAABwDAEQAADAMQRAAAAAxxAAAQAAHEMABAAAcAwBEAAAwDEEQAAAAMcQAAEAABxDAAQAAHAMARAAAMAxBEAAAADHEAABAAAcQwAEAABwDAEQAADAMQRAAAAAxxAAAQAAHEMABAAAcAwBEAAAwDEEQAAAAMcQAAEAABxDAAQAAHAMARAAAMAxBEAAAADHEAABAAAcQwAEAABwDAEQAADAMQRAAAAAxxAAAQAAHEMABAAAcAwBEAAAwDHOBsCMjAz17NlTSUlJatiwoYYPH64NGzZ4XRYAAECFczYAZmZmaty4cVq+fLkWLlyoI0eOaPDgwcrLy/O6NAAAgArlCwaDQa+LiAbfffedGjZsqMzMTPXt2/e43pObmyu/36+cnBwlJydXcIUAAKA8cP2W4rwuIFrk5ORIkurWrXvM1wQCAQUCgaOPc3NzK7wuAACA8uZsF3BRwWBQkyZNUu/evdWpU6djvi4jI0N+v//okZqaWolVAgAAlA+6gCWNGzdOr7/+upYuXaqUlJRjvq60FsDU1FSnm5ABAKhq6AKmC1jjx4/XvHnztHjx4h8Nf5KUkJCghISESqoMAACgYjgbAIPBoMaPH6/Zs2dr0aJFatmypdclAQAAVApnA+C4ceP03HPPae7cuUpKStL27dslSX6/XzVr1vS4OgCoQgoKpCVLpOxsqUkTqU8fKTbW66oA/AhnxwD6fL5Sz8+YMUNXXnnlcX0NxhAAcN6sWdKECdK2beFzKSnSgw9KI0Z4VxfwI7h+O9wC6GjuBYDyM2uWNHKkVPzn6Tff2PmXXyYEAlGKZWAAACeuoMBa/kr7ZTp0buJEex2AqEMABAAcvwMHpP/9T7r77shu3+KCQWnrVhsbCCDqONsFDAD4Cdu3Wzfvhg3S55/b7ddfn9jXyM6umNoAlAkBEABcdfCg9MUXFuxCIe/ii6VLL7Xnv/1WGjeu5Pvq1rXZvuvW/fSf0aRJ+dYMoFwQAAGgOgsGpUBASky0x1lZ0m9+Y2EvK6vkGD6/PxwA27WTLrpI6tDBjvbt7bZ+fRvb16KFTfg41qS6xo1tSRgAUYcACADVwaFD0saN4a7a0O2GDdKVV0oPPWSvS06W3nwz/L46dcLBrn17qXfv8HO1a0uvvlr6nxcba0u9jBwp+Xylh8ADB6T166Uf2WMdgDcIgABQVQSDNi7v88+lhASpVy87v2ePtcodqyVuw4bw/VNPlZ54QmrVygJfgwYW4E7GiBG21EvxdQCbNZNq1JC2bJFGj7ZJIzHMOQSiibMLQZcHFpIEUGEKCqTZs0u25uXm2vMXXCC9/nr49aFu2VBLXtFWvdatLTBWZK3FdwLJzZXGjJHuu0/q2LHi/mzgJHD9pgUQALwRDEo7dkQGvDp1pDvvtOdjYqSrrw4HvpCYGGu9S0mJPL9pk43fO9nWvLKIjZX69Ys8V6eO9Nprkefy8qRatSqtLADHRgAEgIpUWBjZ/XnDDdKqVRb4cnIiX9u+fTgA+nw2vu7IkcgJGMdqzTv11Ar7K5SLd9+VLrvMuoz79vW6GsB5BEAAKKtgUNq5M7I1L3Rbu7a0Zk34tcuXS6tX2/2YGJtJGwp4xSdLPP54Zf0NKt5DD0nffSf9/OfSvHnSwIFeVwQ4jTGAZcAYAsAxgYD05Ze2Pl7RANOrl/TBB6W/JyHBuj5jY+3x7NnWKti+vdSmTXh5luru0CGbNDJ/vv2bzJ4tDRnidVVwFNdvWgABoHSrVkkffxzZmvfVVxbeTjlF2rcv3LXbrJl12RZtzSs6CaNoF/All3jy1/FcYqKFvksvlebOlYYPl158URo2zOvKACfRAlgG/AYBVGH5+daaFwp4mzdL//53eBLF8OEWVIpLSrJg9+abNtFBsq7NpCR3WvPK4vBh6fLLbSxgXJz03HPSqFFeVwXHcP2mBRCAS2bMsFaozz+31ryCgsjnJ08Ob13Wu7d1+RZtyevQwXa3KD7TtkGDSim/WqhRQ3r+eSk+3sLf7NkEQMADBEAAVd/hw9aaV3S9vKKTMUIB7dNPI3e2qF07MuDFFfmRePPNdqD8xcVJTz0lnXuudO21XlcDOIkACKDq2LXLQl3XrjYOT5LuuceO4q15IRs2hAPgL35hy6iEAl/Tpt6smwebFHPDDeHHhYVSZqbUv793NQEOIQACiD7Z2dKKFSWXVNm9255fvlw6+2y7H9oBo1atkt21oduQXr3C26chegSDFgYffdSWixk/3uuKgGqPAAjAG7t3R4a7a66R2ra15156yfaXLU1aWuTuGKNH20xSWvOqNr/fbm+6ycZe0v0OVCgCIIDKsXKlzbINhb5duyKfP+OMcADs3Nm6eYu24nXoYM+Hun5D6tQJz8ZF1eTzSVOn2vqAf/mLdMsttm7gHXd4XRlQbREAAZTdnj2RrXmh+3/9qy3+K0nbt5fc2SI1NXKLs5D+/W0NPrjD57OxnPHxth3enXfaUj13303LLlABCIAAjs+RI7ZWXlKSLYUiSYsX2361331X+nvWrQsHwG7dpLvuCge+du1s3B5Q1B13WEvgrbdaa2BBgf0iAaBcEQABRDp0yPauLT4BY9MmW24lI0P6wx/stQ0ahMNfSkrJyRdnnBH+uk2b2jp7USQYtFx75IjljMLC8FFcbKxt6BETY0vZxcVFbvCBcnTLLRYCf/97qUcPr6sBqiUCIOCiI0ekLVvCAa9zZ2nwYHtu40YpPb309yUmSvv3hx+3aWNbprVrZ2vqVYBg0HZd+/57ae9eKScnfOTm2nO5uVZW6DhwIHwcPGjHoUN25OfbHIP8/GOvHHO8YmKsxzIhIXycckrkkZRkR+3aNs/B75dOPdWOOnWkevXCR61a9HYeddNN0kUXSa1aeV0JUC0RAAEXfP+9dP/94cC3aZMloJBrrgkHwLZtbWxe27Yl97VNTY1s9qpRw7p2T8DBg9LOndKOHXb73Xd2u2tX+Ni92449e6z0sga1ilJYGA6W5aFmTalhQ6lRI7tt2jTySE21SdB+vyNBsWj427LFJhH99a/WHAugTAiAQFVXUBDZmheahHHuueGxUzVqWNdtUYmJ1nLXoUNki19iopSVdcJlHDokffNN5JGdLX37rd1u3263RVdwORHx8eGWs1BLWnKyHUVb2WrVspa30G3NmnYkJloLXWKifa0aNew2Ls7ux8SEu3l9vsiAFQyGu4YLCqwB9fBhO0ItioGA/RscPBhufczLsxbJffvsKNp6+f33FnBDYTc/39779dd2/JikJAuCLVpYRmrd2m7btLH78fEn928ctfLz7ReUjRulbdukJ56I3LUFwAnjfxBQVYSSQ1qaPT50yMZHbdwY2ZoXUrSlrnZt6bbbbJ/bUKteWtpxD2ILBq2VbsuWcEDJypK2bg3fFl/V5cfEx4dbuRo0sNv69e1+/frhLtG6de2oU8eCW3Vt9QoGLSzu3BluHd2xIxygv/3WAnXo33nfPptfs25dya8VEyO1bBluuO3USTr9dKljRwuOVVJ8vP0yc/nl0rPP2uf92WctuQM4Kb5gMBj0uoiqKjc3V36/Xzk5OUpOTva6HFQHwaDNtC2+l+2GDdaENniw9Oab4dc3bmxJISHBWvOKTsLo3DlyEsZPOHRI+uor6x3+8ku7v3mz3W7ZYq1TP6VmTZsL0qxZuNuySZPIo1Ejh7owK8CBA9YI9vXX4e/Pl1/asXFj5BDN4po3l848046uXe1ITa1C34u5c6VRo6zpddgw6YUX7LMPnCCu3wTAMuEDhJOWmxvuqi0slH796/Bz9euHtzwrrmdP6aOPwo+XL7dElZZ2XOOiis79+OKL8O2mTRYqfuyngc9nwa55czvS0uw2NdWOlBRrqasyYaIaCgat1TD0vV2/Xvr0U2sp3L699PfUry+ddVb46NnTzkWt+fOlSy6xPvcLLpBeecWah4ETwPWbAFgmfIBw3B57zBY2DrXoZWeHn2vd2hJYyHnnWT9g0da80BHaLusnBAIWAtatkz77zILA+vXH7i0OSU62ckJHq1bWndiypQW+aje2zCF79khr19oKP6tX2/HZZ/ZLQXEdOki9e4ePVq2iLNi//bZ08cXWLD1unPTww15XhCqG6zcBsEz4AEGSDcj64ovILtv8fGnOnPBrzjpLWrEi8n2NG1uoO/10u4CFrrDB4HFfbYNB6wr85JPw8emnVs6xZs6G5n60b2+3bdvabZs21vITVRd6VKhDh+wz89FHdnz4oX12imvaVBowwI7zzgsPQ/VUZqYtFv3qqzaIFDgBXL8JgGXCB8ghhYXWh9a0afjc9dfbxeebb0q+Pi7OBmuFBqn/85/2/qKtesfZmhdy5Ii14n38sbXerFljR05O6a/3+8OD/zt2DG+n27w5Cxjj2HbvlpYtk5YutWPFChtyV1Tr1jYcdcgQC4WebehS/JelI0eYHYzjwvWbAFgmfICqof37I/eyDd3/4gsLgXl54bF2l18uPf+83W/YMHIHjPbt7Qp5krMUg0Hrrv3oI7sAr1hhYa+0iRg1aljA69LF5n2EjqZNac1D2R08KH3wgfTuu9I779hnsWjrcny89LOfWRi8+OLILZ0r1eOP21CL+fNtMCrwI7h+EwDLhA9QFVVYaOtphILdDTeEm8RGjZJefrn099WoYVMtU1Pt8f/+Z1fH9u3LfMHZv9/C3rJldnz4oY3ZKq52bZu52a1beBZnhw6MzUPlyc213tcFC6Q33rBJRUV16mRzNC65xGYbV8ovIbm5NpZh5077T/HWW1E+kwVe4/pNACwTPkDlqKBAWrLEJkc0aSL16VN+q/0vWWJNF0Vb9Io2pWVlhUPdHXdYK0LR3S9Cty1alFv30p49VlZmpt2uXl1yzF5CggW90MzMHj3sGkf3LaJFMGj/nebPl15/3T7PRSeVtGgh/eIX0ujR9lmu0DD46afhCVSdO0sLF9oMeaAUXL8JgGXCB6iczJolTZhg65CEpKRIDz4ojRjx4+8NBu19xdfMe/ppm2Qh2QLI990X+b4aNWzWQ/v2tkVamzZ2vqCgQraZysuzoPf229aVtmZNySVX0tJs8470dOmcc2wJP1r2UJV8/7302mvS7NnWQlj096y2bS0Ijh5tv09ViM8/t0GJ2dn2h7zzTuS4XeAHXL8JgGXCB6gczJoljRxZMg2FmgpeftlCYGhCRWhM3TPPSP/4h4W9AwdKft333pP69bP78+fbWmFFW/NatqzQweLBoC2xMX++XQiXLCm5/EqHDjZ2qm9fW2ojKmZWAuXkwAFbs3zmTJsrVTQMdusmXXWVDaOtW7ec/+CNGy0Ebttmv9i9+264hR/4AddvAmCZ8AEqo4IC6yMq2vJXXEKCTbDYutVSVO/edv6xx6Tf/Mbux8WFW/NCIe/nP7eu5Ep0+LCVOGeOXfCKj41KS5MGDrSjX79KLw/wzL59tonH88/b8LxQN3F8vI0V/L//s97bcmt837zZQuCWLdLf/y5NmlROXxjVBddvAmCZ8AEqo0WLpP79j//1TzwhjR1r97OyrB+1fXtbpdajPUEPH7ZeppdesuBXdOJGQoJdg4YMkc4/37rAmJUL1+3aZUHw8cdtHlVIaqp07bV2hEZvlElWlm0Vd/PN/MdDCVy/CYBlwgeojJ5/3vqAfspdd0k33hg1s/qCQZul+9RTFvx27Qo/16CBNHSobVN63nkero8GVAGrV0v//a/07LM2flCy3+VGjbL/8uecU47Z7cAB6dtvw+N94TSu3wTAMuEDVEbH2wJYdDyfh3bulJ580louNmwIn2/Y0IYxjhpVvpOXAVccOmTDdP/1L1tzMKRrVwuCl19exu1+Dx2yRQr/9z9rsu/Uqcw1o2rj+k0ALBM+QGUUGgP4zTclJ4FI9qt/SoqN5/EwVX34oW3k8eKL4R0RTjnFlrf41a+sm5fNB4DysWqVBcHnn7fcJlmX8IQJ0nXXSaeeehJfdM8ea5Jfs0aqV8+WiOnatRyrRlXD9VtiRTF4JzbWlnqRjt3P88ADnoS/YNAmcvTpY91Qzz5r4a9nT5t/sn27dQEPHkz4A8pT9+7WLbxtm3TvvfY74Pbt0u232zjBm2/+8Xljpapb11r+eva0ve4GDCi5NzfgGAIgvDVihC310qxZ5PmEhPASMJUoGLQ1zLp2tR6jpUttpuLYsdLKlbZbxzXXSElJlVoW4Jx69aRbb5W++sp+2erUyXbM+fvfbRWnK6+0FV+OW9261vLXq5e0d69Nx1+2rIKqB6IfXcBlQBNyOQrtBPLJJ9bXI9nSLykplVbC0qXSLbdIy5fb46Qk6frrrRzWkgW8FQzampr33WfDhyXrHBgzRrrzTlsM4Ljs22cztTIzbZbW66/bgpxwCtdvWgARLWJjbaLHTTdZv6tkg4AqQXa2jeXr08fCX61a0p/+ZEuI3Xsv4Q+IBj6fLan03nv2//Sii+z3xieekNq1s5b54mtvliopyTYxHjjQxm/Url3BlQPRiQCI6POrX9nt009X6B8TDEozZkinnWZj/Hw+W1t60yZpypQK2KEAQLk4+2wbo/vhh7bme0GBzc5v21b67W+PY4zgKafYF1i61AYdAg4iACL6jBplA+/Wro1cKbYc7dkT3oEgJ0fq0cPG9z36aDktQgugwp11lm23uGyZNGiQ7TAyfbq1CN55p/X2HlNiYuRyMMuXS/PmVXjNQLQgACL61Klj/TuS7flbzlavtkkec+dazrz3Xlt7rEePcv+jAFSC9HTbYi60W+TBg9aK36aN9O9/h7eeO6YvvrCmxF/8wlZ3BxxAAER0GjPGfnqnpZXrl503zy4QWVn25T/4wGYaspQLUPX17i0tXmwz+du2tcXbr79e6tJFeu210pcblWQzSC66yJLiZZfZmBCgmmMWcBkwi6gCFRbaoLxy3MPz2WelX//avvSgQbaw80ktKgsg6h0+bEM6Jk+2pf8k23jooYeOsRFIQYFtRDxjhv3cefxx6aqrKrNkVCKu37QAIlrFxJRr+Js50xoVCwttTb833iD8AdVZjRq2jdyXX0q33WZLi773ng3/uOUWW1MwQmys9J//2HYjwaANEH70UU9qByoDARDRLbRJaF7eSX+JRYus5S8YtFm+//0vXb6AK/x+aepU27/7kkusl/dvf5M6dLDhfhF9YDEx0iOP2HJUkoXBuXM9qRuoaARARLfevaWRI0/6h/C2bTau+/Bh+zLTptnPeABuad5cmjXL1n1u1cq2IP/lL23uR8SOIj6fbUF5yy02VuT8870qGahQXAoR3S680G5PYk3AggLpiitsyZdu3exLEP4At11wgfTpp9Jdd1m38Ftv2ZjAP//ZOhwkWQi8916bOZKYaOcYLo9qhssholtoUei33pJ27Diht/773zYjsHZt6YUXwj/HAbitZk2bHPLpp9YCmJ8v/eUv9ovihx/+8CKfz9aJkiz83XqrLS5IEEQ1QQBEdGvb1pb9Lyw8oa3hvvtOuuMOuz91qi35AgBFtWljE8JeftkWgF+/XurVy7LewYNFXvj++zZwcMoUm1FCCEQ1QABE9DuJreHuu0/au1c680wbxw0ApfH5bJzwunXhlQLuv99mC3/wwQ8v6t3b1o+R7Mnf/Y4QiCqPAIjod+mlNm3344+lzz77yZfn5IRXb5gyxVZ3AIAfU7eu9NRTtlh8kyY2a/jcc6Xf/146cEDS+PHhHywPPijdcIOlRaCKIgAi+jVoYAN1JOmdd37y5f/9r+0B2rGjNGRIBdcGoFoZOtRaA6+80hr5/vEP60l4/32F15Hy+WyQ8bXX2mwzoAoiAKJq+OtfbYDO+PE/+dKZM+123Dhm/QI4cXXq2IYgr78uNWtmy8T07WsTR46MuSq8pMCMGdKyZV6XC5wUtoIrA7aSiT5ZWbbel88nffutDewGgJO1d680YYJ1D0s2HPDZZ6W0D1+ScnOlq6/2tD6cHK7ftACiKsrPP+ZTr71mt717E/4AlN2pp0pPPmmhLylJWrpUOuMM6WXfqMjwt3OnFAh4VidwopwOgIsXL9bQoUPVtGlT+Xw+zZkzx+uS8GO+/14aNUpKSyuyYmukjz6y2/79K7EuANXe5ZdLa9ZIZ51lrYKjRtmQwAMHZOGvXz9pxIhj/mwCoo3TATAvL09nnHGGHn74Ya9LwfHw+y3h7dgRbuorZuVKu+3ZsxLrAuCEVq2sBfD2222YyWOPST16SJte3yBt2WKLCg4d+kMqBKKb0wFwyJAhmjJlikaMGOF1KTgeMTG2t5tU6pqABw7YPBFJ6t69EusC4IwaNaT/9/+kt9+25WLWr5c6Xd9Hr1wzX8FateyJCy6Q9u/3ulTgRzkdAE9UIBBQbm5uxIFKFloU+o03pF27Ip769ltblqtWLfvBDAAVZcAA6ZNPrMEvEJBG/vNnuiv9LQWTk6XMTOn8821RUiBKEQBPQEZGhvx+/9EjNTXV65Lc07Gjbdh55Ij04osRT4W2Cm7UyIO6ADinfn1p7lxbFzouTvrL2700uv7bKkg+1ZaHGTTIxi4DUYgAeAJuv/125eTkHD22bt3qdUluOsbWcKEA2LBhJdcDwFk+n3TTTdJ779nKAy981VP9C99VfnI9afduKS/P6xKBUhEAT0BCQoKSk5MjDnhg9GgbD7h8ubRp09HToR7hBg08qguAs3r3llatknr1kpbs76puuYv0wMXvqrBpitelAaUiAKLqadxYuvFG6W9/sw08i2H3DwBeaNrUWgJvuEFap0763QPNNWyYLRujV1+1gcpAlIjzugAv7d+/X5uKtCBt3rxZa9asUd26dZWWluZhZfhJDz5Y4lTcD5/mI0cquRYA+EF8vPSvf9lSVNddZytW3drxNT268xL5WraU3n1XYvw4ooDTbSUrV65U165d1bVrV0nSpEmT1LVrV/35z3/2uDKcjFAAZG92AF678krp/fdt3fqF2afr68JUG7LSt6+0ebPX5QFuB8B+/fopGAyWOJ544gmvS8Px2LfP9mj6178k0QIIILp0727jAluf11J9gou1UW2kLVsU/NnPpI0bvS4PjnM6AKKKW77cfs3+85+l/HydcoqdZnlGANGifn1pwQLpsptT9TNlar06yLd1q4XA0Mr1gAcIgKi6BgywFZ/37JHmz1ezZnZ62zZvywKAouLipPvvl+6e3lTnxSzSWnWSLztbhT/rxw8seIYAiKorNtZ2aJekZ545Oq46O1s6fNi7sgCgNNdeKz25oJEurv2eVutMvZA/QpsONvO6LDiKAIiqLbQo9KuvqmH8XtWoIQWDFgIBINoMGiS9+kF9XZGyWFfk/EvnpPv0/vteVwUXEQBRtZ1xhtSpkxQIKOaVl+gGBhD1OnWS3vkoSd17xGj3bun8AYe1ue+vbfs4oJIQAFG1+XzhVsBnnlHKD4vus0sfgGjWpIm0aJE0bJg0If8+tVzytPL7D1ZwUabXpcERBEBUfVdcYeMB4+J0WquAJGndOo9rAoCfUKuW9MorUsH432mhBio+P0/5A4fo8Py3vS4NDiAAoupLSbFBf++8oy49EyRJH3/scU0AcBxiY6WpD52irx54VW/oAiUUHFTwoot04JX5XpeGao4AiOqhQQNJUrdu9pAACKAq+e2ERMXMmaXXYocpvjCguFHDlfP0PK/LQjVGAES1cmbj7Wrm+1bZ2cwEBlC1/HxYgpote0lzE0YpPpgvXTlW36zb63VZqKYIgKg+pk7VKW2bKaPOfZJoBQRQ9XQ9q4Y6rHpOz9e6RpcUvqJzLzyVXeNQIQiAqD46d5YKC3XxgecVqyMEQABVUvvT43TuZ4/pm3YD9PXXUp8+0tqlOV6XhWqGAIjqY/BgqUED+Q/t1CAtJAACqLLS0qQlS6Qzz5Tq7vhMjfq205e3Tfe6LFQjBEBUHzVqSJddJkkao6f1wQe2KwgAVEUNG0rvvSfdnPqiGgZ3qvV9v9X6cf/0uixUEwRAVC8/LAo9XHOUt2OfPv3U43oAoAxOPVW6bP1derHFrZKk0x65SZ/8+m/2ZEGBrSb9/PN2W1DgVZmoggiAqF569pTatdMpOqgRmqW33vK6IAAom1Nq+TT886l6+bQ7JUldnr5FX509WmrRQurfX7r8crtt0UKaNcvTWlF1EABRvfh80pgxkqTRel4LF3pcDwCUg/gEny5Ze49md/uLJKnVRzMVLL7p+TffSCNHEgJxXHzBIKOkTlZubq78fr9ycnKUnJzsdTkIycrSN48vUKd7RulQYh19/72UmOh1UQBQdsEjBTpUq55q5h9jVrDPZ7sjbd5s24ygVFy/aQFEdZSWpqaTf6OaTero0CHp/fe9LggAyodv6ZJjhz/JZr5t3WpTiIEfQQBEteTzSYMG2X3GAQKoNo53iyO2QsJPIACi2rq+xmP6QOdoy7xPvC4FAMpHkybl+zo4iwCIauvM7Qt0jj5U98+f0c6dXlcDAOWgTx8b4+fzlf68zyelptrrgB9BAES1lXiNzQa+Qs/q3YWsjwWgGoiNlR580O4XD4Ghxw88wAQQ/CQCIKqvIUN0ILGOmulbbZ6xyOtqAKB8jBghvfyy1KxZ5PmUFDs/YoQ3daFKIQCi+kpIUO7PL5UkpWU+rUOHPK4HAMrLiBHSli22V9xzz9nt5s2EPxw31gEsA9YRin6FS95XTN/e2qfaynxhhy765SlelwQA8BjXb1oAUc3F9O6lXf5WStJ+ff3QXK/LAQAgKhAAUb35fDp46VWap6Ga93GKDh70uiAAALwX53UBQEVL+fcdOne+LY7/5pvS8OFeVwQAgLdoAUS15/NJo0bZ/Rdf9LYWAACiAQEQTvjlL6UW2qz6rzxKNzAAwHkEQDjhrPY52qD2eij/Oi157HOvywEAwFMEQDjBd6pfm1qdL0nKe/QZj6sBAMBbBEA4I/5q2xou/bP/KDDjWWnRIqmALeIAAO4hAMIZrVsWqFA+NdYOJfzfr6T+/aUWLaRZs7wuDQCASkUAhBtmzZLviivkU7GNb775Rho5khAIAHAKARDVX0GBNGGCFAzKV/y50E6IEyfSHQwAcAYBENXfkiXStm3Hfj4YtFWilyypvJoAAPAQARDVX3Z2+b4OAIAqjgCI6q9Jk/J9HQAAVRwBENVfnz5SSortCVcan09KTbXXAQDgAAIgqr/YWOnBB+1+8RAYevzAA/Y6AAAcQACEG0aMkF5+WWrWLPJ8SoqdHzHCm7oAAPBAnNcFAJVmxAhp2DCb7ZudbWP++vSh5Q8A4BwCINwSGyv16+d1FQAAeIouYAAAAMcQAAEAABxDAAQAAHAMARAAAMAxBEAAAADHEAABAAAcQwAEAABwDAEQAADAMQRAAAAAxxAAAQAAHEMABAAAcAwBEAAAwDEEQAAAAMcQAAEAABxDAAQAAHAMARAAAMAxBEAAAADHEAABAAAc43wAfOSRR9SyZUslJiaqe/fuWrJkidclAQAAVCinA+ALL7ygiRMn6k9/+pNWr16tPn36aMiQIcrKyvK6NAAAgArjCwaDQa+L8MrZZ5+tbt26adq0aUfPnXbaaRo+fLgyMjJ+8v25ubny+/3KyclRcnJyRZYKAADKCddvKc7rArySn5+vVatW6Q9/+EPE+cGDB2vZsmWlvicQCCgQCBx9nJOTI8k+SAAAoGoIXbcdbgNzNwDu2rVLBQUFatSoUcT5Ro0aafv27aW+JyMjQ3fffXeJ86mpqRVSIwAAqDi7d++W3+/3ugxPOBsAQ3w+X8TjYDBY4lzI7bffrkmTJh19vHfvXjVv3lxZWVnOfoCiRW5urlJTU7V161Znm/OjBd+L6ML3I3rwvYgeOTk5SktLU926db0uxTPOBsD69esrNja2RGvfzp07S7QKhiQkJCghIaHEeb/fz3/mKJGcnMz3IkrwvYgufD+iB9+L6BET4+5cWGf/5vHx8erevbsWLlwYcX7hwoXq1auXR1UBAABUPGdbACVp0qRJGjNmjHr06KH09HRNnz5dWVlZuu6667wuDQAAoMI4HQAvvfRS7d69W/fcc4+ys7PVqVMnvfHGG2revPlxvT8hIUF33XVXqd3CqFx8L6IH34vowvcjevC9iB58LxxfBxAAAMBFzo4BBAAAcBUBEAAAwDEEQAAAAMcQAAEAABxDADxJjzzyiFq2bKnExER1795dS5Ys8bokJy1evFhDhw5V06ZN5fP5NGfOHK9LclZGRoZ69uyppKQkNWzYUMOHD9eGDRu8LstJ06ZNU5cuXY4uOJyenq758+d7XRZk/098Pp8mTpzodSlOmjx5snw+X8TRuHFjr8vyBAHwJLzwwguaOHGi/vSnP2n16tXq06ePhgwZoqysLK9Lc05eXp7OOOMMPfzww16X4rzMzEyNGzdOy5cv18KFC3XkyBENHjxYeXl5XpfmnJSUFE2dOlUrV67UypUrNWDAAA0bNkzr1q3zujSnrVixQtOnT1eXLl28LsVpp59+urKzs48ea9eu9bokT7AMzEk4++yz1a1bN02bNu3oudNOO03Dhw9XRkaGh5W5zefzafbs2Ro+fLjXpUDSd999p4YNGyozM1N9+/b1uhzn1a1bV/fff7+uvvpqr0tx0v79+9WtWzc98sgjmjJlis4880w98MADXpflnMmTJ2vOnDlas2aN16V4jhbAE5Sfn69Vq1Zp8ODBEecHDx6sZcuWeVQVEH1ycnIkyenN1qNBQUGBZs6cqby8PKWnp3tdjrPGjRunCy+8UAMHDvS6FOdt3LhRTZs2VcuWLXXZZZfpq6++8rokTzi9E8jJ2LVrlwoKCtSoUaOI840aNdL27ds9qgqILsFgUJMmTVLv3r3VqVMnr8tx0tq1a5Wenq5Dhw6pdu3amj17tjp27Oh1WU6aOXOmPv74Y61YscLrUpx39tln66mnnlK7du20Y8cOTZkyRb169dK6detUr149r8urVATAk+Tz+SIeB4PBEucAV91444365JNPtHTpUq9LcVb79u21Zs0a7d27V6+88orGjh2rzMxMQmAl27p1qyZMmKC33npLiYmJXpfjvCFDhhy937lzZ6Wnp6t169Z68sknNWnSJA8rq3wEwBNUv359xcbGlmjt27lzZ4lWQcBF48eP17x587R48WKlpKR4XY6z4uPj1aZNG0lSjx49tGLFCj344IN69NFHPa7MLatWrdLOnTvVvXv3o+cKCgq0ePFiPfzwwwoEAoqNjfWwQrfVqlVLnTt31saNG70updIxBvAExcfHq3v37lq4cGHE+YULF6pXr14eVQV4LxgM6sYbb9SsWbP07rvvqmXLll6XhCKCwaACgYDXZTjnvPPO09q1a7VmzZqjR48ePXTFFVdozZo1hD+PBQIBrV+/Xk2aNPG6lEpHC+BJmDRpksaMGaMePXooPT1d06dPV1ZWlq677jqvS3PO/v37tWnTpqOPN2/erDVr1qhu3bpKS0vzsDL3jBs3Ts8995zmzp2rpKSko63kfr9fNWvW9Lg6t/zxj3/UkCFDlJqaqn379mnmzJlatGiRFixY4HVpzklKSioxDrZWrVqqV68e42M9cPPNN2vo0KFKS0vTzp07NWXKFOXm5mrs2LFel1bpCIAn4dJLL9Xu3bt1zz33KDs7W506ddIbb7yh5s2be12ac1auXKn+/fsffRwawzF27Fg98cQTHlXlptCySP369Ys4P2PGDF155ZWVX5DDduzYoTFjxig7O1t+v19dunTRggULNGjQIK9LAzy1bds2jR49Wrt27VKDBg10zjnnaPny5U5ev1kHEAAAwDGMAQQAAHAMARAAAMAxBEAAAADHEAABAAAcQwAEAABwDAEQAADAMQRAAAAAxxAAAQAAHEMABAAAcAwBEAAAwDEEQAAAAMcQAAEAABxDAAQAAHAMARAAAMAxBEAAAADHEAABAAAcQwAEAABwDAEQAADAMQRAAAAAxxAAAQAAHEMABAAAcAwBEAAAwDEEQAAAAMcQAAEAABxDAAQAAHAMARAAAMAxBEAAAADHEAABAAAcQwAEAABwDAEQAADAMQRAAAAAx/x/rOq0MgFTBcUAAAAASUVORK5CYII=' width=640.0/>\n",
       "            </div>\n",
       "        "
      ],
      "text/plain": [
       "Canvas(toolbar=Toolbar(toolitems=[('Home', 'Reset original view', 'home', 'home'), ('Back', 'Back to previous …"
      ]
     },
     "metadata": {},
     "output_type": "display_data"
    }
   ],
   "source": [
    "def TraceBezRat(Pc,L):\n",
    "    \"\"\" Pc est un array numpy de dimension(2,n+1) (abscisses et ordonnées des points de contrôle) et L la liste des poids.\n",
    "        La fonction ne renvoie rien.\n",
    "        \"\"\"\n",
    "    t=np.linspace(0,1,100)\n",
    "    # Votre code ici\n",
    "    c = BezierRatVect(Pc,L,t)\n",
    "    plt.clf()\n",
    "    plt.plot(c[0],c[1],'b')\n",
    "    plt.plot(Pc[0],Pc[1],'ro--')\n",
    "    plt.xlim([0,5])\n",
    "    plt.ylim([0,5])\n",
    "    plt.show()\n",
    "\n",
    "# En appelant TraceBezRat(np.array([Px,Py]),[0.5,4,3,0.7]) Vous devriez obtenir la figure ci-dessous\n",
    "TraceBezRat(np.array([Px,Py]),[0.5,4,3,0.7])\n"
   ]
  },
  {
   "cell_type": "markdown",
   "metadata": {},
   "source": [
    "En appelant TraceBezRat(np.array([Px,Py]),[0.5,4,3,0.7]) Vous devriez obtenir la figure ci-dessous"
   ]
  },
  {
   "cell_type": "markdown",
   "metadata": {},
   "source": [
    "<div>\n",
    "<img src=\"BezierRat.png\" width=\"520\"/>\n",
    "</div>"
   ]
  },
  {
   "cell_type": "markdown",
   "metadata": {},
   "source": [
    "En déduire, en faisant quelques tests, l'effet des poids sur la courbe. Expliquer bièvement dans la cellule ci-dessous."
   ]
  },
  {
   "cell_type": "markdown",
   "metadata": {},
   "source": [
    "Votre reponse ici"
   ]
  }
 ],
 "metadata": {
  "kernelspec": {
   "display_name": "Python 3",
   "language": "python",
   "name": "python3"
  },
  "language_info": {
   "codemirror_mode": {
    "name": "ipython",
    "version": 3
   },
   "file_extension": ".py",
   "mimetype": "text/x-python",
   "name": "python",
   "nbconvert_exporter": "python",
   "pygments_lexer": "ipython3",
   "version": "3.13.1"
  }
 },
 "nbformat": 4,
 "nbformat_minor": 4
}
