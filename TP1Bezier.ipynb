{
 "cells": [
  {
   "cell_type": "markdown",
   "metadata": {},
   "source": [
    "En cas de problème particulier (lors de l'execution d'une cellule), on pourra relancer le noyau jupyter.\n",
    "\n",
    "Vos réponses (codes ou réponses) doivent être placées entre les balises :`VOTRE CODE ICI` ou \"VOTRE REPONSE ICI\", N'oubliez pas d'indiquer vos noms et prénoms"
   ]
  },
  {
   "cell_type": "code",
   "execution_count": null,
   "metadata": {},
   "outputs": [],
   "source": [
    "NOMS et PRENOMS = \"Mwa\"\n"
   ]
  },
  {
   "cell_type": "markdown",
   "metadata": {},
   "source": [
    "---"
   ]
  },
  {
   "cell_type": "markdown",
   "metadata": {
    "deletable": false,
    "editable": false,
    "nbgrader": {
     "cell_type": "markdown",
     "checksum": "d28727ad46c91933f13ddb741c7f9a56",
     "grade": false,
     "grade_id": "cell-0ec0975838c8ad5d",
     "locked": true,
     "schema_version": 3,
     "solution": false,
     "task": false
    }
   },
   "source": [
    "# <p style=\"text-align: center;\"> Projet 1 modélisation  <br> Courbes et sous courbes de Bézier, courbes de Bézier rationnelles\n",
    "</p>"
   ]
  },
  {
   "cell_type": "markdown",
   "metadata": {
    "deletable": false,
    "editable": false,
    "nbgrader": {
     "cell_type": "markdown",
     "checksum": "dd80d335eb347fab097d35ec82904b3e",
     "grade": false,
     "grade_id": "cell-32ed3742a5c58bdd",
     "locked": true,
     "schema_version": 3,
     "solution": false,
     "task": false
    }
   },
   "source": [
    "## <span style=\"color:red\">  **Consignes générales :** </span>\n",
    "1. Lire attentivement le sujet\n",
    "2. les structures de données ainsi que  les entrées et sorties des méthodes demandées (et leur type) sont **imposées**. Il ne faut pas les modifier\n",
    "3. Pour qu'une cellule de code soit prise en compte elle doit être executée.\n",
    "4. Ne **pas ajouter ou effacer de cellule**. Si, néanmoins, vous ajoutez  une cellule pour des tests, il faudra la supprimer avant de déposer votre notebook. Il est cependant préférable de faire vos test sur un autre notebook (ou ide, etc).\n",
    "5. Si vous faites une modification dans une cellule, il faut \"l'executer\" pour qu'elle soit prise en compte.\n",
    "6. Des tests de validation de certaines méthodes sont proposés, il est nécessaire de les passer mais pas suffisant !\n",
    "7. Vous pouvez utiliser, en les adaptant,  les  méthodes obtenues durant les séances de tp.\n",
    "8. Dans la cellule ci-dessous, vous pouvez ajouter les fonctions des tp précédents et dont vous avez besoin (**Bernstein**, etc).\n",
    "9. Enfin lors du dépot sur moodle, **ne pas modifier le nom du fichier.**"
   ]
  },
  {
   "cell_type": "markdown",
   "metadata": {
    "deletable": false,
    "editable": false,
    "nbgrader": {
     "cell_type": "markdown",
     "checksum": "9e40c0c5dad4877169afccd4963afc20",
     "grade": false,
     "grade_id": "cell-53178b303c0a876a",
     "locked": true,
     "schema_version": 3,
     "solution": false,
     "task": false
    }
   },
   "source": [
    "### <ins> Avec les polynômes de Bernstein </ins>\n",
    "\n",
    "Pour $n+1$ points de contrôle $(\\mathbf{P}_0, \\dots, \\mathbf{P}_n)$, on définit la courbe de Bézier   \n",
    "$$\\sum_{i=0}^n B_i^n(t)\\mathbf{P}_i, \\quad t \\in[0,1] $$ \n",
    "où les $B_i^n$ sont les polynômes de Bernstein.  \n",
    "La suite des points $\\mathbf{P}_0, \\dots, \\mathbf{P}_n$ forme le polygone de contrôle.  \n",
    "Les $n+1$ polynômes de Bernstein sont donnés par\n",
    "$$\n",
    "B_i^n(u) = \\begin{pmatrix} n \\\\ i \\end{pmatrix} u^i \\left( 1-u \\right)^{n-i} $$"
   ]
  },
  {
   "cell_type": "markdown",
   "metadata": {
    "deletable": false,
    "editable": false,
    "nbgrader": {
     "cell_type": "markdown",
     "checksum": "2ecc742f23db5457eb4fab7eba29e5eb",
     "grade": false,
     "grade_id": "cell-3ccec883941610de",
     "locked": true,
     "schema_version": 3,
     "solution": false,
     "task": false
    }
   },
   "source": [
    "Ecrire une fonction qui calcule le polynôme de Bernstein $B_i^n(t)$ pour $p$ valeurs de $t$  \n",
    "On pourra obtenir les coefficients binomiaux on utilisant le module **math**, par exemple pour $\\begin{pmatrix} n \\\\ i \\end{pmatrix}$, on écrira \n",
    "```python\n",
    "from math import comb\n",
    "comb(n,i)\n",
    "```"
   ]
  },
  {
   "cell_type": "code",
   "execution_count": 1,
   "metadata": {
    "deletable": false,
    "nbgrader": {
     "cell_type": "code",
     "checksum": "a518dda399d0d6f791c56a92f9414b16",
     "grade": false,
     "grade_id": "cell-c6c6c2b57ab7a4ba",
     "locked": false,
     "schema_version": 3,
     "solution": true,
     "task": false
    }
   },
   "outputs": [],
   "source": [
    "%matplotlib ipympl\n",
    "\n",
    "import numpy as np\n",
    "import matplotlib.pyplot as plt\n",
    "from math import comb,pi\n",
    "\n",
    "def onclick(event):\n",
    "    PtContX.append(event.xdata)\n",
    "    PtContY.append(event.ydata)\n",
    "    if event.button ==3:\n",
    "        ax1.plot(PtContX,PtContY,'ro--')    \n",
    "        plt.disconnect(cid)\n",
    "        \n",
    "\n",
    "    ax1.plot(PtContX,PtContY,'ro--') \n",
    "\n",
    "\n",
    "def Bernstein(n,k,t):\n",
    "    # Votre code ici\n",
    "    return comb(n,k)*(t**k)*((1-t)**(n-k))"
   ]
  },
  {
   "cell_type": "markdown",
   "metadata": {
    "deletable": false,
    "editable": false,
    "nbgrader": {
     "cell_type": "markdown",
     "checksum": "5156ede129452fc3ae50f7425eb31d69",
     "grade": false,
     "grade_id": "cell-33e9bf226b3d698a",
     "locked": true,
     "schema_version": 3,
     "solution": false,
     "task": false
    }
   },
   "source": [
    "### Partition de l'unité\n",
    "Tracer sur une même figure les  polynômes  de Bernstein $ B_i^n, \\; 0 \\leq i \\leq n $, puis tracer, sur la même figure leur somme $S= \\sum_{i=0}^n  B_i^n$.  "
   ]
  },
  {
   "cell_type": "code",
   "execution_count": 2,
   "metadata": {
    "deletable": false,
    "nbgrader": {
     "cell_type": "code",
     "checksum": "722644fbbf2ccfade33b89cde4777d55",
     "grade": true,
     "grade_id": "cell-f2a6c78ebc25c724",
     "locked": false,
     "points": 2,
     "schema_version": 3,
     "solution": true,
     "task": false
    }
   },
   "outputs": [],
   "source": [
    "def partition_unit(n):\n",
    "    \"\"\" On vérifie graphiquement que les polynômes de Bernstein\n",
    "        de degré n forment une partition de l'unité \"\"\"\n",
    "    # Votre code ici\n",
    "    t = np.linspace(0,1,100)\n",
    "    B = np.zeros((n+1,100))\n",
    "    for k in range(n+1):\n",
    "        B[k] = Bernstein(n,k,t)\n",
    "    plt.figure()\n",
    "    plt.plot(t,np.sum(B,axis=0))\n",
    "    plt.title(\"Partition de l'unité\")\n",
    "    plt.show()"
   ]
  },
  {
   "cell_type": "markdown",
   "metadata": {
    "deletable": false,
    "nbgrader": {
     "cell_type": "markdown",
     "checksum": "544184bc5a5c0c230c0080244be2bbd2",
     "grade": true,
     "grade_id": "cell-282c450edbfa84b2",
     "locked": false,
     "points": 2,
     "schema_version": 3,
     "solution": true,
     "task": false
    }
   },
   "source": [
    "YOUR ANSWER HERE"
   ]
  },
  {
   "cell_type": "markdown",
   "metadata": {
    "deletable": false,
    "editable": false,
    "nbgrader": {
     "cell_type": "markdown",
     "checksum": "db3262d33c3e4c696fba8254e003628b",
     "grade": false,
     "grade_id": "cell-71cedd981b481012",
     "locked": true,
     "schema_version": 3,
     "solution": false,
     "task": false
    }
   },
   "source": [
    "Ecrire une fonction qui calcule en $p$ valeurs de $t$ (par défaut 200 valeurs uniformément répartis entre 0 et 1) la courbe de Bézier,  $ {\\cal B}^{n}$.\n",
    "Les points de contrôle sont passés en paramètres sous  la forme d'un array numpy."
   ]
  },
  {
   "cell_type": "code",
   "execution_count": 3,
   "metadata": {
    "deletable": false,
    "nbgrader": {
     "cell_type": "code",
     "checksum": "7f7058f11a59641d4a2b50bd588596d2",
     "grade": true,
     "grade_id": "cell-c20f00ef3360f80e",
     "locked": false,
     "points": 2,
     "schema_version": 3,
     "solution": true,
     "task": false
    }
   },
   "outputs": [],
   "source": [
    "def Bezier(points, num=200):\n",
    "    \"\"\"Courbe de Bézier associée aux points de contrôle\n",
    "        passés en paramètre d'entrée.\n",
    "    \"\"\"\n",
    "    # Votre code ici\n",
    "    print(\"a\")\n",
    "    n = len(points)-1\n",
    "    t = np.linspace(0,1,num)\n",
    "    B = np.zeros((n+1,num))\n",
    "    print(\"b\")\n",
    "    for k in range(n+1):\n",
    "        B[k] = Bernstein(n,k,t)\n",
    "    C = np.zeros((2,num))\n",
    "    print(\"c\")\n",
    "    for k in range(n+1):\n",
    "        print(\"d\")\n",
    "        C += np.outer(points[k], B[k])\n",
    "        print(\"e\")\n",
    "    return C\n",
    "    "
   ]
  },
  {
   "cell_type": "markdown",
   "metadata": {
    "deletable": false,
    "editable": false,
    "nbgrader": {
     "cell_type": "markdown",
     "checksum": "f27595b9919ee862be7184a612eba1fe",
     "grade": false,
     "grade_id": "cell-5a14dae15def7c86",
     "locked": true,
     "schema_version": 3,
     "solution": false,
     "task": false
    }
   },
   "source": [
    "Enfin, tracer sur la **même fenêtre graphique** d'un coté la courbe de Bézier correspondant à des points de contrôle obtenus à la souris, et d'un autre coté les polynômes de Bernstein associés (leur nombre dépendra donc du nombre de points de contrôle).  \n",
    "On utilisera pour cela `subplot` :\n",
    "```python\n",
    "fig = plt.figure()        # On crée la fenêtre graphique\n",
    "ax = fig.add_subplot(121) # On crée la sous-figure  \n",
    "ax.set_xlim([0, 5])       # On fixe la taille de la sous-figure\n",
    "ax.set_ylim([0, 5])       # pour éviter son reimensionnement après \n",
    "                          # les clics de souris\n",
    "```"
   ]
  },
  {
   "cell_type": "code",
   "execution_count": 24,
   "metadata": {
    "deletable": false,
    "editable": false,
    "nbgrader": {
     "cell_type": "code",
     "checksum": "7d86142ed87b02c663b8a86a6a221f6e",
     "grade": false,
     "grade_id": "cell-0077d6514c91186b",
     "locked": true,
     "schema_version": 3,
     "solution": false,
     "task": false
    }
   },
   "outputs": [
    {
     "data": {
      "text/plain": [
       "\" Attention on ne fait que l'acquisition des points dans cette cellule\\n    les courbes s'obtiennent en exécutant la cellule suivante.\\n    Ce n'est pas très intuitif, d'où la remarque ci-dessous (modification de\\n    la fonction onclick).\\n    Laissé à l'appréciation de l'étudiant.\\n\""
      ]
     },
     "execution_count": 24,
     "metadata": {},
     "output_type": "execute_result"
    },
    {
     "data": {
      "application/vnd.jupyter.widget-view+json": {
       "model_id": "f2dffe179b7743b78d154ee3ffd30956",
       "version_major": 2,
       "version_minor": 0
      },
      "image/png": "[encoded data removed]",
      "text/html": [
       "\n",
       "            <div style=\"display: inline-block;\">\n",
       "                <div class=\"jupyter-widgets widget-label\" style=\"text-align: center;\">\n",
       "                    Figure\n",
       "                </div>\n",
       "                <img src='data:image/png;base64,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' width=640.0/>\n",
       "            </div>\n",
       "        "
      ],
      "text/plain": [
       "Canvas(toolbar=Toolbar(toolitems=[('Home', 'Reset original view', 'home', 'home'), ('Back', 'Back to previous …"
      ]
     },
     "metadata": {},
     "output_type": "display_data"
    }
   ],
   "source": [
    "fig = plt.figure()\n",
    "\n",
    "ax1 = fig.add_subplot(121)\n",
    "ax2 = fig.add_subplot(122)\n",
    "fig.subplots_adjust(wspace=0.4)\n",
    "ax1.set_xlim([0, 5])\n",
    "ax1.set_ylim([0, 5])\n",
    "PtContX=[]\n",
    "PtContY=[]\n",
    "\n",
    "cid = fig.canvas.mpl_connect('button_press_event', onclick)\n",
    "\"\"\" Attention on ne fait que l'acquisition des points dans cette cellule\n",
    "    les courbes s'obtiennent en exécutant la cellule suivante.\n",
    "    Ce n'est pas très intuitif, d'où la remarque ci-dessous (modification de\n",
    "    la fonction onclick).\n",
    "    Laissé à l'appréciation de l'étudiant.\n",
    "\"\"\""
   ]
  },
  {
   "cell_type": "code",
   "execution_count": 21,
   "metadata": {
    "deletable": false,
    "nbgrader": {
     "cell_type": "code",
     "checksum": "a1ce8d668c20d39ea3ed9ef298ba3f1f",
     "grade": true,
     "grade_id": "cell-533ea34dcf7024b0",
     "locked": false,
     "points": 2,
     "schema_version": 3,
     "solution": true,
     "task": false
    }
   },
   "outputs": [
    {
     "name": "stdout",
     "output_type": "stream",
     "text": [
      "a\n",
      "b\n",
      "c\n",
      "d\n",
      "e\n",
      "d\n",
      "e\n",
      "d\n",
      "e\n",
      "d\n",
      "e\n",
      "d\n",
      "e\n",
      "d\n",
      "e\n",
      "d\n",
      "e\n",
      "d\n",
      "e\n",
      "d\n",
      "e\n",
      "d\n",
      "e\n",
      "d\n",
      "e\n"
     ]
    },
    {
     "data": {
      "application/vnd.jupyter.widget-view+json": {
       "model_id": "55cefba7a6ef4c77afb8f529fcb8167d",
       "version_major": 2,
       "version_minor": 0
      },
      "image/png": "[encoded data removed]",
      "text/html": [
       "\n",
       "            <div style=\"display: inline-block;\">\n",
       "                <div class=\"jupyter-widgets widget-label\" style=\"text-align: center;\">\n",
       "                    Figure 2\n",
       "                </div>\n",
       "                <img src='data:image/png;base64,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' width=640.0/>\n",
       "            </div>\n",
       "        "
      ],
      "text/plain": [
       "Canvas(toolbar=Toolbar(toolitems=[('Home', 'Reset original view', 'home', 'home'), ('Back', 'Back to previous …"
      ]
     },
     "metadata": {},
     "output_type": "display_data"
    }
   ],
   "source": [
    "\"\"\" Remarque : on peut également modifier la fonction onclick et ajouter les commandes\n",
    "ci-dessous lors du clic droit (après la déconnexion à la figure : plt.disconnect).\n",
    "On obtiendra alors le tracé des courbes juste après le dernier clic. \n",
    "\"\"\"\n",
    "N=len(PtContX)\n",
    "if N>1:\n",
    "    points = np.array([PtContX,PtContY]).T\n",
    "    c = Bezier(points)\n",
    "    ax2.plot(c[0],c[1],'b')\n",
    "    ax2.plot(PtContX,PtContY,'ro--')\n",
    "    plt.show()\n",
    "else:\n",
    "    print(\"Il faut au moins deux points pour tracer une courbe de Bézier\")\n",
    "\n"
   ]
  },
  {
   "cell_type": "markdown",
   "metadata": {
    "deletable": false,
    "editable": false,
    "nbgrader": {
     "cell_type": "markdown",
     "checksum": "2a4b63f9a062988d07bd4266062f853a",
     "grade": false,
     "grade_id": "cell-3910a435bbf0f4d5",
     "locked": true,
     "schema_version": 3,
     "solution": false,
     "task": false
    }
   },
   "source": [
    "### Sous-courbes de Bézier\n",
    "\n",
    "On souhaite découper une courbe de Bézier, ${\\cal B}^{n}$, de degré $n$ en deux morceaux ${\\cal C}^{n}$ et ${\\cal D}^{n}$. Chaque morceau sera une courbe de Bézier de même degré $n$.  \n",
    "La courbe de Bézier ${\\cal B}^{n}$ est déterminée par les $n+1$ points de contrôle $P_0, P_1,\\ldots,P_n$.  \n",
    "Soit $B(t_0)$ le point de la courbe de Bézier  ${\\cal B}^{n}$ où l'on souhaite ``découper''. On va démontrer **numériquement** que les $n+1$ points de contrôle de chaque morceau sont donnés par l'algorithme de De Casteljau. "
   ]
  },
  {
   "cell_type": "markdown",
   "metadata": {
    "deletable": false,
    "editable": false,
    "nbgrader": {
     "cell_type": "markdown",
     "checksum": "d9ed582e74749273b950359e2c76fb0e",
     "grade": false,
     "grade_id": "cell-460f12b34804db68",
     "locked": true,
     "schema_version": 3,
     "solution": false,
     "task": false
    }
   },
   "source": [
    "<div>\n",
    "<img src=\"Principe_algorithme_de_casteljau.png-1.png\" width=\"420\"/>\n",
    "</div>"
   ]
  },
  {
   "cell_type": "markdown",
   "metadata": {
    "deletable": false,
    "editable": false,
    "nbgrader": {
     "cell_type": "markdown",
     "checksum": "346564e31e35c099b73c32e0442bcc04",
     "grade": false,
     "grade_id": "cell-286f22a5f5fee5f8",
     "locked": true,
     "schema_version": 3,
     "solution": false,
     "task": false
    }
   },
   "source": [
    "Ecrire une fonction  **DeCasteljau(P,t0)**, prenant en paramètres d'entrées $n+1$ points et un scalaire $t_0 \\in [0,1]$ et qui renvoie le point $P_{t_0}$  de la courbe de Bézier de paramètre $t_0$"
   ]
  },
  {
   "cell_type": "code",
   "execution_count": 6,
   "metadata": {
    "deletable": false,
    "nbgrader": {
     "cell_type": "code",
     "checksum": "6be801fd4869fd6c2700bd6e1d5b8ddd",
     "grade": true,
     "grade_id": "cell-4be59392e72e5747",
     "locked": false,
     "points": 1,
     "schema_version": 3,
     "solution": true,
     "task": false
    }
   },
   "outputs": [],
   "source": [
    "def DeCasteljau(P,t0):\n",
    "    \"\"\"P est un array (2,n+1) formé des coordonnées des\n",
    "        points de contrôle. t0 est le paramètre.\n",
    "        La fonction renvoie le point P0 de la courbe de Bézier correspondant\n",
    "        au paramètre t0 sous la forme d'un array à deux lignes et une colonne.\n",
    "    \"\"\"\n",
    "    # Votre code ici\n",
    "    n = len(P[0]) -1\n",
    "    Q = np.copy(P)\n",
    "    for i in range(n, 0, -1):\n",
    "        for j in range(i):\n",
    "            Q[0,j] = (1-t0)*Q[0,j] + t0*Q[0,j+1]\n",
    "            Q[1,j] = (1-t0)*Q[1,j] + t0*Q[1,j+1]\n",
    "    P0 = np.array([[Q[0][0]], [Q[1][0]]])\n",
    "    return P0"
   ]
  },
  {
   "cell_type": "code",
   "execution_count": 7,
   "metadata": {
    "deletable": false,
    "editable": false,
    "nbgrader": {
     "cell_type": "code",
     "checksum": "1d4b856fa7ce89db46cc45b9cd2dc276",
     "grade": true,
     "grade_id": "cell-83c598293f97ba71",
     "locked": true,
     "points": 2,
     "schema_version": 3,
     "solution": false,
     "task": false
    }
   },
   "outputs": [],
   "source": [
    "\"\"\"Vérifiez vos résultats sur les tests suivants\"\"\"\n",
    "Px=[1.1129942247944489, 0.8468651925363844, 3.2662200312460614, 4.209768418342835]\n",
    "Py=[0.3947177903476734, 1.382271902901786, 1.8828130284429112, 0.6517524223823054]\n",
    "\n",
    "assert all(np.round(DeCasteljau(np.array([Px,Py]),0.3),4) == np.array([[1.4862],[1.1184]]))\n"
   ]
  },
  {
   "cell_type": "markdown",
   "metadata": {},
   "source": []
  },
  {
   "cell_type": "markdown",
   "metadata": {
    "deletable": false,
    "editable": false,
    "nbgrader": {
     "cell_type": "markdown",
     "checksum": "4a9dac7c83af63ecae684b22af27887e",
     "grade": false,
     "grade_id": "cell-2c78c1dd2166a3bd",
     "locked": true,
     "schema_version": 3,
     "solution": false,
     "task": false
    }
   },
   "source": [
    "Modifier la fonction précédente pour qu'elle renvoie le point $P_{t_0}$  de la courbe de Bézier de paramètre $t_0$ ainsi que deux tableaux numpy, $P_1, P_2$ de $n+1$ points constitués des points intermédiaires qui ont servi au calcul du  point de paramètre $t_0$ par l'algorithme de De Casteljau.  \n",
    "Le premier tableau, $P_1$, est formé du premier point de contrôle et des **premiers** points de chaque étape de l'algorithme de De Casteljau. Le deuxième, $P_2$ est formé du dernier point de contrôle et des **derniers** points de chaque étape de l'algorithme de De Casteljau mais ordonné dans le sens inverse (voir exemple ci-dessous).  \n",
    "Reprenons l'exemple de la figure ci-dessus, on obtiendra ainsi\n",
    "$$ P_1=\\{P_0^0, P_0^1, P_0^2,P_0^3  \\} \\; \\text{et} \\; P_2=\\{P_0^3,P_1^2,P_2^1,P_3^0 \\}  $$"
   ]
  },
  {
   "cell_type": "code",
   "execution_count": 8,
   "metadata": {
    "deletable": false,
    "nbgrader": {
     "cell_type": "code",
     "checksum": "a3969b1b99c99e832ea16b87f0bbd925",
     "grade": true,
     "grade_id": "cell-eb9a04ba748b7c57",
     "locked": false,
     "points": 2,
     "schema_version": 3,
     "solution": true,
     "task": false
    }
   },
   "outputs": [],
   "source": [
    "def DeCasteljau2(P, t0):\n",
    "    \"\"\"\n",
    "    P est un array (2, n+1) formé des coordonnées des points de contrôle. \n",
    "    t0 est le paramètre. La fonction renvoie le point P0 de la courbe de Bézier correspondant \n",
    "    au paramètre t0 ainsi que les deux array P1 et P2 (coordonnées de points) décrits \n",
    "    précédemment, chacun de ces tableaux est de dimension (2, n+1).\n",
    "    On gérera les exceptions avec \"raise ValueError()\" (si le paramètre t0 n'appartient pas à ]0;1[).\n",
    "    \"\"\"\n",
    "    if not (0 < t0 < 1):\n",
    "        raise ValueError(\"t0 must be in the interval ]0, 1[\")\n",
    "    \n",
    "    n = len(P[0]) - 1\n",
    "    Q = np.copy(P)\n",
    "    P1 = np.zeros((2, n + 1))\n",
    "    P2 = np.zeros((2, n + 1))\n",
    "    \n",
    "    P1[:, 0] = P[:, 0]\n",
    "    P2[:, 0] = P[:, n]\n",
    "\n",
    "    for i in range(1, n + 1):\n",
    "        for j in range(n - i + 1):\n",
    "            Q[0, j] = (1 - t0) * Q[0, j] + t0 * Q[0, j + 1]\n",
    "            Q[1, j] = (1 - t0) * Q[1, j] + t0 * Q[1, j + 1]\n",
    "        P1[:, i] = Q[:, 0]\n",
    "        P2[:, i] = Q[:, n - i]\n",
    "\n",
    "    P0 = np.array([[Q[0, 0]], [Q[1, 0]]])\n",
    "    P2 = P2[:, ::-1]  # Inverser l'ordre des colonnes de P2\n",
    "    \n",
    "    return P0, P1, P2"
   ]
  },
  {
   "cell_type": "code",
   "execution_count": null,
   "metadata": {
    "deletable": false,
    "editable": false,
    "nbgrader": {
     "cell_type": "code",
     "checksum": "c74e7e0f3d5f1921b19f3a8b47f7c489",
     "grade": true,
     "grade_id": "cell-f416c6051bb0da39",
     "locked": true,
     "points": 2,
     "schema_version": 3,
     "solution": false,
     "task": false
    }
   },
   "outputs": [
    {
     "data": {
      "text/plain": [
       "np.True_"
      ]
     },
     "execution_count": 9,
     "metadata": {},
     "output_type": "execute_result"
    }
   ],
   "source": [
    "\"\"\"Vérifiez vos résultats sur les tests suivants\"\"\"\n",
    "np.all(np.round(DeCasteljau2(np.array([Px,Py]),0.3)[0],4) == np.array([[1.4862],[1.1184]]))\n",
    "np.all(np.round(DeCasteljau2(np.array([Px,Py]),0.3)[1],4) == np.array([[1.1130, 1.0332, 1.1950, 1.4862],[0.3947,0.691 , 0.9434, 1.1184]]))"
   ]
  },
  {
   "cell_type": "markdown",
   "metadata": {
    "deletable": false,
    "editable": false,
    "nbgrader": {
     "cell_type": "markdown",
     "checksum": "bdf98c83130f183f9e57dd2d50bfcecf",
     "grade": false,
     "grade_id": "cell-fa9666dc6cffed5e",
     "locked": true,
     "schema_version": 3,
     "solution": false,
     "task": false
    }
   },
   "source": [
    "Dans cette dernière partie, on souhaite faire l'acquisition des points de contrôle à la souris, les représenter sur la figure (ainsi que le polygône de contrôle correspondant) puis tracer sur la même figure la courbes de Bézier associée à ces points ainsi  que les deux sous courbes de Bézier associées (l'utisateur choisira le paramètre de coupure t0).  \n",
    "Vous devriez, au final, avoir une figure semblable à celle ci-dessous."
   ]
  },
  {
   "cell_type": "markdown",
   "metadata": {
    "deletable": false,
    "editable": false,
    "nbgrader": {
     "cell_type": "markdown",
     "checksum": "c8b96a48e8a3e31f183df5801db3ecc5",
     "grade": false,
     "grade_id": "cell-2c143ca12b410b01",
     "locked": true,
     "schema_version": 3,
     "solution": false,
     "task": false
    }
   },
   "source": [
    "<div>\n",
    "<img src=\"SousCourbes.png\" width=\"520\"/>\n",
    "</div>"
   ]
  },
  {
   "cell_type": "code",
   "execution_count": null,
   "metadata": {
    "deletable": false,
    "nbgrader": {
     "cell_type": "code",
     "checksum": "06cbe077855706e5cdfc7e64b4209d62",
     "grade": false,
     "grade_id": "cell-563b4b5ed17527d5",
     "locked": false,
     "schema_version": 3,
     "solution": true,
     "task": false
    }
   },
   "outputs": [],
   "source": [
    "# Acquisition des points de contrôle\n",
    "# Votre code ici"
   ]
  },
  {
   "cell_type": "code",
   "execution_count": null,
   "metadata": {
    "deletable": false,
    "nbgrader": {
     "cell_type": "code",
     "checksum": "123e37096b90005ed16307e11f8eda74",
     "grade": true,
     "grade_id": "cell-fafee4e5971cf70a",
     "locked": false,
     "points": 2,
     "schema_version": 3,
     "solution": true,
     "task": false
    }
   },
   "outputs": [],
   "source": [
    "def SousCourbes(PtContX,PtContY,t0):\n",
    "    \"\"\" Les coordonnées des points de contrôle sont donnés par les listes PtContX et PtContY (ici se sont des\n",
    "    listes (comme dans les tp précédents). Le paramètre du point de découpe est t0.\n",
    "    Toutes les directives de tracé se font dans cette fonction, elle ne retourne donc rien. On l'appelle pour effectuer \n",
    "    les tracés.\n",
    "    \"\"\"\n",
    "    # Votre code ici\n",
    "SousCourbes(PtContX,PtContY,0.35)   "
   ]
  },
  {
   "cell_type": "markdown",
   "metadata": {
    "deletable": false,
    "editable": false,
    "nbgrader": {
     "cell_type": "markdown",
     "checksum": "54b82aabdb698bd454d7507184c7301f",
     "grade": false,
     "grade_id": "cell-0cb9fc53fdddf86b",
     "locked": true,
     "schema_version": 3,
     "solution": false,
     "task": false
    }
   },
   "source": [
    "### Bézier rationnelles\n",
    "  \n",
    "\n",
    "Dans cette partie on s'interesse aux courbes de Bézier rationnelles, $ {\\cal B}^{n}$.  \n",
    "L'idée est d'ajouter des poids, $\\omega_i$, aux points de contrôle $P_i$.  \n",
    "\n",
    "Pour $n+1$ points de contrôle $(\\mathbf{P}_0, \\dots, \\mathbf{P}_n)$, et $n+1$ poids $\\omega_i, i\\in\\{0,\\ldots,n\\}$ **non tous nuls**, on définit la courbe de Bézier rationnelle  \n",
    "$$B_r(t)=\\displaystyle \\frac{\\displaystyle\\sum_{i=0}^n B_i^n(t) \\omega_i \\mathbf{P}_i }{\\displaystyle\\sum_{i=0}^n B_i^n(t) \\omega_i } , \\quad t \\in[0,1] $$  \n",
    "où les $B_i^n$ sont les polynômes de Bernstein et la suite des points $\\mathbf{P}_0, \\dots, \\mathbf{P}_n$ forme le polygone de contrôle."
   ]
  },
  {
   "cell_type": "markdown",
   "metadata": {
    "deletable": false,
    "editable": false,
    "nbgrader": {
     "cell_type": "markdown",
     "checksum": "5a76532e299dc13feb2982b84427bbc1",
     "grade": false,
     "grade_id": "cell-e88d70d8e03ffba8",
     "locked": true,
     "schema_version": 3,
     "solution": false,
     "task": false
    }
   },
   "source": [
    "Que se passe t'il si tous les poids sont égaux, quelle courbe obtient-on ?  \n",
    "Justifiez brièvement (mais clairement) votre réponse dans la cellule ci-dessus."
   ]
  },
  {
   "cell_type": "markdown",
   "metadata": {
    "deletable": false,
    "nbgrader": {
     "cell_type": "markdown",
     "checksum": "bfb58669f93a79e237b2826cd7e4094f",
     "grade": true,
     "grade_id": "cell-0b47816484bd146e",
     "locked": false,
     "points": 2,
     "schema_version": 3,
     "solution": true,
     "task": false
    }
   },
   "source": [
    "YOUR ANSWER HERE :\n",
    "\n",
    "Si tous les poids 𝜔𝑖 sont égaux, disons 𝜔𝑖=𝜔 pour tout 𝑖, la formule de la courbe de Bézier rationnelle devient \n",
    "\n",
    "$$B_r(t)=\\displaystyle \\frac{\\displaystyle\\sum_{i=0}^n B_i^n(t) \\omega \\mathbf{P}_i }{\\displaystyle\\sum_{i=0}^n B_i^n(t) \\omega }$$  \n",
    "\n",
    "En simplifiant, puisque 𝜔 est une constante commune au numérateur et au dénominateur, on peut la factoriser et l'annuler :\n",
    "\n",
    "$$B_r(t)=\\displaystyle \\frac{\\omega \\displaystyle\\sum_{i=0}^n B_i^n(t)  \\mathbf{P}_i }{\\omega\\displaystyle\\sum_{i=0}^n B_i^n(t)}  = \\displaystyle \\frac{ \\displaystyle\\sum_{i=0}^n B_i^n(t)  \\mathbf{P}_i }{\\displaystyle\\sum_{i=0}^n B_i^n(t)}$$\n",
    "\n",
    "Nous savons que la somme des polynômes de Bernstein est égale à 1 :\n",
    "\n",
    "$${\\displaystyle\\sum_{i=0}^n B_i^n(t)} = 1 $$\n",
    "\n",
    "Par conséquent, l'équation se simplifie en :\n",
    "\n",
    "$$B_r(t)= {\\displaystyle\\sum_{i=0}^n B_i^n(t)}\\mathbf{P}_i$$\n",
    "\n",
    "\n",
    "Cette équation correspond exactement à la définition d'une courbe de Bézier classique de degré 𝑛. Donc, si tous les poids sont égaux, la courbe de Bézier rationnelle devient une courbe de Bézier classique.\n",
    "\n",
    "\n"
   ]
  },
  {
   "cell_type": "markdown",
   "metadata": {
    "deletable": false,
    "editable": false,
    "nbgrader": {
     "cell_type": "markdown",
     "checksum": "0ef7a580bfe43233beeb04edbcbec82c",
     "grade": false,
     "grade_id": "cell-416630b5f5ece1a0",
     "locked": true,
     "schema_version": 3,
     "solution": false,
     "task": false
    }
   },
   "source": [
    "Ecrire une fonction qui prend en paramètre d'entrée les points de contrôle (sous forme d'un **tableau numpy** à 2 lignes et n+1 colonnes, une **liste** de n+1 poids ainsi qu'un paramètre $t \\in [0,1]$ et qui renvoie le point de la courbe de Bézier rationnelle correspondant à $t$.   "
   ]
  },
  {
   "cell_type": "code",
   "execution_count": 18,
   "metadata": {
    "deletable": false,
    "nbgrader": {
     "cell_type": "code",
     "checksum": "d704fd8dfb3844833a899c567ecaf458",
     "grade": true,
     "grade_id": "cell-3fc2a6f05c23d523",
     "locked": false,
     "points": 2,
     "schema_version": 3,
     "solution": true,
     "task": false
    }
   },
   "outputs": [],
   "source": [
    "def BezierRat(Pc, L, t):\n",
    "    \"\"\"\n",
    "    Courbe de Bézier rationnelle associée aux points de contrôle Pc\n",
    "    passés en paramètre d'entrée, une liste L de poids et un\n",
    "    paramètre t. La fonction renvoie le point Pt de la courbe correspondant au paramètre t.\n",
    "    On gérera une exception si tous les poids sont nuls (raise ValueError()).\n",
    "    \"\"\"\n",
    "    if np.all(np.array(L) == 0):\n",
    "        raise ValueError(\"All weights cannot be zero.\")\n",
    "    \n",
    "    n = len(L) - 1\n",
    "    B = np.array([np.math.comb(n, i) * (t ** i) * ((1 - t) ** (n - i)) for i in range(n + 1)])\n",
    "    \n",
    "    num = np.dot(B * L, Pc.T)\n",
    "    denom = np.dot(B, L)\n",
    "    Pt = num / denom\n",
    "    \n",
    "    return Pt\n",
    "\n"
   ]
  },
  {
   "cell_type": "code",
   "execution_count": 19,
   "metadata": {
    "deletable": false,
    "editable": false,
    "nbgrader": {
     "cell_type": "code",
     "checksum": "316c01e6ce853ad600e4e9be737f2779",
     "grade": true,
     "grade_id": "cell-29b0063a69709eac",
     "locked": true,
     "points": 2,
     "schema_version": 3,
     "solution": false,
     "task": false
    }
   },
   "outputs": [
    {
     "ename": "AttributeError",
     "evalue": "module 'numpy' has no attribute 'math'",
     "output_type": "error",
     "traceback": [
      "\u001b[1;31m---------------------------------------------------------------------------\u001b[0m",
      "\u001b[1;31mAttributeError\u001b[0m                            Traceback (most recent call last)",
      "Cell \u001b[1;32mIn[19], line 2\u001b[0m\n\u001b[0;32m      1\u001b[0m \u001b[38;5;124;03m\"\"\"Vérifiez vos résultats sur les tests suivants\"\"\"\u001b[39;00m\n\u001b[1;32m----> 2\u001b[0m np\u001b[38;5;241m.\u001b[39mall(np\u001b[38;5;241m.\u001b[39mround(\u001b[43mBezierRat\u001b[49m\u001b[43m(\u001b[49m\u001b[43mnp\u001b[49m\u001b[38;5;241;43m.\u001b[39;49m\u001b[43marray\u001b[49m\u001b[43m(\u001b[49m\u001b[43m[\u001b[49m\u001b[43mPx\u001b[49m\u001b[43m,\u001b[49m\u001b[43mPy\u001b[49m\u001b[43m]\u001b[49m\u001b[43m)\u001b[49m\u001b[43m,\u001b[49m\u001b[43m[\u001b[49m\u001b[38;5;241;43m4\u001b[39;49m\u001b[43m,\u001b[49m\u001b[38;5;241;43m4\u001b[39;49m\u001b[43m,\u001b[49m\u001b[38;5;241;43m4\u001b[39;49m\u001b[43m,\u001b[49m\u001b[38;5;241;43m4\u001b[39;49m\u001b[43m]\u001b[49m\u001b[43m,\u001b[49m\u001b[38;5;241;43m0.5\u001b[39;49m\u001b[43m)\u001b[49m,\u001b[38;5;241m4\u001b[39m)\u001b[38;5;241m==\u001b[39mnp\u001b[38;5;241m.\u001b[39marray([[\u001b[38;5;241m2.2078\u001b[39m],[\u001b[38;5;241m1.3552\u001b[39m]]))\n",
      "Cell \u001b[1;32mIn[18], line 12\u001b[0m, in \u001b[0;36mBezierRat\u001b[1;34m(Pc, L, t)\u001b[0m\n\u001b[0;32m      9\u001b[0m     \u001b[38;5;28;01mraise\u001b[39;00m \u001b[38;5;167;01mValueError\u001b[39;00m(\u001b[38;5;124m\"\u001b[39m\u001b[38;5;124mAll weights cannot be zero.\u001b[39m\u001b[38;5;124m\"\u001b[39m)\n\u001b[0;32m     11\u001b[0m n \u001b[38;5;241m=\u001b[39m \u001b[38;5;28mlen\u001b[39m(L) \u001b[38;5;241m-\u001b[39m \u001b[38;5;241m1\u001b[39m\n\u001b[1;32m---> 12\u001b[0m B \u001b[38;5;241m=\u001b[39m np\u001b[38;5;241m.\u001b[39marray(\u001b[43m[\u001b[49m\u001b[43mnp\u001b[49m\u001b[38;5;241;43m.\u001b[39;49m\u001b[43mmath\u001b[49m\u001b[38;5;241;43m.\u001b[39;49m\u001b[43mcomb\u001b[49m\u001b[43m(\u001b[49m\u001b[43mn\u001b[49m\u001b[43m,\u001b[49m\u001b[43m \u001b[49m\u001b[43mi\u001b[49m\u001b[43m)\u001b[49m\u001b[43m \u001b[49m\u001b[38;5;241;43m*\u001b[39;49m\u001b[43m \u001b[49m\u001b[43m(\u001b[49m\u001b[43mt\u001b[49m\u001b[43m \u001b[49m\u001b[38;5;241;43m*\u001b[39;49m\u001b[38;5;241;43m*\u001b[39;49m\u001b[43m \u001b[49m\u001b[43mi\u001b[49m\u001b[43m)\u001b[49m\u001b[43m \u001b[49m\u001b[38;5;241;43m*\u001b[39;49m\u001b[43m \u001b[49m\u001b[43m(\u001b[49m\u001b[43m(\u001b[49m\u001b[38;5;241;43m1\u001b[39;49m\u001b[43m \u001b[49m\u001b[38;5;241;43m-\u001b[39;49m\u001b[43m \u001b[49m\u001b[43mt\u001b[49m\u001b[43m)\u001b[49m\u001b[43m \u001b[49m\u001b[38;5;241;43m*\u001b[39;49m\u001b[38;5;241;43m*\u001b[39;49m\u001b[43m \u001b[49m\u001b[43m(\u001b[49m\u001b[43mn\u001b[49m\u001b[43m \u001b[49m\u001b[38;5;241;43m-\u001b[39;49m\u001b[43m \u001b[49m\u001b[43mi\u001b[49m\u001b[43m)\u001b[49m\u001b[43m)\u001b[49m\u001b[43m \u001b[49m\u001b[38;5;28;43;01mfor\u001b[39;49;00m\u001b[43m \u001b[49m\u001b[43mi\u001b[49m\u001b[43m \u001b[49m\u001b[38;5;129;43;01min\u001b[39;49;00m\u001b[43m \u001b[49m\u001b[38;5;28;43mrange\u001b[39;49m\u001b[43m(\u001b[49m\u001b[43mn\u001b[49m\u001b[43m \u001b[49m\u001b[38;5;241;43m+\u001b[39;49m\u001b[43m \u001b[49m\u001b[38;5;241;43m1\u001b[39;49m\u001b[43m)\u001b[49m\u001b[43m]\u001b[49m)\n\u001b[0;32m     14\u001b[0m num \u001b[38;5;241m=\u001b[39m np\u001b[38;5;241m.\u001b[39mdot(B \u001b[38;5;241m*\u001b[39m L, Pc\u001b[38;5;241m.\u001b[39mT)\n\u001b[0;32m     15\u001b[0m denom \u001b[38;5;241m=\u001b[39m np\u001b[38;5;241m.\u001b[39mdot(B, L)\n",
      "Cell \u001b[1;32mIn[18], line 12\u001b[0m, in \u001b[0;36m<listcomp>\u001b[1;34m(.0)\u001b[0m\n\u001b[0;32m      9\u001b[0m     \u001b[38;5;28;01mraise\u001b[39;00m \u001b[38;5;167;01mValueError\u001b[39;00m(\u001b[38;5;124m\"\u001b[39m\u001b[38;5;124mAll weights cannot be zero.\u001b[39m\u001b[38;5;124m\"\u001b[39m)\n\u001b[0;32m     11\u001b[0m n \u001b[38;5;241m=\u001b[39m \u001b[38;5;28mlen\u001b[39m(L) \u001b[38;5;241m-\u001b[39m \u001b[38;5;241m1\u001b[39m\n\u001b[1;32m---> 12\u001b[0m B \u001b[38;5;241m=\u001b[39m np\u001b[38;5;241m.\u001b[39marray([\u001b[43mnp\u001b[49m\u001b[38;5;241;43m.\u001b[39;49m\u001b[43mmath\u001b[49m\u001b[38;5;241m.\u001b[39mcomb(n, i) \u001b[38;5;241m*\u001b[39m (t \u001b[38;5;241m*\u001b[39m\u001b[38;5;241m*\u001b[39m i) \u001b[38;5;241m*\u001b[39m ((\u001b[38;5;241m1\u001b[39m \u001b[38;5;241m-\u001b[39m t) \u001b[38;5;241m*\u001b[39m\u001b[38;5;241m*\u001b[39m (n \u001b[38;5;241m-\u001b[39m i)) \u001b[38;5;28;01mfor\u001b[39;00m i \u001b[38;5;129;01min\u001b[39;00m \u001b[38;5;28mrange\u001b[39m(n \u001b[38;5;241m+\u001b[39m \u001b[38;5;241m1\u001b[39m)])\n\u001b[0;32m     14\u001b[0m num \u001b[38;5;241m=\u001b[39m np\u001b[38;5;241m.\u001b[39mdot(B \u001b[38;5;241m*\u001b[39m L, Pc\u001b[38;5;241m.\u001b[39mT)\n\u001b[0;32m     15\u001b[0m denom \u001b[38;5;241m=\u001b[39m np\u001b[38;5;241m.\u001b[39mdot(B, L)\n",
      "File \u001b[1;32m~\\AppData\\Local\\Packages\\PythonSoftwareFoundation.Python.3.11_qbz5n2kfra8p0\\LocalCache\\local-packages\\Python311\\site-packages\\numpy\\__init__.py:427\u001b[0m, in \u001b[0;36m__getattr__\u001b[1;34m(attr)\u001b[0m\n\u001b[0;32m    424\u001b[0m     \u001b[38;5;28;01mimport\u001b[39;00m\u001b[38;5;250m \u001b[39m\u001b[38;5;21;01mnumpy\u001b[39;00m\u001b[38;5;21;01m.\u001b[39;00m\u001b[38;5;21;01mchar\u001b[39;00m\u001b[38;5;250m \u001b[39m\u001b[38;5;28;01mas\u001b[39;00m\u001b[38;5;250m \u001b[39m\u001b[38;5;21;01mchar\u001b[39;00m\n\u001b[0;32m    425\u001b[0m     \u001b[38;5;28;01mreturn\u001b[39;00m char\u001b[38;5;241m.\u001b[39mchararray\n\u001b[1;32m--> 427\u001b[0m \u001b[38;5;28;01mraise\u001b[39;00m \u001b[38;5;167;01mAttributeError\u001b[39;00m(\u001b[38;5;124m\"\u001b[39m\u001b[38;5;124mmodule \u001b[39m\u001b[38;5;132;01m{!r}\u001b[39;00m\u001b[38;5;124m has no attribute \u001b[39m\u001b[38;5;124m\"\u001b[39m\n\u001b[0;32m    428\u001b[0m                      \u001b[38;5;124m\"\u001b[39m\u001b[38;5;132;01m{!r}\u001b[39;00m\u001b[38;5;124m\"\u001b[39m\u001b[38;5;241m.\u001b[39mformat(\u001b[38;5;18m__name__\u001b[39m, attr))\n",
      "\u001b[1;31mAttributeError\u001b[0m: module 'numpy' has no attribute 'math'"
     ]
    }
   ],
   "source": [
    "\"\"\"Vérifiez vos résultats sur les tests suivants\"\"\"\n",
    "np.all(np.round(BezierRat(np.array([Px,Py]),[4,4,4,4],0.5),4)==np.array([[2.2078],[1.3552]]))\n"
   ]
  },
  {
   "cell_type": "markdown",
   "metadata": {
    "deletable": false,
    "editable": false,
    "nbgrader": {
     "cell_type": "markdown",
     "checksum": "8ecf8fe69a97e9c4f527fb8f9b839f78",
     "grade": false,
     "grade_id": "cell-299d72c86266623e",
     "locked": true,
     "schema_version": 3,
     "solution": false,
     "task": false
    }
   },
   "source": [
    "Modifier la fonction précédente pour pouvoir passer un vecteur de paramètres (t = np.linspace(0,1,100) par exemple). "
   ]
  },
  {
   "cell_type": "code",
   "execution_count": null,
   "metadata": {
    "deletable": false,
    "nbgrader": {
     "cell_type": "code",
     "checksum": "1358d1a0393a47b6e67e46861bfc4b35",
     "grade": true,
     "grade_id": "cell-41f36fbb48321263",
     "locked": false,
     "points": 2,
     "schema_version": 3,
     "solution": true,
     "task": false
    }
   },
   "outputs": [],
   "source": [
    "def BezierRatVect(Pc,L,t):\n",
    "    \"\"\"Courbe de Bézier rationnelle associée aux points de contrôle Pc\n",
    "       passés en paramètre d'entrée, une liste L de poids et un vecteur\n",
    "       de paramètre t.\n",
    "       La fonction renvoie les points Pts de la courbe correpondant aux paramètres t\n",
    "       On gérera une exception si tous les poids sont nuls (raise ValueError())\n",
    "    \"\"\"\n",
    "    # Votre code ici\n",
    "    return Pts"
   ]
  },
  {
   "cell_type": "code",
   "execution_count": null,
   "metadata": {
    "deletable": false,
    "editable": false,
    "nbgrader": {
     "cell_type": "code",
     "checksum": "ef4b91a359b3a13c29cd54d65df7957b",
     "grade": true,
     "grade_id": "cell-a0c8923a16f8506f",
     "locked": true,
     "points": 2,
     "schema_version": 3,
     "solution": false,
     "task": false
    }
   },
   "outputs": [],
   "source": [
    "\"\"\"Vérifiez vos résultats sur les tests suivants\"\"\"\n",
    "np.all(np.round(BezierRatVect(np.array([Px,Py]),[4,4,4,4],np.linspace(0,1,6)),4)==np.array([[1.113 , 1.2423, 1.8163, 2.6354, 3.4998, 4.2098],\n",
    "[0.3947, 0.9189, 1.2664, 1.3775, 1.1926, 0.6518]]))\n"
   ]
  },
  {
   "cell_type": "markdown",
   "metadata": {
    "deletable": false,
    "editable": false,
    "nbgrader": {
     "cell_type": "markdown",
     "checksum": "b56c82a4c4bf1c8dd3fa6469ec60a44e",
     "grade": false,
     "grade_id": "cell-7ce6ff0c0fee79ed",
     "locked": true,
     "schema_version": 3,
     "solution": false,
     "task": false
    }
   },
   "source": [
    "Ecrire une fonction qui prend comme paramètre d'entrée les points de contrôle (sous forme d'un tableau numpy) ainsi qu'une liste, L,  de poids et qui trace sur une même figure les points de contrôle, le polygone de contrôle et la courbe de Bézier rationnelle (cubique) associée à ces points et ces poids. "
   ]
  },
  {
   "cell_type": "code",
   "execution_count": null,
   "metadata": {
    "deletable": false,
    "nbgrader": {
     "cell_type": "code",
     "checksum": "56d041950a5e70ee2a77e384e98744fe",
     "grade": true,
     "grade_id": "cell-876e6e0dbde7c859",
     "locked": false,
     "points": 2,
     "schema_version": 3,
     "solution": true,
     "task": false
    }
   },
   "outputs": [],
   "source": [
    "def TraceBezRat(Pc,L):\n",
    "    \"\"\" Pc est un array numpy de dimension(2,n+1) (abscisses et ordonnées des points de contrôle) et L la liste des poids.\n",
    "        La fonction ne renvoie rien.\n",
    "        \"\"\"\n",
    "    t=np.linspace(0,1,100)\n",
    "    # Votre code ici"
   ]
  },
  {
   "cell_type": "markdown",
   "metadata": {
    "deletable": false,
    "editable": false,
    "nbgrader": {
     "cell_type": "markdown",
     "checksum": "af3131726a891f4b762949e7cc29b579",
     "grade": false,
     "grade_id": "cell-f3843b9d58354a13",
     "locked": true,
     "schema_version": 3,
     "solution": false,
     "task": false
    }
   },
   "source": [
    "En appelant TraceBezRat(np.array([Px,Py]),[0.5,4,3,0.7]) Vous devriez obtenir la figure ci-dessous"
   ]
  },
  {
   "cell_type": "markdown",
   "metadata": {
    "deletable": false,
    "editable": false,
    "nbgrader": {
     "cell_type": "markdown",
     "checksum": "0bb4cd744b028cd3c475efc1efccb7d5",
     "grade": false,
     "grade_id": "cell-5bdb2181616f309f",
     "locked": true,
     "schema_version": 3,
     "solution": false,
     "task": false
    }
   },
   "source": [
    "<div>\n",
    "<img src=\"BezierRat.png\" width=\"520\"/>\n",
    "</div>"
   ]
  },
  {
   "cell_type": "markdown",
   "metadata": {
    "deletable": false,
    "editable": false,
    "nbgrader": {
     "cell_type": "markdown",
     "checksum": "cfd327adc2a81851f445442198c65bb0",
     "grade": false,
     "grade_id": "cell-f5114b236095a577",
     "locked": true,
     "schema_version": 3,
     "solution": false,
     "task": false
    }
   },
   "source": [
    "En déduire, en faisant quelques tests, l'effet des poids sur la courbe. Expliquer bièvement dans la cellule ci-dessous."
   ]
  },
  {
   "cell_type": "markdown",
   "metadata": {
    "deletable": false,
    "nbgrader": {
     "cell_type": "markdown",
     "checksum": "19969745d0a00b0347efdfe511a86920",
     "grade": true,
     "grade_id": "cell-b98c2a8c433918bb",
     "locked": false,
     "points": 1,
     "schema_version": 3,
     "solution": true,
     "task": false
    }
   },
   "source": [
    "Votre reponse ici"
   ]
  }
 ],
 "metadata": {
  "kernelspec": {
   "display_name": "Python 3",
   "language": "python",
   "name": "python3"
  },
  "language_info": {
   "codemirror_mode": {
    "name": "ipython",
    "version": 3
   },
   "file_extension": ".py",
   "mimetype": "text/x-python",
   "name": "python",
   "nbconvert_exporter": "python",
   "pygments_lexer": "ipython3",
   "version": "3.11.9"
  }
 },
 "nbformat": 4,
 "nbformat_minor": 4
}
