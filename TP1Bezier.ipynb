{
 "cells": [
  {
   "cell_type": "markdown",
   "metadata": {},
   "source": [
    "En cas de problème particulier (lors de l'execution d'une cellule), on pourra relancer le noyau jupyter.\n",
    "\n",
    "Vos réponses (codes ou réponses) doivent être placées entre les balises :`VOTRE CODE ICI` ou \"VOTRE REPONSE ICI\", N'oubliez pas d'indiquer vos noms et prénoms"
   ]
  },
  {
   "cell_type": "code",
   "execution_count": null,
   "metadata": {},
   "outputs": [],
   "source": [
    "NOMS et PRENOMS = \"Mwa\"\n"
   ]
  },
  {
   "cell_type": "markdown",
   "metadata": {},
   "source": [
    "---"
   ]
  },
  {
   "cell_type": "markdown",
   "metadata": {
    "deletable": false,
    "editable": false,
    "nbgrader": {
     "cell_type": "markdown",
     "checksum": "d28727ad46c91933f13ddb741c7f9a56",
     "grade": false,
     "grade_id": "cell-0ec0975838c8ad5d",
     "locked": true,
     "schema_version": 3,
     "solution": false,
     "task": false
    }
   },
   "source": [
    "# <p style=\"text-align: center;\"> Projet 1 modélisation  <br> Courbes et sous courbes de Bézier, courbes de Bézier rationnelles\n",
    "</p>"
   ]
  },
  {
   "cell_type": "markdown",
   "metadata": {
    "deletable": false,
    "editable": false,
    "nbgrader": {
     "cell_type": "markdown",
     "checksum": "dd80d335eb347fab097d35ec82904b3e",
     "grade": false,
     "grade_id": "cell-32ed3742a5c58bdd",
     "locked": true,
     "schema_version": 3,
     "solution": false,
     "task": false
    }
   },
   "source": [
    "## <span style=\"color:red\">  **Consignes générales :** </span>\n",
    "1. Lire attentivement le sujet\n",
    "2. les structures de données ainsi que  les entrées et sorties des méthodes demandées (et leur type) sont **imposées**. Il ne faut pas les modifier\n",
    "3. Pour qu'une cellule de code soit prise en compte elle doit être executée.\n",
    "4. Ne **pas ajouter ou effacer de cellule**. Si, néanmoins, vous ajoutez  une cellule pour des tests, il faudra la supprimer avant de déposer votre notebook. Il est cependant préférable de faire vos test sur un autre notebook (ou ide, etc).\n",
    "5. Si vous faites une modification dans une cellule, il faut \"l'executer\" pour qu'elle soit prise en compte.\n",
    "6. Des tests de validation de certaines méthodes sont proposés, il est nécessaire de les passer mais pas suffisant !\n",
    "7. Vous pouvez utiliser, en les adaptant,  les  méthodes obtenues durant les séances de tp.\n",
    "8. Dans la cellule ci-dessous, vous pouvez ajouter les fonctions des tp précédents et dont vous avez besoin (**Bernstein**, etc).\n",
    "9. Enfin lors du dépot sur moodle, **ne pas modifier le nom du fichier.**"
   ]
  },
  {
   "cell_type": "markdown",
   "metadata": {
    "deletable": false,
    "editable": false,
    "nbgrader": {
     "cell_type": "markdown",
     "checksum": "9e40c0c5dad4877169afccd4963afc20",
     "grade": false,
     "grade_id": "cell-53178b303c0a876a",
     "locked": true,
     "schema_version": 3,
     "solution": false,
     "task": false
    }
   },
   "source": [
    "### <ins> Avec les polynômes de Bernstein </ins>\n",
    "\n",
    "Pour $n+1$ points de contrôle $(\\mathbf{P}_0, \\dots, \\mathbf{P}_n)$, on définit la courbe de Bézier   \n",
    "$$\\sum_{i=0}^n B_i^n(t)\\mathbf{P}_i, \\quad t \\in[0,1] $$ \n",
    "où les $B_i^n$ sont les polynômes de Bernstein.  \n",
    "La suite des points $\\mathbf{P}_0, \\dots, \\mathbf{P}_n$ forme le polygone de contrôle.  \n",
    "Les $n+1$ polynômes de Bernstein sont donnés par\n",
    "$$\n",
    "B_i^n(u) = \\begin{pmatrix} n \\\\ i \\end{pmatrix} u^i \\left( 1-u \\right)^{n-i} $$"
   ]
  },
  {
   "cell_type": "markdown",
   "metadata": {
    "deletable": false,
    "editable": false,
    "nbgrader": {
     "cell_type": "markdown",
     "checksum": "2ecc742f23db5457eb4fab7eba29e5eb",
     "grade": false,
     "grade_id": "cell-3ccec883941610de",
     "locked": true,
     "schema_version": 3,
     "solution": false,
     "task": false
    }
   },
   "source": [
    "Ecrire une fonction qui calcule le polynôme de Bernstein $B_i^n(t)$ pour $p$ valeurs de $t$  \n",
    "On pourra obtenir les coefficients binomiaux on utilisant le module **math**, par exemple pour $\\begin{pmatrix} n \\\\ i \\end{pmatrix}$, on écrira \n",
    "```python\n",
    "from math import comb\n",
    "comb(n,i)\n",
    "```"
   ]
  },
  {
   "cell_type": "code",
   "execution_count": 7,
   "metadata": {
    "deletable": false,
    "nbgrader": {
     "cell_type": "code",
     "checksum": "a518dda399d0d6f791c56a92f9414b16",
     "grade": false,
     "grade_id": "cell-c6c6c2b57ab7a4ba",
     "locked": false,
     "schema_version": 3,
     "solution": true,
     "task": false
    }
   },
   "outputs": [],
   "source": [
    "%matplotlib ipympl\n",
    "\n",
    "import numpy as np\n",
    "import matplotlib.pyplot as plt\n",
    "from math import comb,pi\n",
    "\n",
    "def onclick(event):\n",
    "    PtContX.append(event.xdata)\n",
    "    PtContY.append(event.ydata)\n",
    "    if event.button ==3:\n",
    "        ax1.plot(PtContX,PtContY,'ro--')    \n",
    "        plt.disconnect(cid)\n",
    "        \n",
    "\n",
    "    ax1.plot(PtContX,PtContY,'ro--') \n",
    "\n",
    "\n",
    "def Bernstein(n,k,t):\n",
    "    # Votre code ici\n",
    "    return comb(n,k)*(t**k)*((1-t)**(n-k))"
   ]
  },
  {
   "cell_type": "markdown",
   "metadata": {
    "deletable": false,
    "editable": false,
    "nbgrader": {
     "cell_type": "markdown",
     "checksum": "5156ede129452fc3ae50f7425eb31d69",
     "grade": false,
     "grade_id": "cell-33e9bf226b3d698a",
     "locked": true,
     "schema_version": 3,
     "solution": false,
     "task": false
    }
   },
   "source": [
    "### Partition de l'unité\n",
    "Tracer sur une même figure les  polynômes  de Bernstein $ B_i^n, \\; 0 \\leq i \\leq n $, puis tracer, sur la même figure leur somme $S= \\sum_{i=0}^n  B_i^n$.  "
   ]
  },
  {
   "cell_type": "code",
   "execution_count": 8,
   "metadata": {
    "deletable": false,
    "nbgrader": {
     "cell_type": "code",
     "checksum": "722644fbbf2ccfade33b89cde4777d55",
     "grade": true,
     "grade_id": "cell-f2a6c78ebc25c724",
     "locked": false,
     "points": 2,
     "schema_version": 3,
     "solution": true,
     "task": false
    }
   },
   "outputs": [],
   "source": [
    "def partition_unit(n):\n",
    "    \"\"\" On vérifie graphiquement que les polynômes de Bernstein\n",
    "        de degré n forment une partition de l'unité \"\"\"\n",
    "    # Votre code ici\n",
    "    t = np.linspace(0,1,100)\n",
    "    B = np.zeros((n+1,100))\n",
    "    for k in range(n+1):\n",
    "        B[k] = Bernstein(n,k,t)\n",
    "    plt.figure()\n",
    "    plt.plot(t,np.sum(B,axis=0))\n",
    "    plt.title(\"Partition de l'unité\")\n",
    "    plt.show()"
   ]
  },
  {
   "cell_type": "markdown",
   "metadata": {
    "deletable": false,
    "nbgrader": {
     "cell_type": "markdown",
     "checksum": "544184bc5a5c0c230c0080244be2bbd2",
     "grade": true,
     "grade_id": "cell-282c450edbfa84b2",
     "locked": false,
     "points": 2,
     "schema_version": 3,
     "solution": true,
     "task": false
    }
   },
   "source": [
    "YOUR ANSWER HERE"
   ]
  },
  {
   "cell_type": "markdown",
   "metadata": {
    "deletable": false,
    "editable": false,
    "nbgrader": {
     "cell_type": "markdown",
     "checksum": "db3262d33c3e4c696fba8254e003628b",
     "grade": false,
     "grade_id": "cell-71cedd981b481012",
     "locked": true,
     "schema_version": 3,
     "solution": false,
     "task": false
    }
   },
   "source": [
    "Ecrire une fonction qui calcule en $p$ valeurs de $t$ (par défaut 200 valeurs uniformément répartis entre 0 et 1) la courbe de Bézier,  $ {\\cal B}^{n}$.\n",
    "Les points de contrôle sont passés en paramètres sous  la forme d'un array numpy."
   ]
  },
  {
   "cell_type": "code",
   "execution_count": 9,
   "metadata": {
    "deletable": false,
    "nbgrader": {
     "cell_type": "code",
     "checksum": "7f7058f11a59641d4a2b50bd588596d2",
     "grade": true,
     "grade_id": "cell-c20f00ef3360f80e",
     "locked": false,
     "points": 2,
     "schema_version": 3,
     "solution": true,
     "task": false
    }
   },
   "outputs": [],
   "source": [
    "def Bezier(points, num=200):\n",
    "    \"\"\"Courbe de Bézier associée aux points de contrôle\n",
    "        passés en paramètre d'entrée.\n",
    "    \"\"\"\n",
    "    # Votre code ici\n",
    "    print(\"a\")\n",
    "    n = len(points)-1\n",
    "    t = np.linspace(0,1,num)\n",
    "    B = np.zeros((n+1,num))\n",
    "    print(\"b\")\n",
    "    for k in range(n+1):\n",
    "        B[k] = Bernstein(n,k,t)\n",
    "    C = np.zeros((2,num))\n",
    "    print(\"c\")\n",
    "    for k in range(n+1):\n",
    "        print(\"d\")\n",
    "        C += np.outer(points[k], B[k])\n",
    "        print(\"e\")\n",
    "    return C\n",
    "    "
   ]
  },
  {
   "cell_type": "markdown",
   "metadata": {
    "deletable": false,
    "editable": false,
    "nbgrader": {
     "cell_type": "markdown",
     "checksum": "f27595b9919ee862be7184a612eba1fe",
     "grade": false,
     "grade_id": "cell-5a14dae15def7c86",
     "locked": true,
     "schema_version": 3,
     "solution": false,
     "task": false
    }
   },
   "source": [
    "Enfin, tracer sur la **même fenêtre graphique** d'un coté la courbe de Bézier correspondant à des points de contrôle obtenus à la souris, et d'un autre coté les polynômes de Bernstein associés (leur nombre dépendra donc du nombre de points de contrôle).  \n",
    "On utilisera pour cela `subplot` :\n",
    "```python\n",
    "fig = plt.figure()        # On crée la fenêtre graphique\n",
    "ax = fig.add_subplot(121) # On crée la sous-figure  \n",
    "ax.set_xlim([0, 5])       # On fixe la taille de la sous-figure\n",
    "ax.set_ylim([0, 5])       # pour éviter son reimensionnement après \n",
    "                          # les clics de souris\n",
    "```"
   ]
  },
  {
   "cell_type": "code",
   "execution_count": 10,
   "metadata": {
    "deletable": false,
    "editable": false,
    "nbgrader": {
     "cell_type": "code",
     "checksum": "7d86142ed87b02c663b8a86a6a221f6e",
     "grade": false,
     "grade_id": "cell-0077d6514c91186b",
     "locked": true,
     "schema_version": 3,
     "solution": false,
     "task": false
    }
   },
   "outputs": [
    {
     "data": {
      "text/plain": [
       "\" Attention on ne fait que l'acquisition des points dans cette cellule\\n    les courbes s'obtiennent en exécutant la cellule suivante.\\n    Ce n'est pas très intuitif, d'où la remarque ci-dessous (modification de\\n    la fonction onclick).\\n    Laissé à l'appréciation de l'étudiant.\\n\""
      ]
     },
     "execution_count": 10,
     "metadata": {},
     "output_type": "execute_result"
    },
    {
     "data": {
      "application/vnd.jupyter.widget-view+json": {
       "model_id": "b3e9a3b94f3d4c4e8999c9769a5f84e7",
       "version_major": 2,
       "version_minor": 0
      },
      "image/png": "[encoded data removed]",
      "text/html": [
       "\n",
       "            <div style=\"display: inline-block;\">\n",
       "                <div class=\"jupyter-widgets widget-label\" style=\"text-align: center;\">\n",
       "                    Figure\n",
       "                </div>\n",
       "                <img src='data:image/png;base64,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' width=640.0/>\n",
       "            </div>\n",
       "        "
      ],
      "text/plain": [
       "Canvas(toolbar=Toolbar(toolitems=[('Home', 'Reset original view', 'home', 'home'), ('Back', 'Back to previous …"
      ]
     },
     "metadata": {},
     "output_type": "display_data"
    }
   ],
   "source": [
    "fig = plt.figure()\n",
    "\n",
    "ax1 = fig.add_subplot(121)\n",
    "ax2 = fig.add_subplot(122)\n",
    "fig.subplots_adjust(wspace=0.4)\n",
    "ax1.set_xlim([0, 5])\n",
    "ax1.set_ylim([0, 5])\n",
    "PtContX=[]\n",
    "PtContY=[]\n",
    "\n",
    "cid = fig.canvas.mpl_connect('button_press_event', onclick)\n",
    "\"\"\" Attention on ne fait que l'acquisition des points dans cette cellule\n",
    "    les courbes s'obtiennent en exécutant la cellule suivante.\n",
    "    Ce n'est pas très intuitif, d'où la remarque ci-dessous (modification de\n",
    "    la fonction onclick).\n",
    "    Laissé à l'appréciation de l'étudiant.\n",
    "\"\"\""
   ]
  },
  {
   "cell_type": "code",
   "execution_count": 12,
   "metadata": {
    "deletable": false,
    "nbgrader": {
     "cell_type": "code",
     "checksum": "a1ce8d668c20d39ea3ed9ef298ba3f1f",
     "grade": true,
     "grade_id": "cell-533ea34dcf7024b0",
     "locked": false,
     "points": 2,
     "schema_version": 3,
     "solution": true,
     "task": false
    }
   },
   "outputs": [
    {
     "name": "stdout",
     "output_type": "stream",
     "text": [
      "a\n",
      "b\n",
      "c\n",
      "d\n",
      "e\n",
      "d\n",
      "e\n",
      "d\n",
      "e\n",
      "d\n",
      "e\n"
     ]
    },
    {
     "data": {
      "application/vnd.jupyter.widget-view+json": {
       "model_id": "b3e9a3b94f3d4c4e8999c9769a5f84e7",
       "version_major": 2,
       "version_minor": 0
      },
      "image/png": "[encoded data removed]",
      "text/html": [
       "\n",
       "            <div style=\"display: inline-block;\">\n",
       "                <div class=\"jupyter-widgets widget-label\" style=\"text-align: center;\">\n",
       "                    Figure 2\n",
       "                </div>\n",
       "                <img src='data:image/png;base64,iVBORw0KGgoAAAANSUhEUgAAAoAAAAHgCAYAAAA10dzkAAAAOnRFWHRTb2Z0d2FyZQBNYXRwbG90bGliIHZlcnNpb24zLjEwLjAsIGh0dHBzOi8vbWF0cGxvdGxpYi5vcmcvlHJYcgAAAAlwSFlzAAAPYQAAD2EBqD+naQAAV8lJREFUeJzt3Xd4VGXexvF7SCC0JEoJBBIggoDSmwISRJqiiyBiXxDEXXFDE8uKuiquayyrLyiKurqWpS5NcEUUpatBQpemUgMkNCUJAQJJ5v3jYVIggZSZOTNzvp/rmuvMnJyZ/CiZ3PNUh9PpdAoAAAC2Uc7qAgAAAOBdBEAAAACbIQACAADYDAEQAADAZgiAAAAANkMABAAAsBkCIAAAgM0QAAEAAGyGAAgAAGAzBEAAAACbIQACAADYDAEQAADAZgiAAAAANkMABAAAsBkCIAAAgM0QAAEAAGyGAAgAAGAzBEAAAACbIQACAADYDAEQAADAZgiAAAAANkMABAAAsBkCIAAAgM0QAAEAAGyGAAgAAGAzBEAAAACbIQACAADYDAEQAADAZgiAAAAANkMABAAAsBkCIAAAgM0QAAEAAGyGAAgAAGAzBEAAAACbIQACAADYDAEQAADAZgiAAAAANkMABAAAsBkCIAAAgM0QAAEAAGyGAAgAAGAzBEAAAACbIQACAADYDAEQAADAZgiAAAAANkMABAAAsBkCIAAAgM0QAAEAAGyGAAgAAGAzBEAAAACbIQACAADYDAEQAADAZmwbAJ9//nk5HI4Ct9q1a1tdFgAAgMcFW12AlZo1a6Zvvvkm93FQUJCF1QAAAHiHrQNgcHAwrX4AAMB2bNsFLEm//PKL6tSpo5iYGN19993atWuX1SUBAAB4nMPpdDqtLsIKX375pU6ePKnGjRvr0KFDevHFF7V9+3Zt2bJF1atXL/Q5mZmZyszMzH2ck5Oj3377TdWrV5fD4fBW6YDfczqdSk9PV506dVSunK0/h5ZJTk6ODh48qNDQUN6DgBLgPcjGAfB8GRkZatiwoZ544gmNHTu20Guef/55jR8/3suVAYErKSlJUVFRVpfht/bv36/o6GirywD8lp3fgwiA+fTq1UuNGjXS5MmTC/36+S2AqampqlevnpKSkhQWFuatMgG/l5aWpujoaB0/flzh4eFWl+O3UlNTddlll/EeBJQQ70E2nwSSX2ZmprZt26bY2NgirwkJCVFISMgF58PCwnjzBUqBbsuycf398R4ElI6d34Ps2fEt6bHHHtPy5cu1e/durV69WgMHDlRaWpruv/9+q0sDAADwKNu2AO7fv1/33HOPjh49qpo1a6pjx45KSEhQ/fr1rS4NAADAo2wbAGfMmGF1CQAAAJawbRcwAACAXREAAQAAbIYACAAAYDMEQAAAAJshAAIAANiMbWcBAwCAMsjOllaulJKTpchIKTZWCgqyuioUEwEQAACUzNy50ujR0v79eeeioqSJE6UBA6yrC8VGFzAAACi+uXOlgQMLhj9JOnDAnJ8715q6UCIEQAAAUDzZ2ablz+m88Guuc2PGmOvg0wiAAACgeFauvLDlLz+nU0pKMtfBpxEAAQBA8SQnu/c6WIYACAAAiicy0r3XwTLMAgYAAMWze/fFv+5wmNnAsbHeqQelRgsgAAAont69pbAwc9/hKPg11+MJE1gP0A8QAAHADSZPnqyWLVsqLCxMYWFh6tSpk7788ssir587d6569eqlmjVr5l7/1VdfebFioJh27cq7X7eu9PPP0pw55n5+UVHS7NmsA+gnCIAA4AZRUVF6+eWXlZiYqMTERHXv3l39+vXTli1bCr1+xYoV6tWrlxYuXKi1a9fqhhtuUN++fbV+/XovVw4UISdHio+XGjcuuLZfrVom5O3ZIy1dKk2bZo67dxP+/IjD6SxsMR8UR1pamsLDw5WamqowV5M4gEuyy89OtWrV9Nprr2nYsGHFur5Zs2a666679Oyzzxbrerv8PcICx45JgwZJrlbskSOlN9+88Lpdu6SnnzbLv8yY4d0ay4CfHSaBAIDbZWdna9asWcrIyFCnTp2K9ZycnBylp6erWrVqRV6TmZmpzMzM3MdpaWllrhW4wPffS3fdZdb7q1hReucdaejQoq+fMcNc53ReOC4QPosuYABwk82bN6tq1aoKCQnR8OHDNW/ePF199dXFeu7rr7+ujIwM3XnnnUVeEx8fr/Dw8NxbdHS0u0oHTIB74w3p+utN+GvcWFq9+uLhLzpaKldOOn1aSknxXq0oMwIgALhJkyZNtGHDBiUkJOjhhx/W/fffr61bt17yedOnT9fzzz+vmTNnKiIiosjrxo0bp9TU1NxbUlKSO8uH3X33nfToo1JWlnT33VJiotSy5cWfU768CYHSpZeIgU+hCxgA3KRChQpq1KiRJKl9+/Zas2aNJk6cqPfee6/I58ycOVPDhg3TrFmz1LNnz4u+fkhIiEJCQtxaM5CrSxfp8celmBhp+PDid+fGxEh795oA2LmzZ2uE29ACCAAe4nQ6C4zZO9/06dM1ZMgQTZs2TbfccosXKwNkunzfe086eDDv3KuvSg8/XLKxfDEx5kgLoF+hBRAA3OCpp55Snz59FB0drfT0dM2YMUPLli3TokWLJJnu2wMHDujTTz+VZMLf4MGDNXHiRHXs2FEp58ZPVapUSeHh4Zb9OWATaWnSgw9Ks2ZJU6dKS5ZIwaWMBA0amCMB0K/QAggAbnDo0CENGjRITZo0UY8ePbR69WotWrRIvXr1kiQlJydr3759ude/9957ysrKUlxcnCIjI3Nvo0ePtuqPALvYuFFq186Ev+Bgs3ZfWXbuiIkxr3P6tPtqhMexDmAZsI4QUDr87LgHf48oEadT+uADs6ZfZqZUr540c6bUsWPZXvfMGTMTuLQtiBbgZ4cuYAAAAl9GhpnYMWWKeXzLLdInn0jVq5f9tStUKPtrwOvoAgYAwA7WrTNdva+8Ii1Y4J7wB79FAAQAIFC5RnlVqSLNnm327H3iCdNl606PP266kr/7zr2vC48hAAIAEGhOnpSGDZNeey3v3FVXSbGxnvl+mzebXUO2b/fM68PtGAMIAEAg2bFDuuMOE8oqVJDuu0+qW9ez35O1AP0OLYAAAASKmTOl9u1N+KtVS/ryS8+HP4kA6IcIgAAA+LvTp6W//MXs4XvihHT99dL69VL37t75/gRAv0MXMAAA/iwnxwS9H34wj59+Wnr+ee+uy0cA9DsEQAAA/Fm5ctK990o//yz95z9Snz7er8EVAFNSpFOnpEqVvF8DSoQuYAAA/M2ZM9LevXmP4+KkbdusCX+SVK2aucXESEeOWFMDSoQWQAAA/Mm+fdKdd0rHjkmJiVJ4uORwSDVrWleTwyEdPly2PYXhVbQAAgDgL774QmrTxqy5d/SoafXzFYQ/v0IABADA12VlSU8+Kf3hD9Jvv0kdOphZvh07Wl0Z/BQBEAAAX3bggJnl+8or5vHIkdLKlVKDBpaWdYGvvpI6d5YeesjqSlAMjAEEAMCXPf64CXyhodKHH5pdPnzRmTNmKZrTp62uBMVAAAQAwJdNnCilpppjo0ZWV1M01gL0K3QBAwDgS1JSTNhzqVnTTP7w5fAn5XVJHz9ubvBpBEAAAHzFsmVmlu+YMWZRZ39StWreUjR79lhaCi6NAAgAgNVycqSXXpJ69DAtgM2amZm+/oZuYL9BAAQAwEpHj0q33GL28M3JkYYMkX78UWra1OrKSo4A6DeYBAIAgFW+/97s6nHggNk/9+23paFDra6q9K680owFDCZe+Dr+hQAAsMrx4yb8NWkizZoltWhhdUVl8/e/mxt8HgEQAABvcjrN3rmSdPPN0syZUp8+Zp0/wEsYAwgAgLesWSO1a1dwluyddxL+4HUEQAAAPM3plN56S7ruOrOH7xNPWF2RZ+TkSLGxUp060qFDVleDiyAAAgDgSampppVv1Cjp7FlpwADpX/+yuirPKFdO2rtXSk5mJrCPIwACAOAp69ebLt/Zs6Xy5aUJE8z98HCrK/Mc144gBECfRgAEAMATVq6UOnWSdu6U6tUzj0ePzpsAEqhYC9AvMAsYAABP6NBBuvpqqW5d6ZNPpGrVrK7IOwiAfoEACACAu/zyi3TFFVJQkFSxorR4sXT55WZsnF0QAP2Cjf5HAgDgQZ98IrVqJY0fn3euenV7hT+JAOgnbPa/EgAANzt5UnrgAbOH76lTZq2/7Gyrq7LOFVdI9etLDRua5W/gk+gCBgCgtHbskAYOlH76ybT0jR8vPfWU/Vr98ouKKrjQNXwSARAAgNKYPl3685+lEyekWrXM4xtusLoqoFgIgAAAlNTBg9KwYabLt1s3E/5q17a6Kt+Tf99j+BQbt1EDAFBKdepI77wjPfOM9M03hL/zvfaaWf4m/4QY+BRaAAEAKI65c03w69jRPB4yxNJyfFp2tmkl3bnT6kpQBFoAAcANJk+erJYtWyosLExhYWHq1KmTvvzyy4s+Z/ny5WrXrp0qVqyoK664Qu+++66XqkWJnDkjjRkj3X672dP3t9+srsj3sRSMzyMAnhMfHy+Hw6ExY8ZYXQoAPxQVFaWXX35ZiYmJSkxMVPfu3dWvXz9t2bKl0Ot3796tm2++WbGxsVq/fr2eeuopjRo1SnPmzPFy5biovXul2Fhp4kTz+J57pNBQa2vyBwRAn0cXsKQ1a9bo/fffV8uWLa0uBYCf6tu3b4HH//jHPzR58mQlJCSoWbNmF1z/7rvvql69epowYYIk6aqrrlJiYqL++c9/6vbbb/dGybiUzz+X7r9f+v13s5vHJ59I5/07owiuAHjwoHT6tNkVBT7F9i2AJ06c0H333ad//etfuvzyy60uB0AAyM7O1owZM5SRkaFOnToVes0PP/yg3r17Fzh34403KjExUWfPni30OZmZmUpLSytwgwdkZ0tPPCHdeqsJf9dcI61fT/griRo1pCpVzP29e62tBYWyfQCMi4vTLbfcop49e1pdCgA/t3nzZlWtWlUhISEaPny45s2bp6uvvrrQa1NSUlSrVq0C52rVqqWsrCwdPXq00OfEx8crPDw89xYdHe32PwNkFnH+5Rdzf/RoaeVKs7MFis/hoBvYx9m6C3jGjBlat26d1qxZU6zrMzMzlZmZmfuYT98A8mvSpIk2bNig48ePa86cObr//vu1fPnyIkOg47z10Zznts06/7zLuHHjNHbs2NzHaWlphEB3cq1Z53BIH30kDR1qWgFROp06mb2QK1SwuhIUwrYBMCkpSaNHj9bXX3+tisUcmxAfH6/xrGkEoAgVKlRQo0aNJEnt27fXmjVrNHHiRL333nsXXFu7dm2lpKQUOHf48GEFBwerevXqhb5+SEiIQkJC3F+43WVnS88/L+3aJU2ZYgLgZZcR/srq/fetrgAXYdsu4LVr1+rw4cNq166dgoODFRwcrOXLl+vNN99UcHCwsgvZyHvcuHFKTU3NvSUlJVlQOQB/4XQ6C/Qa5NepUyctXry4wLmvv/5a7du3V/ny5b1RHiQpJUXq1Ut68UVp2jRpxQqrKwK8wrYtgD169NDmzZsLnBs6dKiaNm2qv/71rwoKCrrgOXz6BlCUp556Sn369FF0dLTS09M1Y8YMLVu2TIsWLZJkPkAeOHBAn376qSRp+PDhmjRpksaOHas//elP+uGHH/Thhx9q+vTpVv4x7GXpUrOsy6FDZsLC++9L119vdVWBJytLCrZt3PBZtv0XCQ0NVfPmzQucq1KliqpXr37BeQC4lEOHDmnQoEFKTk5WeHi4WrZsqUWLFqlXr16SpOTkZO3bty/3+piYGC1cuFCPPPKI3n77bdWpU0dvvvkmS8B4Q06O9NJL0nPPmfvNm0uzZklNm1pdWWDZuVPq2tUspH3kiNXV4Dy2DYAA4E4ffvjhRb/+8ccfX3Du+uuv17p16zxUEYr0wANmTT/JTPSYNEmqXNnamgJRRIRZB1CS0tKksDBr60EBBMB8li1bZnUJAABPGzLE7Ov75pvs5+tJoaFmFvCxY9KePRKbLfgU204CAQDYRE6OtG1b3uNu3UwgIfx5HmsB+iwCIAAgcP32m9S/v9nNY8eOvPPVqllWkq0QAH0WARAAEJhWr5batjV7+p49K5238gO8gADoswiAAIDA4nSa8X2xsWYf2oYNpR9+kAYOtLoy+2nQwBwJgD6HSSAAgMCRmioNGybNmWMe33679OGHUni4tXXZVbNmJoi3amV1JTgPARAAEDjeeceEv/Llpddfl0aMMFu7wRpdu7K7io8iAAIAAsdjj5mxfmPGmIkfAArFGEAAgP9KT5fGjze7TUim5W/aNMKfrzlzRipiX2xYgwAIAPBPmzdL7dtLzz8vPfWU1dWgKAMGSBUrSvPnW10J8qELGADg27KzpZUrpeRkKTLSTCr49FMpLk46dUqqW1e67Tarq0RRqlQxM7OZCexTCIAAAN81d640erS0f3/eucqVpZMnzf0bb5T+8x+pZk1r6sOlsRagTyIAAgB809y5Zu0+p7PgeVf4u/deE/7KMZrJpxEAfRI/NQAA35OdbVr+zg9/+a1cefGvwzcQAH0SARAA4HtWrizY7VuYpCRzHXybKwDu3Svl5FhbC3IRAAEAvic52b3XwTp160pBQWYpmIMHra4G5zAGEADgeyIj3XsdrBMcbLbkq1iRFkAfQgAEAPie2FgpKko6cKDwcX4Oh/l6bKz3a0PJzZxpdQU4D13AAADfExQkTZxYdPiTpAkTzHUASowACADwTQMGSA89dOH5qChp9mzzdfiPM2ekI0esrgLnEAABAL7Ltcbf3XebPX6XLjXLiRD+/Mu8eVKlSmZdR/gExgACAHzXhg3meOut0j33WFoKyqB2bTMBhLUAfQYtgAAA35SdLW3caO63aWNtLSgb11qA+/ebrmBYjgAIAPBNv/0mNW8uVa8uXXml1dWgLGrVMl3ATqe0b5/V1UAEQACAr6pZU1q9Wjp8mNm+/s7hkBo0MPfpBvYJBEAAgG8rx6+qgODqBt6zx9IyYPBTBQDwTVlZVlcAd3IFQFoAfQKzgAEAvqlBA+nyy6X586UrrrC6GpRVbKyUmsqEHh9BAAQA+J6UFLMNXHKyWUIE/u+uu8wNPoEuYACA71m/3hybNJEqV7a2FiAAEQABAL7HtQB069ZWVgF3O3tW2rnTHGEpAiAAwPcQAANTZKTUqJH0889WV2J7BEAAgO9xdQEzYSCw1KtnjswEthwBEADgW9LTpV9/NfdbtbK2FrgXi0H7DGYBAwB8y4kT0j33SAcPShERVlcDd2ItQJ9BAAQA+JbISGnqVKurgCcQAH0GXcAAUEbx8fHq0KGDQkNDFRERof79+2vHjh2XfN7UqVPVqlUrVa5cWZGRkRo6dKiOHTvmhYoBixAAfQYBEADKaPny5YqLi1NCQoIWL16srKws9e7dWxkZGUU+Z9WqVRo8eLCGDRumLVu2aNasWVqzZo0efPBBL1buo/bskbKzra4CnpA/ADqd1tZic3QBA0AZLVq0qMDjjz76SBEREVq7dq26du1a6HMSEhLUoEEDjRo1SpIUExOjhx56SK+++qrH6/VpZ89KTZtKQUFmqZC6da2uCO7UoIH0xz+aIJidLQUTQ6xCCyAAuFlqaqokqVq1akVe07lzZ+3fv18LFy6U0+nUoUOHNHv2bN1yyy3eKtM3bd8uZWaaYBAZaXU1cLfKlaX//Ed64QXCn8X42wcAN3I6nRo7dqy6dOmi5s2bF3ld586dNXXqVN111106ffq0srKydOutt+qtt94q8jmZmZnKzMzMfZyWlubW2n2CawHoVq2kcvZoo8jJkX75RVq7Vtq0yfSA798vpaVJGRmmMbRSJalGDbOMXqNGUtu2UocO5hxQGgRAAHCjESNGaNOmTVq1atVFr9u6datGjRqlZ599VjfeeKOSk5P1+OOPa/jw4frwww8LfU58fLzGjx/vibJ9h012AMnIkP73P+nzz6XFi6XDh0v3Om3bSn36mFVzmjVzb40ec/aslJRkWgBdC0PD6xxOJ6MwSystLU3h4eFKTU1VWFiY1eUAfiNQf3ZGjhypzz77TCtWrFCMa7B7EQYNGqTTp09r1qxZuedWrVql2NhYHTx4UJGFdH8W1gIYHR0dWH+P3btLS5dK//63NHSo1dW43erV0ttvS3PnmhDoUqmSybxt2kgNG5pcdNllpsc0J0c6edKExH37pK1bTWvh9u0FX7ttW2nECOnee6WQEG/+qUro6aell16SHn5YeucdS0oI1PegkqAFEADKyOl0auTIkZo3b56WLVt2yfAnSSdPnlTweWOggoKCcl+vMCEhIQrx6d/sZeR0BmQLoNMpLVxohr39+GPe+SuukO64Q7rpJqlzZ6lChZK97qFD0tdfS3PmSF98Ia1bJz3wgPTUU9K4cdLw4SV/Ta9gKRifYI8BFgDgQXFxcZoyZYqmTZum0NBQpaSkKCUlRadOncq9Zty4cRo8eHDu4759+2ru3LmaPHmydu3ape+++06jRo3SNddcozp16ljxx7BeUpL0+++ma/Dqq62uxi2WLJGuu076wx9M+KtQQbr/fumHH8xudy+/LHXrVrqgVquWNGiQ9NlnUnKy9MorZtJ0Soo0erSZTD1vnrv/RG5AAPQJBEAAKKPJkycrNTVV3bp1U2RkZO5t5syZudckJydr3759uY+HDBmiN954Q5MmTVLz5s11xx13qEmTJpo7d64VfwTfUL689Oyz0l/+4uN9mJeWlCT16yf16GHCXqVK0uOPm/Mffyx17Cg5HO77fjVqSE88Ie3aJb37rlS7tslXAwZI/fubSSU+wxUA9+wx/duwBGMAy4AxBPC4M2fMGJmdO83AoL/8xUf7dEqGnx334O/R92RnS5MmmWFuGRmmMfOhh8xjb65qk5EhxcebVsGsLOnyy6UPPjCB0HJnz0oVK5rwd+CAZEGLNz87tAACvuuJJ8wI8EceMb9RHnnEPH7iCasrA1CI3bulLl2kMWNMALvuOjOkcdIk7y9pWKWK9OKL5vt36GB61m+/3XyGPHPGu7VcoHx5KTra3Kcb2DIEQMAXPfGE9NprF26HlZ1tzhMCEYgWLzYtQn7YMTV7tpnBm5AghYebbtgVK6xfmqVZM2nVKunJJ02X8+TJUs+epV92xm0YB2g5AiDga86ckd544+LXvPGGD3yMB9zo99+l3r2lqCjp3E4q/uDMGdOqdscdpuyOHaWNG023r6+sY12hgukO/vxzKSxMWrnS1Llrl4VF3XOP6Re3OiHbmI/89wSQ6513Lmz5O192tmXrZwEesXGjOTZoYBbA8wPHjkm9eplWNUn6619Nq1/9+tbWVZRbbjHrEDZsmNdd/dNPFhXz5z+bPuo2bSwqAARAwFecPCm99ZZZF6I4du70bD2AN/nZ+n87dphWtBUrpNBQsw7fyy+b4W2+rGlT0wLYooVZOqZrV9NtDfshAAJWWrfO7HYQFWVGbY8aZVZ3LY6GDT1bG+BN69ebox+0CLm6UH/91bT2ff+9dPPNVldVfJGR0vLlUqdOpuf9xhvz8rfXZGebZsjvvvPyN4YLO4EAVmnY8MJBOA6HmR2XlHTxgfBBQWbgERAo/KQF8Ouvzbp6p06ZEPjZZ2ZBZn9z+eVmzs3NN5tWzBtvNJNFrrzSSwUcOmS2QilXTjp92vebTgMQLYCApyUmSkOGmFa+/KuxRkWZY5Uq0vXXm71PT5+W9u6VHnvs4q85dmxArAcISJIyM80Gt5JPB8D586W+fU3469PH7PLhj+HPpUoVacEC0+h6+LAZz3jggJe+ee3aZrHvnBwfW6XaPgiAgLu5xvJ16mSW/+/QQfrkE/PO+uabede9+675pXfihLRsmekKdoW6V1812wac2xu2gMcfN18HAsXWrXmrFbvWh/MxM2eadfTOnDHHzz4zP97+LjxcWrTItPzt3WuC7YkTXvjG5cqZCT8SS8FYhAAIuNOLL+aN5UtIMC16Ul4rX69eeddedZW5FeXVV02Y/L//M5uHuowZ45HSAcvUqyd9+qn5+XHn/mhusmCBdN99ZtjaoEHSjBmB1QAfEWG6tmvXljZvNh0WXlmKkbUALUUABEojfytf/kWZu3Y1R4fDfLp9+OGCrXz5A2BxVKhgAt/HH5vvJZkVZ4FAUr26SVY+OK7122+lO+/MC38ff2y2dws0DRpIc+aYoXhz5kj/+IcXvikB0FIB+N8Y8JB160wX7jffFBwos2dPXpds167StGmmj8jdTQSPPmq+7513uvd1ARRq9WqpXz8zRLF/fzNM11cWd/aEzp3N8qJ/+pP0t79JLVtKt97qwW9IALQUARC4lNOnTQvFyZMFzzscpuvq9tsLnr/nHs/Ucf73AQJBTo709tsmbVx3nc80r+3YYcbDZWSYrdNmzPCZ0jzqwQfNhOy335YGD5Y2bTJvcx5BALSUDf47AyWQmGh2bt+xQ/rhB3OuYsW8d/4qVaT27U1f0KBBgTUQCLDCrl1mzGxIiJSebnU1kqSjR82uGb//Ll17rZnwERJidVXe83//Z94KV6+W/vhHaenSwuejlVnbtmY7uObNPfDiuBQCIOzt5EnpX/+Spk83W1G5Jm1IJgQ2aWLu/+c/ZprcxSZteMOJE6ZW10d0wN+51v9r3twn1oJzdffu3GkaqBYsMJ/77KR8eWnqVLMiz8qVZoeTp5/2wDe64goz8QeWCODRDMAl9Otn3tnHjDEfdc+fsZuTk3ftrbdaH/4kE1gfftgM1Pn1V6urAcrOFQB9YAcQp1N64AGzOUV4uNneLSLC6qqs0bBh3mfM555ju7hARABE4Ms/Y3fJkrzz1aqZY1Ezdn0h8J0vIkLq3t3c/+9/ra0FcAfXFnA+sAD0K6+YOVzBwWYmrC++BXjToEFmSHN2thkPmL+DxG0OHDDvt0lJHnhxXIxtA+DkyZPVsmVLhYWFKSwsTJ06ddKXX35pdVlwl3Xr8nbfyL8uX/6FmJ95Jm/3jd27TauaP7zj33WXOc6YYW0dgDv4SAvgN9/kdXNOmiT16GFpOT7B4TBvi5GR0i+/eKi3Ni5OuuEG09cOr7JtAIyKitLLL7+sxMREJSYmqnv37urXr5+2bNlidWkoi6++Msvzt2uXt/uGZN7J6teXYmPzrm3YsODuG/7ittvMIJ3Nm6Vt26yuBii9w4elgwfNz2eLFpaVsW+faenKyTFdwH/+s2Wl+JzLLsvrCn7lFTMr2K2YCWwZ2wbAvn376uabb1bjxo3VuHFj/eMf/1DVqlWVwEAH/+HaYzcuLu9cu3YXjuX74ANzbs8es5aev6tWTerd29yfOdPaWoCycLX+NWokhYZaUsLp02aFpaNHzaTUSZN8cjMSS912mzRggNmt709/Ml3CbkMAtIxtA2B+2dnZmjFjhjIyMtTJtdtCITIzM5WWllbgBi8qao/df/8775oaNcyizPnH8g0b5n+tfJeSvxvYK3s2AR4QGyt9/735ubbIo4+az5LVqplxf4Gwv68nvPWWmRjz449uXoCAAGgZWy8Ds3nzZnXq1EmnT59W1apVNW/ePF199dVFXh8fH6/x48d7sULkatbMhLrzValigmBWVt5afY8/7t3arNCvn1S5shnjmJ4uhYVZXRFQcpUq5W1xaIH5880YN0maMsXMBUPh6tQxXcDDh0vPPmu6zGvWdMMLEwAtY+sWwCZNmmjDhg1KSEjQww8/rPvvv19bCwsZ54wbN06pqam5tyRmLbmfq5Wve/eCy7C4unULm7G7dKk9lujPLyxMSkkxI9cJf0CJHThgxvtJphWwTx9r6/EHDz5oJmunppoQ6Bau1H38uLnBaxxOJ/1HLj179lTDhg313nvvFev6tLQ0hYeHKzU1VWH8EjZOnTItcL/8YhZOfu21S/epuHbfOH+P3Rkz8ro658yR0tKk++4LvO5cG+Jnxz38+u/x5EnpiSdMohg61ENbTRQuO1vq1ct8dmzb1mz6w9tK8axYYYZWlytnVvBp2dINLxoRIR05YlZv8NJscL/+2XETmzWbXJzT6VRmZqbVZfiv/v1Nn4rL11+bwSL9+pm9lM43frxZYv78xaVce+zmf0dmH9yiJSebcYB16lhdCVB8mzeb94datUzTkhf9858m/FWubDbWIfwVX9eu0sCB0uzZ0iOPmM/tZZ408/zzZmWDunXdUSKKybZdwE899ZRWrlypPXv2aPPmzXr66ae1bNky3XfffVaX5p/OD3/5zZ9vPjIOGWLebV0qV774jN3bbvNw0QHghRfMm+Ybb1hdCVAyrhnAXl4AetMm6W9/M/ffektq3Nir3z4gvPaa2Rt5yRI3Ld/3l7+Y6cV23XbFIrYNgIcOHdKgQYPUpEkT9ejRQ6tXr9aiRYvUq1cvq0vzP6dOFR3+XFasMDN2X30179zDD1+4+0Ygztj1pBYtTOvff/9bcMwk4OtcO4B4cQHos2fN59CzZ81n1qFDvfatA0qDBtLYseb+00+7eVkYeI1tu4A//PBDq0sIHMWddRscXHCnjapV86bgoXT69DHrpyUlmZ1OOne2uiKgeCxoAYyPN7mzWjVp8mTW+yuLJ54wf4dbtpjh2mXqPEtLM+P/zp41gzPhFbZtAYQb/fJL8a7r3t1stAn3qVjRjLGU2BoO/iM7O29LCS8FwI0bpb//3dx/6y2pdm2vfNuAddlleZ/9n3vOZLdSW73abAc3erQ7SkMxEQBRdlde6d7rUDJ3322Os2bRFwP/8PPPZuhIlSpmFxAPc3X9ZmWZrt977vH4t7SFUaPMsL2dO6WPPy7DC7nWAtyzh4XtvYgAiLJ77TX3XoeS6dVLuvxysy7gypVWVwNcmmu91ZYtvbL8y//9n+lxpuvXvapWlcaNM/dfeOHCBR2KrV49849y6pR06JDb6sPFEQBRdpUq5XVDFqVfP/ZY8pQKFfJmTLM3MPzB7bdLhw8X3MbRQ/bsMauMSNLrr9P1627Dh5sNifbvL0MrYIUK5kUkdgTxIgIg3GPgwKK/VtQ6gHCfv/zFvPvGx1tdCVA8NWtKTZt69Fs4nVJcnGlYuv566f77PfrtbKlixbyxgK++arrZS4Ut4byOAAj3iIszx+Bgc793b3M8eZLw5w3t2pnfbpddZnUlgM+YM0dauNCsMfzuu3T9esqDD0o1apjsNmtWKV+EAOh1BECU3ZQpZhq/JD32mNnW7auvzJFuXwD5JSdLN90kPfOMRwf8p6XlTSp98kmPNzbaWuXKZkKIZDZ3KtU/KwHQ6wiAKDtX61/58nRBWun0aTPIqWdP6cwZq6sBCrdunfmAOG+eR5vkxo+XDh40k4yfespj3wbnjBhhJoVs2mRaXUusb1/pvffM5gDwCgIgyiZ/69+jj1pbi92VL282Of32W7MPM+CLXAtAe3AHkO3bpTffNPffesuMU4NnXX65mRAilbIdoG1b6c9/NsNZ4BUEQJQNrX++IyhIuvNOc5/ZwF4VHx+vDh06KDQ0VBEREerfv7927NhxyedlZmbq6aefVv369RUSEqKGDRvq316YGWspD+8A4nRKjzxiJiP84Q+mtxne8cgj5lfBd99JP/5odTW4FAIgSm/fPlr/fM1dd5nj/PllWJQLJbV8+XLFxcUpISFBixcvVlZWlnr37q2MjIyLPu/OO+/Ut99+qw8//FA7duzQ9OnT1TTQB6u59gD2UAD84gtp0SITRN54wyPfAkWoUyfvLeitt0rxAt99Z/aM/+03t9aFwjmcTpbdLq20tDSFh4crNTVVYWFhVpdjjZ07TSvgokVWVwJJyskxO7UnJUlz5+atD+hjAv1n58iRI4qIiNDy5cvVtWvXQq9ZtGiR7r77bu3atUvVqlUr1ffxu7/HtDQpPNzcP3LETB11o8xMqXlz6ddfzV61r7zi1pdHMaxZI11zjQng+/aVcN3Fxo3N1qJLl0rdunmqREl++LPjAbQAomwaNiT8+ZJy5fK6gdkb2DKpqamSdNFgt2DBArVv316vvvqq6tatq8aNG+uxxx7TqVOnvFWm923caI5RUW4Pf5IZ9/frryZ0PPOM218exdChg9Spk9l+7733SvhkZgJ7FQEQpfPii8w09VWuvYH/9z/pEl2QcD+n06mxY8eqS5cuat68eZHX7dq1S6tWrdJPP/2kefPmacKECZo9e7biXONqC5GZmam0tLQCN79y6JBpAfRA9++xY9I//mHuv/SSFBrq9m+BYnItCfPuuyX8NdGggTkSAL2CAIiSmzJF+tvfzNS6n3+2uhqcr107qVkzM/qdsTReN2LECG3atEnTp0+/6HU5OTlyOByaOnWqrrnmGt18881644039PHHHxfZChgfH6/w8PDcW3R0tCf+CJ4zcKD0++/S1Kluf+mXXpJSU832woMHu/3lUQK3327GA6akSLNnl+CJtAB6FQEQJZd/5m/jxtbWggs5HKarbc4cyd8Cgp8bOXKkFixYoKVLlyrKtbdpESIjI1W3bl2Fu8bESbrqqqvkdDq1f//+Qp8zbtw4paam5t6SkpLcWr9XOBySm8dc7dlj1p2XzHZkQUFufXmUUPnyeUvCvP12CZ5IAPQqAiBK5vxdP+Cb+A3oVU6nUyNGjNDcuXO1ZMkSxbh+kV3Eddddp4MHD+rEiRO5537++WeVK1euyPAYEhKisLCwAjeY8X5nzkg9ephdKGG9Bx80b0Pffy9t3VrMJxEAvYoAiJJxtf5VqJA34Aa+65dfzNL88Ki4uDhNmTJF06ZNU2hoqFJSUpSSklKgK3fcuHEanK9v8t5771X16tU1dOhQbd26VStWrNDjjz+uBx54QJUCcQvFzZvNthzDhrn1Zdety+tRfvVV9vv1FZGRZh1GSfrgg2I+yRUADx5kGSsvIACi+Gj98y/vvGO66NkHy+MmT56s1NRUdevWTZGRkbm3mfkW5E5OTta+fftyH1etWlWLFy/W8ePH1b59e913333q27ev3nRtYRFo1q0zy0bt3OnWl33ySXO8916zmQR8x4MPmuOnn5olei6pRg3p/ffNVoHliCeexjqAZWC7dYTCw00ArFChmD/NsNS2bdLVV5sBOSkpUinXmvME2/3seIhf/T0+8og0YYI0erQ5usGKFdL110vBwWY+WjF63uFFWVlmYu+BA2ZVKtci0b7Ar352PISIjeJJTZVcY5Vo/fMPV10ltWhhFuSaN8/qamB3HtgC7rnnzHHYMMKfLwoOloYONff/9S9ra8GFCIAonvBwM8r60UcZ++dPXGsCsjcwrOR05gXANm3c8pJLl0rLlpkOCUY5+K5hw8y4zG+/lXbtKsYTfv3VbAe3eLHHa7M7AiCKLyhI+uc/ra4CJeHqc1myRDp82NpaYF9790rHj5vhCFddVeaXczqlZ5819//0J6levTK/JDykQQMzO1uS/vOfYjzhf/+ThgwxYwHhUQRAXNq997Lgs79q2NAsDJ2dbdYFBKzgav1r1sw02ZXRN99Iq1ZJISG0/vkD1+T3KVNMeL8oloLxGgIgLm7KFGn6dKlJEzPiGv7H1Q28YIG1dcC+HA7zQaRjxzK/VP7Wv4cfNjtOwLfddptUubLp3f3xx0tcTAD0GgIgLi7/un9du1pbC0rn3nuluXPNDbBCv35SYqI0eXKZX2rRIikhQapUSfrrX91QGzyualWpf39zf8qUS1zsCoC//Za37Bg8ggCIorHuX2CoU8d8BA/ExYVhK/lb/+LipNq1ra0HxTdokDnOmGEWJihSaKhUvbq5TyugRxEAUTR2/QBQVmfPmhUE3GDxYtOQWLmy9PjjbnlJeEnPnlJEhHT0qPT115e4mG5gryAAonC0/gUWp1MaP97MwMy3GwXgcatWmT7AW28t80vFx5vjn/9swgT8R3CwdM895v4lZwMTAL2CAIjC0foXWBwOs3Da9u3Sf/9rdTWwk/XrTStg+fJlepmEBLPuX/ny0tix7ikN3vXHP5rj559LJ09e5MJHHzWDPV2JER5BAMSFsrOlnBxzn9a/wOFaE5BFoeFNbtoB5OWXzfGPf5Sio8v0UrBIu3amce/kSWnhwotceO210o03MsjTwwiAuFBQkJSebmaN0voXOG6/3Wywnpho1mMAvMENAXDrVmn+fNOQ/cQTbqkKFnA4pIEDzf3Zs62tBQRAXMxtt1ldAdwpIiJvSX66geENp0+b9CaVaQu4V14xx9tuk5o2dUNdsMwdd5jj//4nnTpVxEWnT5uBgv/4RzFWjkZpEQBRUJcu0qefWl0FPIVuYHjTli1mSEn16lLduqV6ib17pWnTzP0nn3RjbbBE+/ZS/fpSRoYZ5lcoh0O6/37pmWfMtGF4BAEQeaZMkb77zvzgERAC0223mel4mzZJ27ZZXQ0CXf7uX4ejVC/x+utSVpZpvO7QwW2VwSL5u4FnzSriopCQvC1emAnsMQRA5Mk/89fVUoTAUq2a+bcdMsSM9QQ8qV498/+tT59SPf3oUemDD8x9Wv8ChysAfv656e0tFEvBeFyw1QXAR7Dun31cci8mwE169TK3UnrvPTNOrG3bvOGr8H/XXmtmciclSV99ZXYKvEBMjFlDkgDoMbQAwmDdPwA+5MwZ6e23zf1HHil1DzJ8kMMhDRhg7i9YUMRFtAB6HAEQtP7ZkdMprV0rffml1ZUgUKWlSTt35q0pWkKzZknJyWYpuDvvdHNtsFzfvub4+edmntAFCIAeRwAErX92NH++mY43YgTLLMAzFi2SGjWSuncv8VOdTmnCBHM/Ls68NSGwdO0qhYdLR45IP/5YyAUEQI8jACJvU01a/+yjVy+pcmVp1y7TEgi4m2sGcJMmJX7q99+b9cpDQqSHHnJvWfAN5cvnzQ36/PNCLmjd2vRQfPGFN8uyFQIgpF9+MUGA1j/7qFJF+sMfzH2W/IEnlGEHkIkTzfGPf5Rq1nRbRfAxt95qjoWOAwwPl266SWrc2Ks12QkBEIaruR32kX9R6FKO0wKKtH69OZZwB5C9e6U5c8z90aPdXBN8yk03mdWotmwxw0XhXQRAO2vSxCz6XOgIXAS8Pn2k0FCzFkNCgtXVIJCkpJibwyG1aFGip779tvk80qNHiZ8KP3P55WYsoFREN/C330ovvGA2KIDbEQDtasoU6eefzbZvr79udTWwQqVKeQtw0Q0Md9q40RwbNzbDDYrpxAnpX/8y92n9s4eLdgPPmCE995y0eLFXa7ILAqBduWb+li8vPfGEtbXAOq5u4OXLra0DgaWU3b9Tp0rHj0sNG0q33OL+suB7XEORV62S0tPP+yIzgT2KAGhH+df9e/RRa2uBtXr3lr75xky5BNylWzfpqaek228v9lOcTmnyZHP/L3+RyvHbyRYaNTKB/+xZaenS875IAPQofsTsKH/rX3y8tbXAWhUqmMFWwewKCTfq2NGsKuDa9LUYfvzR9ByHhJitqmEfN95ojl99dd4XCIAeRQC0G1r/UJScHGYDwzLvvmuOd90lVatmbS3wrptuMscvvzxvXXpXADxwQMrM9HpdgY4AaDe0/qEwf/+7VK+emXUHlEVSktkF5NChYj/lt9/MeH9JGj7cQ3XBZ91wg/mVtHu39Ouv+b4QEWEWrHc6pX37LKsvUBEA7aZrV7M0A61/yO/gQfMp2/VbGCit//3PLDE0dGixn/Lpp9Lp01LLlqb3GPZStarUpYu5X6Ab2OGQGjQw9+kGdjsCoN18/rl5p6X1D/m5ZgPPnSudOWNtLfBvJdwBxOnM6/4dPtz8zof9uLqBFy067wuffipt22YmFsGtCIB2xM7qOF9srFS7tlmDgzW3UBYlXAJm+XJpxw7TCvTHP3qwLvg0VwBcuvS84X7t2klNm/J7ywMIgHZRp45ZVv/AAasrgS8KCpLuvNPcpxsYpZWVJW3ebO4XswXQ1fp3331mYxrYU4sWUmSkdPIkG394CwHQDqZMkZKTpZ9+kt55x+pq4Ktc3cDz55thAkBJ/fyz+b9TtapZ3O0SDh0yow4k6aGHPFwbfJrDIXXvbu4XWA8wKUl68UVzg1sRAO3ANfO3QgWzNhdQmI4dpehosxz/l19aXQ38kav7t1WrYq3k/MknZgHga64p8aYhCECuALhkSb6TR49Kf/ub9OabltQUyFj9NdDlX/fvscesrQW+rVw5swVDcrLUpInV1cAflWACiNMpffSRuf+nP3msIvgRVwD88UfzOTQ0VHlrAR45YjaLrlrVsvoCDS2AgY7WP5TEk09KEydKV19tdSV+JT4+Xh06dFBoaKgiIiLUv39/7dixo9jP/+677xQcHKzWxRw357P+/GeT6u6775KXJiRI27dLlSrlDT+FvTVoYPJeVpbZG1iSdNll5iZJe/ZYUlegIgAGMlr/AK9Yvny54uLilJCQoMWLFysrK0u9e/dWRkbGJZ+bmpqqwYMHq0ePHl6o1MOuvNLs49ap0yUvdbX+DRwohYV5tiz4j0K7gdkSziPoAg5ktP6hNLKzzSjshQulDh3M1LzYWDNTGIVadN7iZR999JEiIiK0du1ade3a9aLPfeihh3TvvfcqKChIn332mQer9B0nT+ZNNi/BetGwge7dpQ8/LCQArl9PAHQzWgAD2ZNPmp3Vaf1DSUycKPXqJf3f/0n33mv2aWrQIG+6Ji4pNTVVklTtEpvafvTRR9q5c6eee+65Yr1uZmam0tLSCtx8xoYN0qRJeRNBLmLuXDPGKyZGuv56z5cG/3HDDea4fr3ZIlASLYAeQgAMZOPGmSUZaP1Dcc2dW/gHhgMHTF8dIfCSnE6nxo4dqy5duqh58+ZFXvfLL7/oySef1NSpUxUcXLzOmPj4eIWHh+feoqOj3VV22X3+uTRypPTGG5e89N//NschQ4o1WRg2EhkpXXWVmSS0fPm5kwRAj+BHLxBlZ1tdAfxRdrY0erR55z2f69yYMfz/uoQRI0Zo06ZNmj59epHXZGdn695779X48ePVuHHjYr/2uHHjlJqamntLSkpyR8nuUcwdQHbvNiMMHA7p/vu9UBf8jqsVcNmycyfuvFPaulW6yM8USs62AbCss/Z8Wo0aUrVqZlN2oLhWrpT27y/6606nWZR15Urv1eRnRo4cqQULFmjp0qWKiooq8rr09HQlJiZqxIgRCg4OVnBwsF544QVt3LhRwcHBWlJgAFSekJAQhYWFFbj5jGIuAfPJJ+bYo4dUv75HK4Kfcg2bzX2rqVnTNAtWqmRZTYHItgGwLLP2fNqUKWY/199/l374wepq4E+Sk917nY04nU6NGDFCc+fO1ZIlSxTj6rIqQlhYmDZv3qwNGzbk3oYPH64mTZpow4YNuvbaa71UuZscP57XPXeRAJiTI338sbnP5A8UpUsXc9y4MW8hC7ifbWcBl2XWnk9j5i9KKzLSvdfZSFxcnKZNm6b58+crNDRUKSkpkqTw8HBVOtdqMW7cOB04cECffvqpypUrd8H4wIiICFWsWPGi4wZ91qZN5livnul9KMKyZdLevVJ4uHTbbd4pDf6nbl0z7G/3btOOceONkt56y7QyP/EEC9W7iW1bAM9XnFl7Pj0DT2LdP5RNbKwUFWUGZxXG4TBbxcXGercuPzB58mSlpqaqW7duioyMzL3NnDkz95rk5GTt27fPwio9yDX+7xLdv1OmmONdd9Gbh4tzvc3kdgNPn25mD23ebFlNgYYAqOLP2vPpGXgSrX8om6AgswSMdGEIdD2eMIH1AAvhdDoLvQ0ZMiT3mo8//ljLcke1X+j555/XBtc4On/jqvsiE0BOn5bmzDH3i7FRCGzuggDITGC3IwCqeLP2JB+fgUfrH9xhwABp9mzTB5NfVJQ5P2CANXXBt02caH5TDxpU5CX/+595i4qOzhvjBRTF9X9k9WopM1MEQA+w7RhAF9esvRUrVlx01p5kZuCFhIR4qbISGjHCHGn9Q1kNGCD162d+oScnsxMILi0s7JKpbupUc7z3Xtb+w6U1aWIm/x45Iq1dK3UmALqdbQOg0+nUyJEjNW/ePC1btuySs/Z83qJF0u23Sw88YHUlCARBQVK3blZXgQDx++9mZ0GJ7l8Uj8NhPlPMm2c+i3Zu38B8gQDoNrb9HBYXF6cpU6Zo2rRpubP2UlJSdOrUKatLK52OHc1uDX//u9WVALCTRYvMAuFffVXkJbNnS2fOSC1amBtQHAXGAboaafbsMesJocxsGwCLM2vPLxw5YnUFAOzsyy/NGMCLBEBX9y+tfyiJ664zx4QEyRkVbcYOZGZKhw5ZW1iAsHUXcEBo1Eg6eVJ64QWz9y8AeNMldgBJSsrb0/Wee7xSEQJE69ZSSIh07Ji0c195Ndq2zUxIq1zZ6tICgm1bAAOCa+ZvVpZ04oTV1QCwG6fzkgHQtbhC165mnWiguCpUkNq2NfcTEiQ1bkz4cyMCoL85ccIsod+ypeRaY4yZvwCssHu3+RBaoYLZq7UQdP+iLDp2NMeEBGvrCES27QL2S9dcI61Zc+H56tW9XwsAuFr/mjeXype/4Mtbtphd4sqXlwYO9G5pCAwFAuB335nNpJs2lR591MqyAgItgP6iqPAnmbXarrnGu/UAwCW6f//7X3O86aaLbhEMFMkVADdulDK375Y++MCsKo4yIwD6gxMnig5/LmvWMA4QgHft2mWOhQRApzMvAN55p/dKQmCJjjZr0WdlSdszWQzanQiA/uAi2yuV6joAcIcpU0wPRCED/LZskbZvN8MD+/a1oDYEBIcjrxXw++RzATApSTp71rqiAgQB0B/s3One6wDAXWrXLrR/d9Ysc7zpJik83Ms1IaC4AuCSrbXNujA5OSYEokwIgP6gYUP3XgcAHuYKgHfcYW0d8H+uAPjD6nJSgwbmAd3AZUYA9Af/+Y97rwOAsvrgA+kPf5BmzLjgS1u2SNu20f0L92jb1nQFHzggZdZhHKC7EAD9QdWqUocOF7+mQwdzHQB4w7Jl0hdfFDr0xNX6d+ONdP+i7KpWNSu/SFJKpXMBMCXFuoICBAHQX/z4Y9EhsEMH83UA8JaLLAFD9y/crX17c5zZ4kWz4sUzz1hbUAAgAPqTH3+U0tOl/v2lFi3MMT2d8AfAu06dMlN8pQsC4JYt0tatpvv31lu9XxoCU7t25rhqazWpShVriwkQ7ATib6pWlebNs7oKAHb2009SdrZUs6ZUp06BL7la/3r3pvsX7uNqAUxMtLaOQEILIACgZNavN8fWrc3o/HxcAZDFn+FOrVtL5cpJR5PPKOO+P0k9e0onT1pdll8jAAIASqaI8X/bt5vu3/Ll6f6Fe1WpIl11lXRW5VXhs/9K334r7dljdVl+jQAIACgZp9MMR2nTpsDpzz4zx5496f6F+5luYIeOhbIUjDsQAAEAJTN5spSaKg0cWOD0/Pnm2K+fBTUh4LkmguzWuQBIC2CZEAABACVXrpzp6z0nOVlKSDD36f6FJ7gmgmxMpwXQHQiAAIDiczoLPb1ggTl27ChFRnqxHthGq1bmc8eWkwRAdyAAAgCK75lnzLYMH3xQ4LRr/B/dv/CUypWlK6/M1wVMACwTAiAAoPjWrpV27DDrAJ6TlmYmZUpmfXrAU1q3zhcA09MtrcXfEQABAMVXyBIwX34pnT0rNWmSt2cr4AmtWknb1VRDbk+XfvnF6nL8GgEQAFA8ycnSoUNmIFaLFrmnmf0Lb2ndWspRkH7cWtXqUvweARAAUDyu1r8mTcyALElnzkhffGFO0/0LT2vVyhx37DBbUqP0CIAAgOIppPt32TIzBrBWLenaa60oCnYSGSnVqCENzflAZ27oLX30kdUl+S0CIACgeFx7AOfbAST/7N9y/EaBhzkc5vNHQ+1U+OrFZlISSoUfVwBA8TRqZPrgzm3J4HTmrf/H+D94S6tWLAXjDgRAAEDxvPSS6Qbu3l2StGmTdOCAVKlS7inA4wosBUMALDUCIACgVFyTP3r0kCpWtLYW2Ef+FkDnnj1F7k6DiyMAAgAu7fhxs9hfPq4AeMst3i8H9tW0qXQwqJ5y5JDj1CmzNBFKjAAIALi0xx+XQkOlSZMkSceOSQkJ5ks332xhXbCd8uWlmCYVtF9R5gTdwKVCAASAMoqPj1eHDh0UGhqqiIgI9e/fXzt27Ljoc+bOnatevXqpZs2aCgsLU6dOnfTVV195qeJS2LBBysyUateWJH31lZSTY9aDrlfP2tJgP82amW7gk1VqSKmpVpfjlwiAAFBGy5cvV1xcnBISErR48WJlZWWpd+/eysjIKPI5K1asUK9evbRw4UKtXbtWN9xwg/r27av1rqVWfMnZs9Lmzeb+uSVgXN2/tP7BCs2aSb20WH8ZeES66Sary/FLwVYXAAD+btGiRQUef/TRR4qIiNDatWvVtWvXQp8zYcKEAo9feuklzZ8/X59//rna5Ftnzyfs2GFa/0JDpZgYZWdLrj8y4/9ghWbNpLOqoC1brK7EfxEAAcDNUs91SVWrVq3Yz8nJyVF6evpFn5OZmanMzMzcx2lpaaUvsiRcO4C0aiWVK6fV30u//SZdfrnUqZN3SgDya9bMHLduNUMRWIS85PgrAwA3cjqdGjt2rLp06aLmzZsX+3mvv/66MjIydOeddxZ5TXx8vMLDw3Nv0dHR7ij50s7bAcTV/XvjjVIwzQiwQKNGUtPyOzXvZG9ldulhdTl+iQAIAG40YsQIbdq0SdOnTy/2c6ZPn67nn39eM2fOVERERJHXjRs3Tqmpqbm3pKQkd5R8aeftAczyL7Ba+fJSVMMQ9dZihaxeLmVlWV2S3+GzGwC4yciRI7VgwQKtWLFCUVFRxXrOzJkzNWzYMM2aNUs9e/a86LUhISEKCQlxR6kl06+f6e+95hodOCBt3Gj2ZL3xRu+XArjUbFVHmdsrKCTnjLR/v9SggdUl+RVaAAGgjJxOp0aMGKG5c+dqyZIliomJKdbzpk+friFDhmjatGm6xZeb00aNkmbPlpo318KF5tS110o1a1pbFuzt6ubltFf1zQPWAiwxAiAAlFFcXJymTJmiadOmKTQ0VCkpKUpJSdGpU6dyrxk3bpwGDx6c+3j69OkaPHiwXn/9dXXs2DH3Oak+vqaZa/Yvy7/Aaq61ACURAEuBAAgAZTR58mSlpqaqW7duioyMzL3NnDkz95rk5GTt27cv9/F7772nrKwsxcXFFXjO6NGjrfgjFG3HDuncfqtZWdK335rTdP/CavkDoHMXAbCkGAMIAGXkLMZm9B9//HGBx8uWLfNMMe725JPSZ59Jb76pNe1HKjXVDAds187qwmB3DRtKnwTFSNnSic27FWp1QX6GFkAAQNFcM4BbtNDXX5u7PXtKQUGWVQRIMv8Hz0bF6Jiq6beTFkyO8nMEQABA4X7/3XT/SlLr1rkBsHdvyyoCCjjQ+Q7V0DFN6/6h1aX4HQIgAKBwGzeaY4MGOq7LtHq1edirl3UlAfld3cwhyQxVRckQAAEAhcu3APSSJVJ2ttSkiVS/vqVVAbkaNzZHAmDJEQABAIXLtwUc3b/wRY0bS5MUp//82ET65hury/ErBEAAQOHOtQA6W7XWV1+ZUwRA+JIrr5SitF+Ncn7WifW/WF2OX2EZGABA4f72NykxUXtqdtCePWb/1W7drC4KyFO5snS0aox0QkrduFtVrS7IjxAAAQCFGzhQGjhQX75jHl53nVSV37DwMacjY6RfpLM7WAy6JOgCBgBcFOP/4MvKNTS7gQTvJwCWBAEQAHChb7+VFi/W2SPHtWSJOUUAhC8KbWkCYPhvBMCSIAACAC40frzUu7f2vPW50tOl6tWlNm2sLgq4UMQ1DSRJoWd+k9LSrC3GjxAAAQAF5eTkzgBe8rtJfd26SeX4jQEf1LB1qHaosdY62inn2O9Wl+M3mAQCACho924pPV0KCdGcn5pIkrp3t7gmoAgNGkiVyu/Q2bPSnnIS65QXD5/nAAAFnWv9y2nWXCt+KC+JAAjfFRQkNWpk7v/8s7W1+BMCIACgoHM7gKTUbqPMTKl2bbMFHOCr2BKu5AiAAICCzrUArstpLcm0/jkc1pUDXMqtQV9om5rquol3WF2K32AMIACgoHMB8IsDrSXR/QvfV6desJpqh/akEGuKi78pAEAep1OaP1+nEzZo+uhWkqQbbrC4JuASanQwawFGZOw2/4dpsr4kAiAAII/DIbVrp+VH2yk1W6pfX4qJsboo4OKirquvHDlU2XlSZw4cUYWoCKtL8nmMAQQAXMC1+wfj/+APatULUbKjjiQpJYEdQYqDAAgAyPPhh9K77+qnRfsl0f0L/+BwSCmVTFP1b4kEwOKwdQBcsWKF+vbtqzp16sjhcOizzz6zuiQAsNY//yk9/LCcm3+SRACE/0irZgLg6W0EwOKwdQDMyMhQq1atNGnSJKtLAQDrZWTkLqS2ztlajRtLUVEW1wQU04mYFlqnNtqfcbnVpfgFW08C6dOnj/r06WN1GQDgG376SXI6lVa5lg6drK3+tP7Bj+y983HduvJx9Q+VBlpdjB+wdQAsqczMTGVmZuY+TktLs7AaAHCzczuAbA5uI0nq1s3CWoASatjQHHfutLYOf2HrLuCSio+PV3h4eO4tOjra6pIAwH3OLQC9Mq21JCk21rpSgJK64gpz3LXTKWeO09pi/AABsATGjRun1NTU3FtSUpLVJQGA+5wLgOvVWldcIdWta205QEk0qO/UBrXUsZMhSo+fJC1bJmVnW12Wz6ILuARCQkIUEhJidRkA4H7Z2dLmzZKk9WpD6x/8TsjCeWqmrQpWtkKeGWVORkVJEydKAwZYW5wPogUQACAFBUn792tU8yXaqYbq2tXqgoASmDtXGjhQQTqvxe/AAWngQPN1FGDrAHjixAlt2LBBG851e+zevVsbNmzQvn37rC0MACxwutLleu/nG5SjIFoA4T+ys6XRoyWnUxdsWuM8NxZwzBi6g89j6wCYmJioNm3aqE0bM+Nt7NixatOmjZ599lmLKwMA71uzRjpzRqpdW2rUyOpqgGJauVLav7/orzudUlKSuQ65bD0GsFu3bnI6mSkEAPrrX1X+uyw10nC1ib2S/X/hP5KT3XudTdg6AAIAZFpIPvpIHY8c0WW6m/F/8C+Rke69ziZs3QUMAJBpGTlyRFkK0k9qzvg/+JfYWDPbt6hma4dDio5mYcvzEAABwO7O7QCyXU1V8bJKat7c4nqAkggKMku9SBeGQNfjCRPMdchFAAQAuzu3EsIGtdZ11/F7En5owABp9uwLVy+PijLnWQfwAgRAACij+Ph4dejQQaGhoYqIiFD//v21Y8eOSz5v+fLlateunSpWrKgrrrhC7777rheqLUS+AMj4P/itAQOkPXukpUuladPMcfduwl8RCIAAUEbLly9XXFycEhIStHjxYmVlZal3797KyMgo8jm7d+/WzTffrNjYWK1fv15PPfWURo0apTlz5nixcsOZLwAyTAp+LShI6tZNuucec6Q5u0jMAgaAMlq0aFGBxx999JEiIiK0du1adS2iSe3dd99VvXr1NGHCBEnSVVddpcTERP3zn//U7bff7umS85w+rezfUhUsaVuF1mrXznvfGoB1aAEEADdLTU2VJFWrVq3Ia3744Qf17t27wLkbb7xRiYmJOnv2rEfrK6BiRU1745Dqar9iOtRQhQre+9YArEMABAA3cjqdGjt2rLp06aLmF5lOm5KSolq1ahU4V6tWLWVlZeno0aOFPiczM1NpaWkFbu7w/Q8OHVRdderklpcD4AcIgADgRiNGjNCmTZs0ffr0S17rOG/JCtfOROefd4mPj1d4eHjuLTo6uuwFS/rhB3Ps3NktLwfADxAAAcBNRo4cqQULFmjp0qWKioq66LW1a9dWSkpKgXOHDx9WcHCwqlevXuhzxo0bp9TU1NxbUlJSmWs+e/OtemFTPzXVNloAARthEggAlJHT6dTIkSM1b948LVu2TDExMZd8TqdOnfT5558XOPf111+rffv2Kl++fKHPCQkJUUhIiFtqliSdPaugb75SP53RG1H/p9q13ffSAHwbLYAAUEZxcXGaMmWKpk2bptDQUKWkpCglJUWnTp3KvWbcuHEaPHhw7uPhw4dr7969Gjt2rLZt26Z///vf+vDDD/XYY495r/Bt21Tu7BmlKkzRsQ28930BWI4ACABlNHnyZKWmpqpbt26KjIzMvc2cOTP3muTkZO3bty/3cUxMjBYuXKhly5apdevW+vvf/64333zTu0vA5Fv/r9N1/DoA7IQuYAAoI9fkjYv5+OOPLzh3/fXXa926dR6oqHic69bLoXMLQDP+D7AVPvIBgE2d/H6DJLMAdMuW1tYCwLsIgABgR06ngrdskCRltWijYPqDAFshAAKAHaWmKqlKU/2uy1Sn59VWVwPAywiAAGBHl12mvtV/UHUd0zVd2P8NsBsa/QHAhn77Tdq+XZLKqWNHq6sB4G20AAKADa35IUuSdOWVUo0aFhcDwOsIgABgQx0GNdFmNVe/pjusLgWABegCBgC7+e03Vft9l6pJangd+78BdkQLIADYjHP9BknSTl2h1teHW1sMAEsQAAHAZn5ftkGStNHRWq1bW1oKAIsQAAHAZtJWbJAkHYpsrYoVra0FgDUIgABgMyFb10uSclq1sbgSAFYhAAKAnZw+rYij2yRJNXq0trYWAJZhFjAA2Ej28XTNCrpbUdl71PzGulaXA8AiBEAAsJHtx2rqnuwpqlpVOn6V1dUAsApdwABgIz/+aI7t2klBQdbWAsA6BEAAsJFfv9mjcsrWNddYXQkAKxEAAcAucnL01IwWSleobqi/y+pqAFiIAAgANpG5daeq5JyQQ04161PP6nIAWIgACAA2sXf+BknS9uAWio5hDiBgZwRAALCJ/DuAOBzW1gLAWgRAALCJCud2ADnbnB1AALsjAAKATdRO2SBJCr++taV1ALAeARAAbOD03kOKyEpWjhy6ol8Lq8sBYDFGAQOADWz/uZzm6XnVr3hIQ5tUtbocABYjAAKADfy4u6Ze0HPq3VV6gAkggO3RBQwANrBunTm2bWttHQB8AwEQAGwgaOk3ilKS2rZxWl0KAB9AAASAAHf29xN66+feSlI9dah/2OpyAPgAAiAABLg9n29WOTmV7IhU/WtqWV0OAB9AAASAQJadrcwp/5Uk/V41Wo6cbIsLAuALCIAAEKjmzpUaNFDzxRMkSVen/yg1aGDOA7A1AiAABKK5c6WBA6X9+wueP3DAnCcEArZGAASAQJOdLY0eLTkLmfHrOjdmjLkOgC0RAAEg0KxceWHLX35Op5SUZK4DYEsEQAAINMnJ7r0OQMAhAAJAoImMdO91AAIOARAA3GDFihXq27ev6tSpI4fDoc8+++ySz5k6dapatWqlypUrKzIyUkOHDtWxY8fKXkxsrBQVJTmK2PTX4ZCio811AGyJAAgAbpCRkaFWrVpp0qRJxbp+1apVGjx4sIYNG6YtW7Zo1qxZWrNmjR588MGyFxMUJE2caO6fHwJdjydMMNcBsKVgqwsAgEDQp08f9enTp9jXJyQkqEGDBho1apQkKSYmRg899JBeffVV9xQ0YIA0e7aZDZx/QkhUlAl/Awa45/sA8Eu0AAKABTp37qz9+/dr4cKFcjqdOnTokGbPnq1bbrnFfd9kwABpzx5p6VJp2jRz3L2b8AeAFkAAsELnzp01depU3XXXXTp9+rSysrJ066236q233iryOZmZmcrMzMx9nJaWdulvFBQkdevmhooBBBJaAAHAAlu3btWoUaP07LPPau3atVq0aJF2796t4cOHF/mc+Ph4hYeH596io6O9WDGAQOJwOgtbKh7FkZaWpvDwcKWmpiosLMzqcgC/Eeg/Ow6HQ/PmzVP//v2LvGbQoEE6ffq0Zs2alXtu1apVio2N1cGDBxVZyBIthbUARkdHB+zfI+Apgf4eVBx0AQOABU6ePKng4IJvwUHnZuUW9bk8JCREISEhHq8NQOCjCxgA3ODEiRPasGGDNmzYIEnavXu3NmzYoH379kmSxo0bp8GDB+de37dvX82dO1eTJ0/Wrl279N1332nUqFG65pprVKdOHSv+CABshBZAAHCDxMRE3XDDDbmPx44dK0m6//779fHHHys5OTk3DErSkCFDlJ6erkmTJunRRx/VZZddpu7du+uVV17xeu0A7IcxgGXAGAKgdPjZcQ/+HoHS4WeHLmC98847iomJUcWKFdWuXTutXLnS6pIAAAA8ytYBcObMmRozZoyefvpprV+/XrGxserTp0+BbhoAAIBAY+sA+MYbb2jYsGF68MEHddVVV2nChAmKjo7W5MmTrS4NAADAY2w7CeTMmTNau3atnnzyyQLne/fure+//77Q55y/BldqaqqkYq7GDyCX62eGIchl4/r74z0IKBneg2wcAI8ePars7GzVqlWrwPlatWopJSWl0OfEx8dr/PjxF5xnNX6gdNLT0xUeHm51GX4rPT1dEu9BQGnZ+T3ItgHQxeFwFHjsdDovOOcybty43KUdJOn48eOqX7++9u3bZ9v/QO7i2tEgKSnJtjOy3MFf/h6dTqfS09NZ766M6tSpo6SkJIWGhhb5vgX/+bmwE6v/TXgPsnEArFGjhoKCgi5o7Tt8+PAFrYIuRa3CHx4ezpuKm4SFhfF36Qb+8PfIh6ayK1eunKKioqwuw2/4w8+F3Vj5b2L39yDbTgKpUKGC2rVrp8WLFxc4v3jxYnXu3NmiqgAAADzPti2Aklmpf9CgQWrfvr06deqk999/X/v27dPw4cOtLg0AAMBjbB0A77rrLh07dkwvvPCCkpOT1bx5cy1cuFD169cv1vNDQkL03HPPsTm7G/B36R78PQIX4ufC9/BvYj22ggMAALAZ244BBAAAsCsCIAAAgM0QAAEAAGyGAAgAAGAzBMBSeueddxQTE6OKFSuqXbt2WrlypdUl+Z34+Hh16NBBoaGhioiIUP/+/bVjxw6rywoI8fHxcjgcGjNmjNWlAJbg/cX38T5lLQJgKcycOVNjxozR008/rfXr1ys2NlZ9+vTRvn37rC7NryxfvlxxcXFKSEjQ4sWLlZWVpd69eysjI8Pq0vzamjVr9P7776tly5ZWlwJYhvcX38b7lPVYBqYUrr32WrVt21aTJ0/OPXfVVVepf//+io+Pt7Ay/3bkyBFFRERo+fLl6tq1q9Xl+KUTJ06obdu2euedd/Tiiy+qdevWmjBhgtVlAZbj/cV38D7lG2gBLKEzZ85o7dq16t27d4HzvXv31vfff29RVYEhNTVVklStWjWLK/FfcXFxuuWWW9SzZ0+rSwF8Cu8vvoP3Kd9g651ASuPo0aPKzs5WrVq1CpyvVauWUlJSLKrK/zmdTo0dO1ZdunRR8+bNrS7HL82YMUPr1q3TmjVrrC4F8Cm8v/gO3qd8BwGwlBwOR4HHTqfzgnMovhEjRmjTpk1atWqV1aX4paSkJI0ePVpff/21KlasaHU5gE/h/cU38D7lWwiAJVSjRg0FBQVd0Np3+PDhC1oFUTwjR47UggULtGLFCkVFRVldjl9au3atDh8+rHbt2uWey87O1ooVKzRp0iRlZmYqKCjIwgoBa/D+4jt4n/ItBMASqlChgtq1a6fFixfrtttuyz2/ePFi9evXz8LK/I/T6dTIkSM1b948LVu2TDExMVaX5Ld69OihzZs3Fzg3dOhQNW3aVH/96195U4Xt8P7ie3if8i0EwFIYO3asBg0apPbt26tTp056//33tW/fPg0fPtzq0vxKXFycpk2bpvnz5ys0NDS3VTU8PFyVKlWyuDr/EhoaesHYpipVqqh69eqMeYIt8f7ie3if8i0EwFK46667dOzYMb3wwgtKTk5W8+bNtXDhQtWvX9/q0vyKaxmdbt26FTj/0UcfaciQId4vCEDA4P0FuDjWAQQAALAZ1gEEAACwGQIgAACAzRAAAQAAbIYACAAAYDMEQAAAAJshAAIAANgMARAAAMBmCIAAAAA2QwAEAACwGQIgAACAzRAAAQAAbIYACAAAYDMEQAAAAJshAAIAANgMARAAAMBmCIAAAAA2QwAEAACwGQIgAACAzRAAAQAAbIYACAAAYDMEQAAAAJshAAIAANgMARAAAMBmCIAAAAA2QwAEAACwGQIgAACAzRAAAQAAbIYACAAAYDMEQAAAAJshAAIAANgMARAAAMBm/h89lFZUIyjo4QAAAABJRU5ErkJggg==' width=640.0/>\n",
       "            </div>\n",
       "        "
      ],
      "text/plain": [
       "Canvas(toolbar=Toolbar(toolitems=[('Home', 'Reset original view', 'home', 'home'), ('Back', 'Back to previous …"
      ]
     },
     "metadata": {},
     "output_type": "display_data"
    }
   ],
   "source": [
    "\"\"\" Remarque : on peut également modifier la fonction onclick et ajouter les commandes\n",
    "ci-dessous lors du clic droit (après la déconnexion à la figure : plt.disconnect).\n",
    "On obtiendra alors le tracé des courbes juste après le dernier clic. \n",
    "\"\"\"\n",
    "N=len(PtContX)\n",
    "if N>1:\n",
    "    points = np.array([PtContX,PtContY]).T\n",
    "    c = Bezier(points)\n",
    "    ax2.plot(c[0],c[1],'b')\n",
    "    ax2.plot(PtContX,PtContY,'ro--')\n",
    "    plt.show()\n",
    "else:\n",
    "    print(\"Il faut au moins deux points pour tracer une courbe de Bézier\")\n",
    "\n"
   ]
  },
  {
   "cell_type": "markdown",
   "metadata": {
    "deletable": false,
    "editable": false,
    "nbgrader": {
     "cell_type": "markdown",
     "checksum": "2a4b63f9a062988d07bd4266062f853a",
     "grade": false,
     "grade_id": "cell-3910a435bbf0f4d5",
     "locked": true,
     "schema_version": 3,
     "solution": false,
     "task": false
    }
   },
   "source": [
    "### Sous-courbes de Bézier\n",
    "\n",
    "On souhaite découper une courbe de Bézier, ${\\cal B}^{n}$, de degré $n$ en deux morceaux ${\\cal C}^{n}$ et ${\\cal D}^{n}$. Chaque morceau sera une courbe de Bézier de même degré $n$.  \n",
    "La courbe de Bézier ${\\cal B}^{n}$ est déterminée par les $n+1$ points de contrôle $P_0, P_1,\\ldots,P_n$.  \n",
    "Soit $B(t_0)$ le point de la courbe de Bézier  ${\\cal B}^{n}$ où l'on souhaite ``découper''. On va démontrer **numériquement** que les $n+1$ points de contrôle de chaque morceau sont donnés par l'algorithme de De Casteljau. "
   ]
  },
  {
   "cell_type": "markdown",
   "metadata": {
    "deletable": false,
    "editable": false,
    "nbgrader": {
     "cell_type": "markdown",
     "checksum": "d9ed582e74749273b950359e2c76fb0e",
     "grade": false,
     "grade_id": "cell-460f12b34804db68",
     "locked": true,
     "schema_version": 3,
     "solution": false,
     "task": false
    }
   },
   "source": [
    "<div>\n",
    "<img src=\"Principe_algorithme_de_casteljau.png-1.png\" width=\"420\"/>\n",
    "</div>"
   ]
  },
  {
   "cell_type": "markdown",
   "metadata": {
    "deletable": false,
    "editable": false,
    "nbgrader": {
     "cell_type": "markdown",
     "checksum": "346564e31e35c099b73c32e0442bcc04",
     "grade": false,
     "grade_id": "cell-286f22a5f5fee5f8",
     "locked": true,
     "schema_version": 3,
     "solution": false,
     "task": false
    }
   },
   "source": [
    "Ecrire une fonction  **DeCasteljau(P,t0)**, prenant en paramètres d'entrées $n+1$ points et un scalaire $t_0 \\in [0,1]$ et qui renvoie le point $P_{t_0}$  de la courbe de Bézier de paramètre $t_0$"
   ]
  },
  {
   "cell_type": "code",
   "execution_count": 13,
   "metadata": {
    "deletable": false,
    "nbgrader": {
     "cell_type": "code",
     "checksum": "6be801fd4869fd6c2700bd6e1d5b8ddd",
     "grade": true,
     "grade_id": "cell-4be59392e72e5747",
     "locked": false,
     "points": 1,
     "schema_version": 3,
     "solution": true,
     "task": false
    }
   },
   "outputs": [],
   "source": [
    "def DeCasteljau(P,t0):\n",
    "    \"\"\"P est un array (2,n+1) formé des coordonnées des\n",
    "        points de contrôle. t0 est le paramètre.\n",
    "        La fonction renvoie le point P0 de la courbe de Bézier correspondant\n",
    "        au paramètre t0 sous la forme d'un array à deux lignes et une colonne.\n",
    "    \"\"\"\n",
    "    # Votre code ici\n",
    "    n = P.shape[1]-1\n",
    "    P0 = P.copy()\n",
    "    for k in range(1,n+1):\n",
    "        for j in range(n-k+1):\n",
    "            P0[:,j] = (1-t0)*P0[:,j] + t0*P0[:,j+1]\n",
    "    \n",
    "    return P0"
   ]
  },
  {
   "cell_type": "code",
   "execution_count": 14,
   "metadata": {
    "deletable": false,
    "editable": false,
    "nbgrader": {
     "cell_type": "code",
     "checksum": "1d4b856fa7ce89db46cc45b9cd2dc276",
     "grade": true,
     "grade_id": "cell-83c598293f97ba71",
     "locked": true,
     "points": 2,
     "schema_version": 3,
     "solution": false,
     "task": false
    }
   },
   "outputs": [
    {
     "ename": "ValueError",
     "evalue": "The truth value of an array with more than one element is ambiguous. Use a.any() or a.all()",
     "output_type": "error",
     "traceback": [
      "\u001b[0;31m---------------------------------------------------------------------------\u001b[0m",
      "\u001b[0;31mValueError\u001b[0m                                Traceback (most recent call last)",
      "Cell \u001b[0;32mIn[14], line 5\u001b[0m\n\u001b[1;32m      2\u001b[0m Px\u001b[38;5;241m=\u001b[39m[\u001b[38;5;241m1.1129942247944489\u001b[39m, \u001b[38;5;241m0.8468651925363844\u001b[39m, \u001b[38;5;241m3.2662200312460614\u001b[39m, \u001b[38;5;241m4.209768418342835\u001b[39m]\n\u001b[1;32m      3\u001b[0m Py\u001b[38;5;241m=\u001b[39m[\u001b[38;5;241m0.3947177903476734\u001b[39m, \u001b[38;5;241m1.382271902901786\u001b[39m, \u001b[38;5;241m1.8828130284429112\u001b[39m, \u001b[38;5;241m0.6517524223823054\u001b[39m]\n\u001b[0;32m----> 5\u001b[0m \u001b[38;5;28;01massert\u001b[39;00m \u001b[38;5;28;43mall\u001b[39;49m\u001b[43m(\u001b[49m\u001b[43mnp\u001b[49m\u001b[38;5;241;43m.\u001b[39;49m\u001b[43mround\u001b[49m\u001b[43m(\u001b[49m\u001b[43mDeCasteljau\u001b[49m\u001b[43m(\u001b[49m\u001b[43mnp\u001b[49m\u001b[38;5;241;43m.\u001b[39;49m\u001b[43marray\u001b[49m\u001b[43m(\u001b[49m\u001b[43m[\u001b[49m\u001b[43mPx\u001b[49m\u001b[43m,\u001b[49m\u001b[43mPy\u001b[49m\u001b[43m]\u001b[49m\u001b[43m)\u001b[49m\u001b[43m,\u001b[49m\u001b[38;5;241;43m0.3\u001b[39;49m\u001b[43m)\u001b[49m\u001b[43m,\u001b[49m\u001b[38;5;241;43m4\u001b[39;49m\u001b[43m)\u001b[49m\u001b[43m \u001b[49m\u001b[38;5;241;43m==\u001b[39;49m\u001b[43m \u001b[49m\u001b[43mnp\u001b[49m\u001b[38;5;241;43m.\u001b[39;49m\u001b[43marray\u001b[49m\u001b[43m(\u001b[49m\u001b[43m[\u001b[49m\u001b[43m[\u001b[49m\u001b[38;5;241;43m1.4862\u001b[39;49m\u001b[43m]\u001b[49m\u001b[43m,\u001b[49m\u001b[43m[\u001b[49m\u001b[38;5;241;43m1.1184\u001b[39;49m\u001b[43m]\u001b[49m\u001b[43m]\u001b[49m\u001b[43m)\u001b[49m\u001b[43m)\u001b[49m\n",
      "\u001b[0;31mValueError\u001b[0m: The truth value of an array with more than one element is ambiguous. Use a.any() or a.all()"
     ]
    }
   ],
   "source": [
    "\"\"\"Vérifiez vos résultats sur les tests suivants\"\"\"\n",
    "Px=[1.1129942247944489, 0.8468651925363844, 3.2662200312460614, 4.209768418342835]\n",
    "Py=[0.3947177903476734, 1.382271902901786, 1.8828130284429112, 0.6517524223823054]\n",
    "\n",
    "assert all(np.round(DeCasteljau(np.array([Px,Py]),0.3),4) == np.array([[1.4862],[1.1184]]))\n"
   ]
  },
  {
   "cell_type": "markdown",
   "metadata": {
    "deletable": false,
    "editable": false,
    "nbgrader": {
     "cell_type": "markdown",
     "checksum": "4a9dac7c83af63ecae684b22af27887e",
     "grade": false,
     "grade_id": "cell-2c78c1dd2166a3bd",
     "locked": true,
     "schema_version": 3,
     "solution": false,
     "task": false
    }
   },
   "source": [
    "Modifier la fonction précédente pour qu'elle renvoie le point $P_{t_0}$  de la courbe de Bézier de paramètre $t_0$ ainsi que deux tableaux numpy, $P_1, P_2$ de $n+1$ points constitués des points intermédiaires qui ont servi au calcul du  point de paramètre $t_0$ par l'algorithme de De Casteljau.  \n",
    "Le premier tableau, $P_1$, est formé du premier point de contrôle et des **premiers** points de chaque étape de l'algorithme de De Casteljau. Le deuxième, $P_2$ est formé du dernier point de contrôle et des **derniers** points de chaque étape de l'algorithme de De Casteljau mais ordonné dans le sens inverse (voir exemple ci-dessous).  \n",
    "Reprenons l'exemple de la figure ci-dessus, on obtiendra ainsi\n",
    "$$ P_1=\\{P_0^0, P_0^1, P_0^2,P_0^3  \\} \\; \\text{et} \\; P_2=\\{P_0^3,P_1^2,P_2^1,P_3^0 \\}  $$"
   ]
  },
  {
   "cell_type": "code",
   "execution_count": null,
   "metadata": {
    "deletable": false,
    "nbgrader": {
     "cell_type": "code",
     "checksum": "a3969b1b99c99e832ea16b87f0bbd925",
     "grade": true,
     "grade_id": "cell-eb9a04ba748b7c57",
     "locked": false,
     "points": 2,
     "schema_version": 3,
     "solution": true,
     "task": false
    }
   },
   "outputs": [],
   "source": [
    "def DeCasteljau2(P,t0):\n",
    "    \"\"\"P est un array (2,n+1)  formé des coordonnées des\n",
    "        points de contrôle. t0 est le paramètre.\n",
    "        La fonction renvoie le point P0 de la courbe de Bézier correspondant\n",
    "        au paramètre t0 ainsi que les deux array P1 et P2 (coordonnées de points) décrits\n",
    "        précédemment, chacun de ces tableaux est de dimension (2,n+1).\n",
    "        On gérera les exceptions avec \"raise ValueError()\" (si le paramètre t0 n'appartient pas à ]0;1[)\n",
    "    \"\"\"\n",
    "    # Votre code ici\n",
    "    return P0,P1,P2 "
   ]
  },
  {
   "cell_type": "code",
   "execution_count": null,
   "metadata": {
    "deletable": false,
    "editable": false,
    "nbgrader": {
     "cell_type": "code",
     "checksum": "c74e7e0f3d5f1921b19f3a8b47f7c489",
     "grade": true,
     "grade_id": "cell-f416c6051bb0da39",
     "locked": true,
     "points": 2,
     "schema_version": 3,
     "solution": false,
     "task": false
    }
   },
   "outputs": [],
   "source": [
    "\"\"\"Vérifiez vos résultats sur les tests suivants\"\"\"\n",
    "np.all(np.round(DeCasteljau2(np.array([Px,Py]),0.3)[0],4) == np.array([[1.4862],[1.1184]]))\n",
    "np.all(np.round(DeCasteljau2(np.array([Px,Py]),0.3)[1],4) == np.array([[1.1130, 1.0332, 1.1950, 1.4862],[0.3947,0.691 , 0.9434, 1.1184]]))"
   ]
  },
  {
   "cell_type": "markdown",
   "metadata": {
    "deletable": false,
    "editable": false,
    "nbgrader": {
     "cell_type": "markdown",
     "checksum": "bdf98c83130f183f9e57dd2d50bfcecf",
     "grade": false,
     "grade_id": "cell-fa9666dc6cffed5e",
     "locked": true,
     "schema_version": 3,
     "solution": false,
     "task": false
    }
   },
   "source": [
    "Dans cette dernière partie, on souhaite faire l'acquisition des points de contrôle à la souris, les représenter sur la figure (ainsi que le polygône de contrôle correspondant) puis tracer sur la même figure la courbes de Bézier associée à ces points ainsi  que les deux sous courbes de Bézier associées (l'utisateur choisira le paramètre de coupure t0).  \n",
    "Vous devriez, au final, avoir une figure semblable à celle ci-dessous."
   ]
  },
  {
   "cell_type": "markdown",
   "metadata": {
    "deletable": false,
    "editable": false,
    "nbgrader": {
     "cell_type": "markdown",
     "checksum": "c8b96a48e8a3e31f183df5801db3ecc5",
     "grade": false,
     "grade_id": "cell-2c143ca12b410b01",
     "locked": true,
     "schema_version": 3,
     "solution": false,
     "task": false
    }
   },
   "source": [
    "<div>\n",
    "<img src=\"SousCourbes.png\" width=\"520\"/>\n",
    "</div>"
   ]
  },
  {
   "cell_type": "code",
   "execution_count": null,
   "metadata": {
    "deletable": false,
    "nbgrader": {
     "cell_type": "code",
     "checksum": "06cbe077855706e5cdfc7e64b4209d62",
     "grade": false,
     "grade_id": "cell-563b4b5ed17527d5",
     "locked": false,
     "schema_version": 3,
     "solution": true,
     "task": false
    }
   },
   "outputs": [],
   "source": [
    "# Acquisition des points de contrôle\n",
    "# Votre code ici"
   ]
  },
  {
   "cell_type": "code",
   "execution_count": null,
   "metadata": {
    "deletable": false,
    "nbgrader": {
     "cell_type": "code",
     "checksum": "123e37096b90005ed16307e11f8eda74",
     "grade": true,
     "grade_id": "cell-fafee4e5971cf70a",
     "locked": false,
     "points": 2,
     "schema_version": 3,
     "solution": true,
     "task": false
    }
   },
   "outputs": [],
   "source": [
    "def SousCourbes(PtContX,PtContY,t0):\n",
    "    \"\"\" Les coordonnées des points de contrôle sont donnés par les listes PtContX et PtContY (ici se sont des\n",
    "    listes (comme dans les tp précédents). Le paramètre du point de découpe est t0.\n",
    "    Toutes les directives de tracé se font dans cette fonction, elle ne retourne donc rien. On l'appelle pour effectuer \n",
    "    les tracés.\n",
    "    \"\"\"\n",
    "    # Votre code ici\n",
    "SousCourbes(PtContX,PtContY,0.35)   "
   ]
  },
  {
   "cell_type": "markdown",
   "metadata": {
    "deletable": false,
    "editable": false,
    "nbgrader": {
     "cell_type": "markdown",
     "checksum": "54b82aabdb698bd454d7507184c7301f",
     "grade": false,
     "grade_id": "cell-0cb9fc53fdddf86b",
     "locked": true,
     "schema_version": 3,
     "solution": false,
     "task": false
    }
   },
   "source": [
    "### Bézier rationnelles\n",
    "  \n",
    "\n",
    "Dans cette partie on s'interesse aux courbes de Bézier rationnelles, $ {\\cal B}^{n}$.  \n",
    "L'idée est d'ajouter des poids, $\\omega_i$, aux points de contrôle $P_i$.  \n",
    "\n",
    "Pour $n+1$ points de contrôle $(\\mathbf{P}_0, \\dots, \\mathbf{P}_n)$, et $n+1$ poids $\\omega_i, i\\in\\{0,\\ldots,n\\}$ **non tous nuls**, on définit la courbe de Bézier rationnelle  \n",
    "$$B_r(t)=\\displaystyle \\frac{\\displaystyle\\sum_{i=0}^n B_i^n(t) \\omega_i \\mathbf{P}_i }{\\displaystyle\\sum_{i=0}^n B_i^n(t) \\omega_i } , \\quad t \\in[0,1] $$  \n",
    "où les $B_i^n$ sont les polynômes de Bernstein et la suite des points $\\mathbf{P}_0, \\dots, \\mathbf{P}_n$ forme le polygone de contrôle."
   ]
  },
  {
   "cell_type": "markdown",
   "metadata": {
    "deletable": false,
    "editable": false,
    "nbgrader": {
     "cell_type": "markdown",
     "checksum": "5a76532e299dc13feb2982b84427bbc1",
     "grade": false,
     "grade_id": "cell-e88d70d8e03ffba8",
     "locked": true,
     "schema_version": 3,
     "solution": false,
     "task": false
    }
   },
   "source": [
    "Que se passe t'il si tous les poids sont égaux, quelle courbe obtient-on ?  \n",
    "Justifiez brièvement (mais clairement) votre réponse dans la cellule ci-dessus."
   ]
  },
  {
   "cell_type": "markdown",
   "metadata": {
    "deletable": false,
    "nbgrader": {
     "cell_type": "markdown",
     "checksum": "bfb58669f93a79e237b2826cd7e4094f",
     "grade": true,
     "grade_id": "cell-0b47816484bd146e",
     "locked": false,
     "points": 2,
     "schema_version": 3,
     "solution": true,
     "task": false
    }
   },
   "source": [
    "YOUR ANSWER HERE"
   ]
  },
  {
   "cell_type": "markdown",
   "metadata": {
    "deletable": false,
    "editable": false,
    "nbgrader": {
     "cell_type": "markdown",
     "checksum": "0ef7a580bfe43233beeb04edbcbec82c",
     "grade": false,
     "grade_id": "cell-416630b5f5ece1a0",
     "locked": true,
     "schema_version": 3,
     "solution": false,
     "task": false
    }
   },
   "source": [
    "Ecrire une fonction qui prend en paramètre d'entrée les points de contrôle (sous forme d'un **tableau numpy** à 2 lignes et n+1 colonnes, une **liste** de n+1 poids ainsi qu'un paramètre $t \\in [0,1]$ et qui renvoie le point de la courbe de Bézier rationnelle correspondant à $t$.   "
   ]
  },
  {
   "cell_type": "code",
   "execution_count": null,
   "metadata": {
    "deletable": false,
    "nbgrader": {
     "cell_type": "code",
     "checksum": "d704fd8dfb3844833a899c567ecaf458",
     "grade": true,
     "grade_id": "cell-3fc2a6f05c23d523",
     "locked": false,
     "points": 2,
     "schema_version": 3,
     "solution": true,
     "task": false
    }
   },
   "outputs": [],
   "source": [
    "def BezierRat(Pc,L,t):\n",
    "    \"\"\"Courbe de Bézier rationnelle associée aux points de contrôle Pc\n",
    "       passés en paramètre d'entrée, une liste L de poids et un\n",
    "       paramètre t.\n",
    "       La fonction renvoie le point Pt de la courbe correpondant au paramètre t\n",
    "       On gérera une exception si tous les poids sont nuls (raise ValueError())\n",
    "    \"\"\"\n",
    "    # Votre code ici\n",
    "    return Pt"
   ]
  },
  {
   "cell_type": "code",
   "execution_count": null,
   "metadata": {
    "deletable": false,
    "editable": false,
    "nbgrader": {
     "cell_type": "code",
     "checksum": "316c01e6ce853ad600e4e9be737f2779",
     "grade": true,
     "grade_id": "cell-29b0063a69709eac",
     "locked": true,
     "points": 2,
     "schema_version": 3,
     "solution": false,
     "task": false
    }
   },
   "outputs": [],
   "source": [
    "\"\"\"Vérifiez vos résultats sur les tests suivants\"\"\"\n",
    "np.all(np.round(BezierRat(np.array([Px,Py]),[4,4,4,4],0.5),4)==np.array([[2.2078],[1.3552]]))\n"
   ]
  },
  {
   "cell_type": "markdown",
   "metadata": {
    "deletable": false,
    "editable": false,
    "nbgrader": {
     "cell_type": "markdown",
     "checksum": "8ecf8fe69a97e9c4f527fb8f9b839f78",
     "grade": false,
     "grade_id": "cell-299d72c86266623e",
     "locked": true,
     "schema_version": 3,
     "solution": false,
     "task": false
    }
   },
   "source": [
    "Modifier la fonction précédente pour pouvoir passer un vecteur de paramètres (t = np.linspace(0,1,100) par exemple). "
   ]
  },
  {
   "cell_type": "code",
   "execution_count": null,
   "metadata": {
    "deletable": false,
    "nbgrader": {
     "cell_type": "code",
     "checksum": "1358d1a0393a47b6e67e46861bfc4b35",
     "grade": true,
     "grade_id": "cell-41f36fbb48321263",
     "locked": false,
     "points": 2,
     "schema_version": 3,
     "solution": true,
     "task": false
    }
   },
   "outputs": [],
   "source": [
    "def BezierRatVect(Pc,L,t):\n",
    "    \"\"\"Courbe de Bézier rationnelle associée aux points de contrôle Pc\n",
    "       passés en paramètre d'entrée, une liste L de poids et un vecteur\n",
    "       de paramètre t.\n",
    "       La fonction renvoie les points Pts de la courbe correpondant aux paramètres t\n",
    "       On gérera une exception si tous les poids sont nuls (raise ValueError())\n",
    "    \"\"\"\n",
    "    # Votre code ici\n",
    "    return Pts"
   ]
  },
  {
   "cell_type": "code",
   "execution_count": null,
   "metadata": {
    "deletable": false,
    "editable": false,
    "nbgrader": {
     "cell_type": "code",
     "checksum": "ef4b91a359b3a13c29cd54d65df7957b",
     "grade": true,
     "grade_id": "cell-a0c8923a16f8506f",
     "locked": true,
     "points": 2,
     "schema_version": 3,
     "solution": false,
     "task": false
    }
   },
   "outputs": [],
   "source": [
    "\"\"\"Vérifiez vos résultats sur les tests suivants\"\"\"\n",
    "np.all(np.round(BezierRatVect(np.array([Px,Py]),[4,4,4,4],np.linspace(0,1,6)),4)==np.array([[1.113 , 1.2423, 1.8163, 2.6354, 3.4998, 4.2098],\n",
    "[0.3947, 0.9189, 1.2664, 1.3775, 1.1926, 0.6518]]))\n"
   ]
  },
  {
   "cell_type": "markdown",
   "metadata": {
    "deletable": false,
    "editable": false,
    "nbgrader": {
     "cell_type": "markdown",
     "checksum": "b56c82a4c4bf1c8dd3fa6469ec60a44e",
     "grade": false,
     "grade_id": "cell-7ce6ff0c0fee79ed",
     "locked": true,
     "schema_version": 3,
     "solution": false,
     "task": false
    }
   },
   "source": [
    "Ecrire une fonction qui prend comme paramètre d'entrée les points de contrôle (sous forme d'un tableau numpy) ainsi qu'une liste, L,  de poids et qui trace sur une même figure les points de contrôle, le polygone de contrôle et la courbe de Bézier rationnelle (cubique) associée à ces points et ces poids. "
   ]
  },
  {
   "cell_type": "code",
   "execution_count": null,
   "metadata": {
    "deletable": false,
    "nbgrader": {
     "cell_type": "code",
     "checksum": "56d041950a5e70ee2a77e384e98744fe",
     "grade": true,
     "grade_id": "cell-876e6e0dbde7c859",
     "locked": false,
     "points": 2,
     "schema_version": 3,
     "solution": true,
     "task": false
    }
   },
   "outputs": [],
   "source": [
    "def TraceBezRat(Pc,L):\n",
    "    \"\"\" Pc est un array numpy de dimension(2,n+1) (abscisses et ordonnées des points de contrôle) et L la liste des poids.\n",
    "        La fonction ne renvoie rien.\n",
    "        \"\"\"\n",
    "    t=np.linspace(0,1,100)\n",
    "    # Votre code ici"
   ]
  },
  {
   "cell_type": "markdown",
   "metadata": {
    "deletable": false,
    "editable": false,
    "nbgrader": {
     "cell_type": "markdown",
     "checksum": "af3131726a891f4b762949e7cc29b579",
     "grade": false,
     "grade_id": "cell-f3843b9d58354a13",
     "locked": true,
     "schema_version": 3,
     "solution": false,
     "task": false
    }
   },
   "source": [
    "En appelant TraceBezRat(np.array([Px,Py]),[0.5,4,3,0.7]) Vous devriez obtenir la figure ci-dessous"
   ]
  },
  {
   "cell_type": "markdown",
   "metadata": {
    "deletable": false,
    "editable": false,
    "nbgrader": {
     "cell_type": "markdown",
     "checksum": "0bb4cd744b028cd3c475efc1efccb7d5",
     "grade": false,
     "grade_id": "cell-5bdb2181616f309f",
     "locked": true,
     "schema_version": 3,
     "solution": false,
     "task": false
    }
   },
   "source": [
    "<div>\n",
    "<img src=\"BezierRat.png\" width=\"520\"/>\n",
    "</div>"
   ]
  },
  {
   "cell_type": "markdown",
   "metadata": {
    "deletable": false,
    "editable": false,
    "nbgrader": {
     "cell_type": "markdown",
     "checksum": "cfd327adc2a81851f445442198c65bb0",
     "grade": false,
     "grade_id": "cell-f5114b236095a577",
     "locked": true,
     "schema_version": 3,
     "solution": false,
     "task": false
    }
   },
   "source": [
    "En déduire, en faisant quelques tests, l'effet des poids sur la courbe. Expliquer bièvement dans la cellule ci-dessous."
   ]
  },
  {
   "cell_type": "markdown",
   "metadata": {
    "deletable": false,
    "nbgrader": {
     "cell_type": "markdown",
     "checksum": "19969745d0a00b0347efdfe511a86920",
     "grade": true,
     "grade_id": "cell-b98c2a8c433918bb",
     "locked": false,
     "points": 1,
     "schema_version": 3,
     "solution": true,
     "task": false
    }
   },
   "source": [
    "Votre reponse ici"
   ]
  }
 ],
 "metadata": {
  "kernelspec": {
   "display_name": "Python 3",
   "language": "python",
   "name": "python3"
  },
  "language_info": {
   "codemirror_mode": {
    "name": "ipython",
    "version": 3
   },
   "file_extension": ".py",
   "mimetype": "text/x-python",
   "name": "python",
   "nbconvert_exporter": "python",
   "pygments_lexer": "ipython3",
   "version": "3.13.1"
  }
 },
 "nbformat": 4,
 "nbformat_minor": 4
}
